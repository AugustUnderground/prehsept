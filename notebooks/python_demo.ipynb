{
 "cells": [
  {
   "cell_type": "code",
   "execution_count": null,
   "id": "06c26ec8",
   "metadata": {},
   "outputs": [],
   "source": [
    "import torch as pt"
   ]
  },
  {
   "cell_type": "markdown",
   "id": "f71ad682",
   "metadata": {},
   "source": [
    "## Data Sharing\n",
    "\n",
    "This is to demonstrate data sharing between pytorch and hasktorch through tensors. We start by Storing a tensor from python."
   ]
  },
  {
   "cell_type": "code",
   "execution_count": null,
   "id": "b7846916",
   "metadata": {},
   "outputs": [],
   "source": [
    "t = pt.rand(5,5)"
   ]
  },
  {
   "cell_type": "markdown",
   "id": "33ace0cf",
   "metadata": {},
   "source": [
    "This is what `t` looks like:"
   ]
  },
  {
   "cell_type": "code",
   "execution_count": null,
   "id": "ad1bab2a",
   "metadata": {},
   "outputs": [],
   "source": [
    "t"
   ]
  },
  {
   "cell_type": "markdown",
   "id": "223e0093",
   "metadata": {},
   "source": [
    "Now we're saving this tensor. Checkout `./notebooks/haskell_demo.ipynb` to see how to load it in haskell."
   ]
  },
  {
   "cell_type": "code",
   "execution_count": null,
   "id": "b1fd3a78",
   "metadata": {},
   "outputs": [],
   "source": [
    "pt.save(t, '../data/python.pt')"
   ]
  },
  {
   "cell_type": "markdown",
   "id": "30685c9b",
   "metadata": {},
   "source": [
    "In the haskell demo we've also saved a tensor and we're going to load it here:"
   ]
  },
  {
   "cell_type": "code",
   "execution_count": null,
   "id": "9e4aa847",
   "metadata": {},
   "outputs": [],
   "source": [
    "t_ = pt.load('../data/haskell.pt')"
   ]
  },
  {
   "cell_type": "markdown",
   "id": "b360edaa",
   "metadata": {},
   "source": [
    "And this is what `t_` looks like, feel free to compare it with `t` in `./notebooks/haskell_demo.ipynb`."
   ]
  },
  {
   "cell_type": "code",
   "execution_count": null,
   "id": "dbbb7fb6",
   "metadata": {},
   "outputs": [],
   "source": [
    "t_"
   ]
  }
 ],
 "metadata": {
  "kernelspec": {
   "display_name": "Python 3 (ipykernel)",
   "language": "python",
   "name": "python3"
  },
  "language_info": {
   "codemirror_mode": {
    "name": "ipython",
    "version": 3
   },
   "file_extension": ".py",
   "mimetype": "text/x-python",
   "name": "python",
   "nbconvert_exporter": "python",
   "pygments_lexer": "ipython3",
   "version": "3.9.12"
  }
 },
 "nbformat": 4,
 "nbformat_minor": 5
}
