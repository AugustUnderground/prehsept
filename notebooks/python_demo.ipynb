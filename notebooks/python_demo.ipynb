{
 "cells": [
  {
   "cell_type": "code",
   "execution_count": 1,
   "id": "06c26ec8",
   "metadata": {},
   "outputs": [],
   "source": [
    "import torch as pt"
   ]
  },
  {
   "cell_type": "markdown",
   "id": "f71ad682",
   "metadata": {},
   "source": [
    "## Data Sharing\n",
    "\n",
    "This is to demonstrate data sharing between pytorch and hasktorch through tensors. We start by Storing a tensor from haskell."
   ]
  },
  {
   "cell_type": "code",
   "execution_count": 2,
   "id": "b7846916",
   "metadata": {},
   "outputs": [],
   "source": [
    "t = pt.rand(5,5)"
   ]
  },
  {
   "cell_type": "markdown",
   "id": "33ace0cf",
   "metadata": {},
   "source": [
    "This is what `t` looks like:"
   ]
  },
  {
   "cell_type": "code",
   "execution_count": 3,
   "id": "ad1bab2a",
   "metadata": {},
   "outputs": [
    {
     "data": {
      "text/plain": [
       "tensor([[0.8426, 0.1458, 0.3057, 0.5749, 0.7276],\n",
       "        [0.1080, 0.8330, 0.4903, 0.2236, 0.6254],\n",
       "        [0.5297, 0.0740, 0.1850, 0.2797, 0.4684],\n",
       "        [0.4730, 0.4289, 0.6376, 0.7812, 0.2496],\n",
       "        [0.8264, 0.1159, 0.8183, 0.8947, 0.5075]])"
      ]
     },
     "execution_count": 3,
     "metadata": {},
     "output_type": "execute_result"
    }
   ],
   "source": [
    "t"
   ]
  },
  {
   "cell_type": "markdown",
   "id": "223e0093",
   "metadata": {},
   "source": [
    "Now we're saving this tensor. Checkout `./notebooks/haskell_demo.ipynb` to see how to load it in python."
   ]
  },
  {
   "cell_type": "code",
   "execution_count": 4,
   "id": "b1fd3a78",
   "metadata": {},
   "outputs": [],
   "source": [
    "pt.save(t, '../data/python.pt')"
   ]
  },
  {
   "cell_type": "markdown",
   "id": "30685c9b",
   "metadata": {},
   "source": [
    "In the haskell demo we've also saved a tensor and we're going to load it here:"
   ]
  },
  {
   "cell_type": "code",
   "execution_count": 7,
   "id": "9e4aa847",
   "metadata": {},
   "outputs": [],
   "source": [
    "t_ = pt.load('../data/haskell.pt')"
   ]
  },
  {
   "cell_type": "markdown",
   "id": "b360edaa",
   "metadata": {},
   "source": [
    "And this is what `t_` looks like, feel free to compare it with `t` in `./notebooks/haskell_demo.ipynb`."
   ]
  },
  {
   "cell_type": "code",
   "execution_count": 8,
   "id": "dbbb7fb6",
   "metadata": {},
   "outputs": [
    {
     "data": {
      "text/plain": [
       "tensor([[0.6721, 0.7659, 0.7016, 0.7699, 0.3750],\n",
       "        [0.6966, 0.8591, 0.8183, 0.8358, 0.4707],\n",
       "        [0.8630, 0.0515, 0.1397, 0.5213, 0.1944],\n",
       "        [0.9456, 0.4295, 0.5362, 0.0417, 0.9804],\n",
       "        [0.7110, 0.9819, 0.7900, 0.9747, 0.2861]])"
      ]
     },
     "execution_count": 8,
     "metadata": {},
     "output_type": "execute_result"
    }
   ],
   "source": [
    "t_"
   ]
  }
 ],
 "metadata": {
  "kernelspec": {
   "display_name": "Python 3 (ipykernel)",
   "language": "python",
   "name": "python3"
  },
  "language_info": {
   "codemirror_mode": {
    "name": "ipython",
    "version": 3
   },
   "file_extension": ".py",
   "mimetype": "text/x-python",
   "name": "python",
   "nbconvert_exporter": "python",
   "pygments_lexer": "ipython3",
   "version": "3.9.7"
  }
 },
 "nbformat": 4,
 "nbformat_minor": 5
}
