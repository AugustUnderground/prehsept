{
 "cells": [
  {
   "cell_type": "code",
   "execution_count": 1,
   "id": "87b98e5a",
   "metadata": {},
   "outputs": [],
   "source": [
    "import torch as pt"
   ]
  },
  {
   "cell_type": "markdown",
   "id": "d4c298b2",
   "metadata": {},
   "source": [
    "## Data Sharing\n",
    "\n",
    "This is to demonstrate data sharing between pytorch and hasktorch through tensors. We start by Storing a tensor from haskell."
   ]
  },
  {
   "cell_type": "code",
   "execution_count": 2,
   "id": "2a296c1a",
   "metadata": {},
   "outputs": [],
   "source": [
    "t = pt.rand(5,5)"
   ]
  },
  {
   "cell_type": "markdown",
   "id": "d18e9127",
   "metadata": {},
   "source": [
    "This is what `t` looks like:"
   ]
  },
  {
   "cell_type": "code",
   "execution_count": 3,
   "id": "5fa6b287",
   "metadata": {},
   "outputs": [
    {
     "data": {
      "text/plain": [
       "tensor([[0.5535, 0.3584, 0.4002, 0.0666, 0.5081],\n",
       "        [0.1874, 0.8642, 0.0796, 0.2502, 0.5192],\n",
       "        [0.8199, 0.7067, 0.0844, 0.4969, 0.0307],\n",
       "        [0.9054, 0.4836, 0.5017, 0.0689, 0.9470],\n",
       "        [0.7488, 0.9479, 0.9561, 0.8072, 0.9845]])"
      ]
     },
     "execution_count": 3,
     "metadata": {},
     "output_type": "execute_result"
    }
   ],
   "source": [
    "t"
   ]
  },
  {
   "cell_type": "markdown",
   "id": "425e372a",
   "metadata": {},
   "source": [
    "Now we're saving this tensor. Checkout `./notebooks/haskell_demo.ipynb` to see how to load it in python."
   ]
  },
  {
   "cell_type": "code",
   "execution_count": 4,
   "id": "5c7b737f",
   "metadata": {},
   "outputs": [],
   "source": [
    "pt.save(t, '../data/python.pt')"
   ]
  },
  {
   "cell_type": "markdown",
   "id": "8b240ceb",
   "metadata": {},
   "source": [
    "In the haskell demo we've also saved a tensor and we're going to load it here:"
   ]
  },
  {
   "cell_type": "code",
   "execution_count": 5,
   "id": "fcff1e5e",
   "metadata": {},
   "outputs": [],
   "source": [
    "t_ = pt.load('../data/haskell.pt')"
   ]
  },
  {
   "cell_type": "markdown",
   "id": "e96c2921",
   "metadata": {},
   "source": [
    "And this is what t'' looks like, feel free to compare it with t in ./notebooks/python_demo.ipynb."
   ]
  }
 ],
 "metadata": {
  "kernelspec": {
   "display_name": "Python 3 (ipykernel)",
   "language": "python",
   "name": "python3"
  },
  "language_info": {
   "codemirror_mode": {
    "name": "ipython",
    "version": 3
   },
   "file_extension": ".py",
   "mimetype": "text/x-python",
   "name": "python",
   "nbconvert_exporter": "python",
   "pygments_lexer": "ipython3",
   "version": "3.9.7"
  }
 },
 "nbformat": 4,
 "nbformat_minor": 5
}
