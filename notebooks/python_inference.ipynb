{
 "cells": [
  {
   "cell_type": "code",
   "execution_count": 1,
   "id": "b6fd3c0c",
   "metadata": {},
   "outputs": [],
   "source": [
    "%matplotlib inline"
   ]
  },
  {
   "cell_type": "markdown",
   "id": "3e94faae",
   "metadata": {},
   "source": [
    "## Model Inference\n",
    "\n",
    "Here we show how to load a model for inference"
   ]
  },
  {
   "cell_type": "code",
   "execution_count": 2,
   "id": "89faf8cf",
   "metadata": {},
   "outputs": [],
   "source": [
    "import torch as pt\n",
    "import pandas as pd\n",
    "import numpy as np\n",
    "from matplotlib import pyplot as plt"
   ]
  },
  {
   "cell_type": "markdown",
   "id": "b83f7fb0",
   "metadata": {},
   "source": [
    "Models trained with `prehsept` can be loaded as torch script modules:"
   ]
  },
  {
   "cell_type": "code",
   "execution_count": 3,
   "id": "ff803686",
   "metadata": {},
   "outputs": [],
   "source": [
    "model = pt.jit.load('../models/gpdk180/nmos-20220902-092231/trace.pt')"
   ]
  },
  {
   "cell_type": "markdown",
   "id": "4a78ed7c",
   "metadata": {},
   "source": [
    "For comparison we will load the training data:"
   ]
  },
  {
   "cell_type": "code",
   "execution_count": 4,
   "id": "8b866ce7",
   "metadata": {},
   "outputs": [],
   "source": [
    "df = pd.DataFrame( pt.load('../data/gpdk180-nmos.pt').numpy()\n",
    "                 , columns =  [ 'vg', 'W', 'L', 'M', 'temp'\n",
    "                              , 'M0:pwr', 'M0:region', 'M0:vgs', 'M0:vds', 'M0:vbs', 'M0:vth'\n",
    "                              , 'M0:vdsat', 'M0:gm', 'M0:gds', 'M0:gmbs', 'M0:betaeff'\n",
    "                              , 'M0:cgg', 'M0:cgd', 'M0:cgs', 'M0:cgb'\n",
    "                              , 'M0:cdg', 'M0:cdd', 'M0:cds', 'M0:cdb'\n",
    "                              , 'M0:csg', 'M0:csd', 'M0:css', 'M0:csb'\n",
    "                              , 'M0:cbg', 'M0:cbd', 'M0:cbs', 'M0:cbb'\n",
    "                              , 'M0:ron', 'M0:id', 'M0:gmoverid', 'M0:self_gain', 'M0:rout'\n",
    "                              , 'M0:fug', 'M0:vearly', 'D', 'G', 'S', 'B'\n",
    "                              , 'VB:p', 'VD:p', 'VG:p', 'VS:p' ])"
   ]
  },
  {
   "cell_type": "markdown",
   "id": "79b5336b",
   "metadata": {},
   "source": [
    "We'll choose a random width ($W$) and length ($L$) from the dataset:"
   ]
  },
  {
   "cell_type": "code",
   "execution_count": 5,
   "id": "1c249a3c",
   "metadata": {},
   "outputs": [],
   "source": [
    "W   = np.random.choice(df.W.unique())\n",
    "L   = np.random.choice(df.L.unique())\n",
    "Vdd = np.max(np.abs(df['M0:vds']))"
   ]
  },
  {
   "cell_type": "code",
   "execution_count": 6,
   "id": "035e7780",
   "metadata": {},
   "outputs": [],
   "source": [
    "Vbs = round(df['M0:vbs'], ndigits = 2)\n",
    "Vgs = round(df['M0:vgs'], ndigits = 2)\n",
    "Vds = round(df['M0:vds'], ndigits = 2)"
   ]
  },
  {
   "cell_type": "code",
   "execution_count": 7,
   "id": "71587ca3",
   "metadata": {},
   "outputs": [],
   "source": [
    "traces = df[ (df.W == W) & (df.L == L )\n",
    "           & (df['M0:vbs'] == 0.0) \n",
    "           & (df['M0:vds'] == (Vdd / 2.0)) \n",
    "           ][['M0:gmoverid', 'M0:fug', 'M0:vds', 'M0:vbs'\n",
    "             , 'M0:id', 'W', 'L', 'M0:gm', 'M0:gds', 'M0:vgs' ]]"
   ]
  },
  {
   "cell_type": "markdown",
   "id": "e061271e",
   "metadata": {},
   "source": [
    "Next we will get the model inputs from the trace as torch tensor:"
   ]
  },
  {
   "cell_type": "code",
   "execution_count": 8,
   "id": "9ee009ef",
   "metadata": {},
   "outputs": [],
   "source": [
    "x = pt.from_numpy(traces[['M0:gmoverid', 'M0:fug', 'M0:vds', 'M0:vbs']].values)"
   ]
  },
  {
   "cell_type": "markdown",
   "id": "ad04b606",
   "metadata": {},
   "source": [
    "... and feed it through the model"
   ]
  },
  {
   "cell_type": "code",
   "execution_count": 9,
   "id": "a472dda2",
   "metadata": {},
   "outputs": [],
   "source": [
    "y = model(x)"
   ]
  },
  {
   "cell_type": "markdown",
   "id": "7ca958fe",
   "metadata": {},
   "source": [
    "Now we extract the results and compare them with the original data:"
   ]
  },
  {
   "cell_type": "code",
   "execution_count": 10,
   "id": "38a6e4b1",
   "metadata": {},
   "outputs": [],
   "source": [
    "true_gmoverid = (traces['M0:gmoverid']).values\n",
    "true_idoverw  = (traces['M0:id'] / traces['W']).values\n",
    "true_gdsoverw = (traces['M0:gds'] / traces['W']).values\n",
    "true_L        = traces['L'].values\n",
    "\n",
    "pred_gmoverid = x[:,0].numpy()\n",
    "pred_idoverw  = y[:,0].numpy()\n",
    "pred_gdsoverw = y[:,2].numpy()\n",
    "pred_L_       = y[:,1].numpy()\n",
    "\n",
    "L_μ           = np.mean(pred_L_)\n",
    "L_σ           = np.std(pred_L_)\n",
    "L_hi          = df.L.max()\n",
    "L_lo          = df.L.min()\n",
    "pred_L        = np.repeat(L_μ, true_L.size)"
   ]
  },
  {
   "cell_type": "code",
   "execution_count": 11,
   "id": "988c2533",
   "metadata": {},
   "outputs": [
    {
     "data": {
      "image/png": "[encoded data removed]",
      "text/plain": [
       "<Figure size 1152x288 with 3 Axes>"
      ]
     },
     "metadata": {
      "needs_background": "light"
     },
     "output_type": "display_data"
    }
   ],
   "source": [
    "fig, (ax1, ax2, ax3) = plt.subplots(1, 3, figsize = (16,4))\n",
    "fig.suptitle(f'Observations @ $L = {L:2e}\\,m$ and $W = {W:2e}\\,m$')\n",
    "ax1.plot(true_gmoverid, true_idoverw, label = 'Observation')\n",
    "ax1.plot(true_gmoverid, pred_idoverw, label = \"Prediction\")\n",
    "ax1.set_xlabel(\"$g_{m} / I_{d} ~ [V^{-1}]$\")\n",
    "ax1.set_ylabel(\"$I_{d} / W ~ [A/m]$\")\n",
    "ax1.set_yscale(\"log\")\n",
    "ax1.legend()\n",
    "ax1.grid(\"on\")\n",
    "ax2.plot(true_gmoverid, true_gdsoverw, label = \"Observation\")\n",
    "ax2.plot(true_gmoverid, pred_gdsoverw, label = \"Prediction\")\n",
    "ax2.set_xlabel(\"$g_{m} / I_{d} ~ [V^{-1}]$\")\n",
    "ax2.set_ylabel(\"$g_{ds} / W$ [S/m]\")\n",
    "ax2.set_yscale(\"log\")\n",
    "ax2.legend()\n",
    "ax2.grid(\"on\")\n",
    "ax3.plot(true_gmoverid, true_L, label = \"Observation\")\n",
    "ax3.plot(true_gmoverid, pred_L, label = \"Prediction\")\n",
    "ax3.fill_between( true_gmoverid, (pred_L + (3 * L_σ)), (pred_L - (3 * L_σ))\n",
    "                , alpha = 0.3, color = \"tab:orange\", label = \"Uncertainty\")\n",
    "ax3.ticklabel_format(axis = 'both', style = 'sci', scilimits = (-2,2))\n",
    "ax3.set_xlabel(\"$g_{m} / I_{d} ~ [V^{-1}]$\")\n",
    "ax3.set_ylabel(\"$L$ [m]\")\n",
    "ax3.set_ylim(L_lo, L_hi)\n",
    "ax3.set_yscale(\"log\")\n",
    "ax3.legend()\n",
    "ax3.grid(\"on\")"
   ]
  }
 ],
 "metadata": {
  "kernelspec": {
   "display_name": "Python 3 (ipykernel)",
   "language": "python",
   "name": "python3"
  },
  "language_info": {
   "codemirror_mode": {
    "name": "ipython",
    "version": 3
   },
   "file_extension": ".py",
   "mimetype": "text/x-python",
   "name": "python",
   "nbconvert_exporter": "python",
   "pygments_lexer": "ipython3",
   "version": "3.9.12"
  }
 },
 "nbformat": 4,
 "nbformat_minor": 5
}
