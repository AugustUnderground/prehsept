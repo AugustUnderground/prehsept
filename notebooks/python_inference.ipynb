{
 "cells": [
  {
   "cell_type": "code",
   "execution_count": 1,
   "id": "b6fd3c0c",
   "metadata": {},
   "outputs": [],
   "source": [
    "%matplotlib inline"
   ]
  },
  {
   "cell_type": "markdown",
   "id": "3e94faae",
   "metadata": {},
   "source": [
    "## Model Inference\n",
    "\n",
    "Here we show how to load a model for inference"
   ]
  },
  {
   "cell_type": "code",
   "execution_count": 2,
   "id": "89faf8cf",
   "metadata": {},
   "outputs": [],
   "source": [
    "import torch as pt\n",
    "import pandas as pd\n",
    "import numpy as np\n",
    "from matplotlib import pyplot as plt"
   ]
  },
  {
   "cell_type": "markdown",
   "id": "b83f7fb0",
   "metadata": {},
   "source": [
    "Models trained with `prehsept` can be loaded as torch script modules:"
   ]
  },
  {
   "cell_type": "code",
   "execution_count": 3,
   "id": "ff803686",
   "metadata": {},
   "outputs": [],
   "source": [
    "model = pt.jit.load('../models/gpdk180/nmos-20230317-114127/nmos.pt')"
   ]
  },
  {
   "cell_type": "markdown",
   "id": "4a78ed7c",
   "metadata": {},
   "source": [
    "For comparison we will load the training data:"
   ]
  },
  {
   "cell_type": "code",
   "execution_count": 4,
   "id": "8b866ce7",
   "metadata": {},
   "outputs": [],
   "source": [
    "df = pd.DataFrame( pt.load('../data/gpdk180-nmos.pt').numpy()\n",
    "                 , columns =  [ 'W','L','M','temp','region'\n",
    "                               ,'vgs','vds','vbs','vth','vdsat','vearly'\n",
    "                               ,'gm','gds','gmbs','self_gain','ron','rout'\n",
    "                               ,'id','gmoverid','fug','betaeff','pwr'\n",
    "                               ,'cgg','cgd','cgs','cgb'\n",
    "                               ,'cdg','cdd','cds','cdb'\n",
    "                               ,'csg','csd','css','csb'\n",
    "                               ,'cbg','cbd','cbs','cbb'])"
   ]
  },
  {
   "cell_type": "markdown",
   "id": "79b5336b",
   "metadata": {},
   "source": [
    "There is only one $W$ in the Data Set and we'll choose a random $L$:"
   ]
  },
  {
   "cell_type": "code",
   "execution_count": 5,
   "id": "1c249a3c",
   "metadata": {},
   "outputs": [],
   "source": [
    "W   = df.W[0]\n",
    "L   = np.random.choice(df.L.unique())\n",
    "Vdd = np.max(np.abs(df['vds']))"
   ]
  },
  {
   "cell_type": "code",
   "execution_count": 6,
   "id": "035e7780",
   "metadata": {},
   "outputs": [],
   "source": [
    "Vbs = round(df['vbs'], ndigits = 2)\n",
    "Vgs = round(df['vgs'], ndigits = 2)\n",
    "Vds = round(df['vds'], ndigits = 2)"
   ]
  },
  {
   "cell_type": "code",
   "execution_count": 7,
   "id": "71587ca3",
   "metadata": {},
   "outputs": [],
   "source": [
    "traces = df[ (df.W == W) & (df.L == L )\n",
    "           & (df['vbs'] == 0.0) \n",
    "           & (df['vds'] == (Vdd / 2.0))\n",
    "           & (df['gmoverid'] >= 5.0)\n",
    "           & (df['gmoverid'] <= 15.0)\n",
    "           ][['id', 'gmoverid', 'fug', 'vds', 'vbs', 'W', 'L']]"
   ]
  },
  {
   "cell_type": "markdown",
   "id": "e061271e",
   "metadata": {},
   "source": [
    "Next we will get the model inputs from the trace as torch tensor:"
   ]
  },
  {
   "cell_type": "code",
   "execution_count": 8,
   "id": "9ee009ef",
   "metadata": {},
   "outputs": [],
   "source": [
    "x = pt.from_numpy(traces[['id', 'gmoverid', 'fug', 'vds', 'vbs']].values)"
   ]
  },
  {
   "cell_type": "markdown",
   "id": "ad04b606",
   "metadata": {},
   "source": [
    "... and feed it through the model"
   ]
  },
  {
   "cell_type": "code",
   "execution_count": 9,
   "id": "a472dda2",
   "metadata": {},
   "outputs": [],
   "source": [
    "y = model(x)"
   ]
  },
  {
   "cell_type": "markdown",
   "id": "7ca958fe",
   "metadata": {},
   "source": [
    "Now we extract the results and compare them with the original data:"
   ]
  },
  {
   "cell_type": "code",
   "execution_count": 10,
   "id": "38a6e4b1",
   "metadata": {},
   "outputs": [],
   "source": [
    "true_gmoverid = (traces['gmoverid']).values\n",
    "true_id       = (traces['id']).values\n",
    "true_idoverw  = (traces['id'] / traces['W']).values\n",
    "true_L        = traces['L'].values\n",
    "true_W        = traces['W'].values\n",
    "\n",
    "pred_W_       = y[:,0].numpy()\n",
    "pred_L_       = y[:,1].numpy()\n",
    "pred_idoverw  = true_id / pred_W_\n",
    "\n",
    "L_μ           = np.mean(pred_L_)\n",
    "L_σ           = np.std(pred_L_)\n",
    "L_hi          = df.L.max()\n",
    "L_lo          = df.L.min()\n",
    "pred_L        = np.repeat(L_μ, true_L.size)\n",
    "\n",
    "W_μ           = np.mean(pred_W_)\n",
    "W_σ           = np.std(pred_W_)\n",
    "W_hi          = df.W.max()\n",
    "W_lo          = df.W.min()\n",
    "pred_W        = np.repeat(W_μ, true_W.size)"
   ]
  },
  {
   "cell_type": "code",
   "execution_count": 11,
   "id": "988c2533",
   "metadata": {},
   "outputs": [
    {
     "data": {
      "image/png": "[encoded data removed]",
      "text/plain": [
       "<Figure size 864x288 with 2 Axes>"
      ]
     },
     "metadata": {
      "needs_background": "light"
     },
     "output_type": "display_data"
    }
   ],
   "source": [
    "fig, (ax1, ax2) = plt.subplots(1, 2, figsize = (12,4))\n",
    "\n",
    "ax1.plot(true_gmoverid, true_W, label = \"Observation\")\n",
    "ax1.plot(true_gmoverid, pred_W, label = \"Prediction\")\n",
    "ax1.fill_between( true_gmoverid, (pred_W + (3 * W_σ)), (pred_W - (3 * W_σ))\n",
    "                , alpha = 0.3, color = \"tab:orange\", label = \"Uncertainty\")\n",
    "ax1.ticklabel_format(axis = 'both', style = 'sci', scilimits = (-2,2))\n",
    "ax1.set_xlabel(\"$g_{m} / I_{d} ~ [V^{-1}]$\")\n",
    "ax1.set_ylabel(\"$W$ [m]\")\n",
    "#ax1.set_ylim(W_lo, W_hi)\n",
    "ax1.set_yscale(\"log\")\n",
    "ax1.legend()\n",
    "ax1.grid(\"on\")\n",
    "\n",
    "ax2.plot(true_gmoverid, true_L, label = \"Observation\")\n",
    "ax2.plot(true_gmoverid, pred_L, label = \"Prediction\")\n",
    "ax2.fill_between( true_gmoverid, (pred_L + (3 * L_σ)), (pred_L - (3 * L_σ))\n",
    "                , alpha = 0.3, color = \"tab:orange\", label = \"Uncertainty\")\n",
    "ax2.ticklabel_format(axis = 'both', style = 'sci', scilimits = (-2,2))\n",
    "ax2.set_xlabel(\"$g_{m} / I_{d} ~ [V^{-1}]$\")\n",
    "ax2.set_ylabel(\"$L$ [m]\")\n",
    "ax2.set_ylim(L_lo, L_hi)\n",
    "ax2.set_yscale(\"log\")\n",
    "ax2.legend()\n",
    "ax2.grid(\"on\")"
   ]
  },
  {
   "cell_type": "code",
   "execution_count": null,
   "id": "1624788d-a2e2-44f0-8354-9ab500ccb8e1",
   "metadata": {},
   "outputs": [],
   "source": []
  }
 ],
 "metadata": {
  "kernelspec": {
   "display_name": "Python 3 (ipykernel)",
   "language": "python",
   "name": "python3"
  },
  "language_info": {
   "codemirror_mode": {
    "name": "ipython",
    "version": 3
   },
   "file_extension": ".py",
   "mimetype": "text/x-python",
   "name": "python",
   "nbconvert_exporter": "python",
   "pygments_lexer": "ipython3",
   "version": "3.9.12"
  }
 },
 "nbformat": 4,
 "nbformat_minor": 5
}
