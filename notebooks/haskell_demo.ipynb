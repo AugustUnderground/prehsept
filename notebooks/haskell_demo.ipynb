{
 "cells": [
  {
   "cell_type": "code",
   "execution_count": 1,
   "id": "8ad8f7b7",
   "metadata": {},
   "outputs": [],
   "source": [
    "import qualified Torch as T"
   ]
  },
  {
   "cell_type": "markdown",
   "id": "eed378db",
   "metadata": {},
   "source": [
    "## Data Sharing\n",
    "\n",
    "This is to demonstrate data sharing between pytorch and hasktorch through tensors. We start by Storing a tensor from haskell."
   ]
  },
  {
   "cell_type": "code",
   "execution_count": 2,
   "id": "d3c7cea4",
   "metadata": {},
   "outputs": [
    {
     "data": {
      "text/plain": []
     },
     "metadata": {},
     "output_type": "display_data"
    }
   ],
   "source": [
    "t <- T.randIO' [5,5]"
   ]
  },
  {
   "cell_type": "markdown",
   "id": "fddb4b35",
   "metadata": {},
   "source": [
    "This is what `t` looks like:"
   ]
  },
  {
   "cell_type": "code",
   "execution_count": 3,
   "id": "b0465262",
   "metadata": {},
   "outputs": [
    {
     "data": {
      "text/plain": [
       "Tensor Float [5,5] [[ 0.7117   ,  0.5223   ,  0.7843   ,  0.4549   ,  0.7324   ],\n",
       "                    [ 0.7582   ,  0.2355   ,  0.3036   ,  0.4274   ,  0.3964   ],\n",
       "                    [ 0.5036   ,  8.2117e-3,  0.1428   ,  0.5100   ,  0.5493   ],\n",
       "                    [ 0.3407   ,  0.4605   ,  0.9269   ,  0.6507   ,  0.8457   ],\n",
       "                    [ 2.5779e-2,  0.5546   ,  0.2769   ,  0.4962   ,  0.8339   ]]"
      ]
     },
     "metadata": {},
     "output_type": "display_data"
    }
   ],
   "source": [
    "t"
   ]
  },
  {
   "cell_type": "markdown",
   "id": "05b565c1",
   "metadata": {},
   "source": [
    "Now we're saving this tensor. Checkout `./notebooks/python_demo.ipynb` to see how to load it in python."
   ]
  },
  {
   "cell_type": "code",
   "execution_count": 5,
   "id": "1ee5887f",
   "metadata": {},
   "outputs": [],
   "source": [
    "t' = T.IVTensor t\n",
    "T.pickleSave t' \"../data/haskell.pt\""
   ]
  },
  {
   "cell_type": "markdown",
   "id": "f05b8817",
   "metadata": {},
   "source": [
    "In the python demo we've also saved a tensor and we're going to load it here:"
   ]
  },
  {
   "cell_type": "code",
   "execution_count": 6,
   "id": "12ef065c",
   "metadata": {},
   "outputs": [],
   "source": [
    "T.IVTensor t'' <- T.pickleLoad \"../data/python.pt\""
   ]
  },
  {
   "cell_type": "markdown",
   "id": "56219a9e",
   "metadata": {},
   "source": [
    "And this is what `t''` looks like, feel free to compare it with `t` in `./notebooks/python_demo.ipynb`."
   ]
  },
  {
   "cell_type": "code",
   "execution_count": 7,
   "id": "b8a8cb6c",
   "metadata": {},
   "outputs": [
    {
     "data": {
      "text/plain": [
       "Tensor Float [5,5] [[ 0.5535   ,  0.3584   ,  0.4002   ,  6.6561e-2,  0.5081   ],\n",
       "                    [ 0.1874   ,  0.8642   ,  7.9634e-2,  0.2502   ,  0.5192   ],\n",
       "                    [ 0.8199   ,  0.7067   ,  8.4399e-2,  0.4969   ,  3.0731e-2],\n",
       "                    [ 0.9054   ,  0.4836   ,  0.5017   ,  6.8883e-2,  0.9470   ],\n",
       "                    [ 0.7488   ,  0.9479   ,  0.9561   ,  0.8072   ,  0.9845   ]]"
      ]
     },
     "metadata": {},
     "output_type": "display_data"
    }
   ],
   "source": [
    "t''"
   ]
  }
 ],
 "metadata": {
  "kernelspec": {
   "display_name": "Haskell",
   "language": "haskell",
   "name": "haskell"
  },
  "language_info": {
   "codemirror_mode": "ihaskell",
   "file_extension": ".hs",
   "mimetype": "text/x-haskell",
   "name": "haskell",
   "pygments_lexer": "Haskell",
   "version": "8.10.4"
  }
 },
 "nbformat": 4,
 "nbformat_minor": 5
}
