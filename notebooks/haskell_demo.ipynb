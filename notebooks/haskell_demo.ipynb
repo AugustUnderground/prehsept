{
 "cells": [
  {
   "cell_type": "code",
   "execution_count": 1,
   "id": "8ad8f7b7",
   "metadata": {},
   "outputs": [],
   "source": [
    "import qualified Torch as T"
   ]
  },
  {
   "cell_type": "markdown",
   "id": "2f2d64ad",
   "metadata": {},
   "source": [
    "## Data Sharing\n",
    "\n",
    "This is to demonstrate data sharing between pytorch and hasktorch through tensors. We start by Storing a tensor from haskell."
   ]
  },
  {
   "cell_type": "code",
   "execution_count": 2,
   "id": "f42913bd",
   "metadata": {},
   "outputs": [
    {
     "data": {
      "text/plain": []
     },
     "metadata": {},
     "output_type": "display_data"
    }
   ],
   "source": [
    "t <- T.randIO' [5,5]"
   ]
  },
  {
   "cell_type": "markdown",
   "id": "70b76902",
   "metadata": {},
   "source": [
    "This is what `t` looks like:"
   ]
  },
  {
   "cell_type": "code",
   "execution_count": 3,
   "id": "6a302c8d",
   "metadata": {},
   "outputs": [
    {
     "data": {
      "text/plain": [
       "Tensor Float [5,5] [[ 0.6721   ,  0.7659   ,  0.7016   ,  0.7699   ,  0.3750   ],\n",
       "                    [ 0.6966   ,  0.8591   ,  0.8183   ,  0.8358   ,  0.4707   ],\n",
       "                    [ 0.8630   ,  5.1472e-2,  0.1397   ,  0.5213   ,  0.1944   ],\n",
       "                    [ 0.9456   ,  0.4295   ,  0.5362   ,  4.1682e-2,  0.9804   ],\n",
       "                    [ 0.7110   ,  0.9819   ,  0.7900   ,  0.9747   ,  0.2861   ]]"
      ]
     },
     "metadata": {},
     "output_type": "display_data"
    }
   ],
   "source": [
    "t"
   ]
  },
  {
   "cell_type": "markdown",
   "id": "362964b2",
   "metadata": {},
   "source": [
    "Now we're saving this tensor. Checkout `./notebooks/python_demo.ipynb` to see how to load it in python."
   ]
  },
  {
   "cell_type": "code",
   "execution_count": 4,
   "id": "a032c32e",
   "metadata": {},
   "outputs": [],
   "source": [
    "t' = T.IVTensor t\n",
    "T.pickleSave t' \"../data/haskell.pt\""
   ]
  },
  {
   "cell_type": "markdown",
   "id": "7d858425",
   "metadata": {},
   "source": [
    "In the python demo we've also saved a tensor and we're going to load it here:"
   ]
  },
  {
   "cell_type": "code",
   "execution_count": 5,
   "id": "ae9df92a",
   "metadata": {},
   "outputs": [],
   "source": [
    "T.IVTensor t'' <- T.pickleLoad \"../data/python.pt\""
   ]
  },
  {
   "cell_type": "markdown",
   "id": "4f27e29c",
   "metadata": {},
   "source": [
    "And this is what `t''` looks like, feel free to compare it with `t` in `./notebooks/python_demo.ipynb`."
   ]
  },
  {
   "cell_type": "code",
   "execution_count": 6,
   "id": "258c4673",
   "metadata": {},
   "outputs": [
    {
     "data": {
      "text/plain": [
       "Tensor Float [5,5] [[ 0.8426   ,  0.1458   ,  0.3057   ,  0.5749   ,  0.7276   ],\n",
       "                    [ 0.1080   ,  0.8330   ,  0.4903   ,  0.2236   ,  0.6254   ],\n",
       "                    [ 0.5297   ,  7.4026e-2,  0.1850   ,  0.2797   ,  0.4684   ],\n",
       "                    [ 0.4730   ,  0.4289   ,  0.6376   ,  0.7812   ,  0.2496   ],\n",
       "                    [ 0.8264   ,  0.1159   ,  0.8183   ,  0.8947   ,  0.5075   ]]"
      ]
     },
     "metadata": {},
     "output_type": "display_data"
    }
   ],
   "source": [
    "t''"
   ]
  }
 ],
 "metadata": {
  "kernelspec": {
   "display_name": "Haskell",
   "language": "haskell",
   "name": "haskell"
  },
  "language_info": {
   "codemirror_mode": "ihaskell",
   "file_extension": ".hs",
   "mimetype": "text/x-haskell",
   "name": "haskell",
   "pygments_lexer": "Haskell",
   "version": "8.10.4"
  }
 },
 "nbformat": 4,
 "nbformat_minor": 5
}
