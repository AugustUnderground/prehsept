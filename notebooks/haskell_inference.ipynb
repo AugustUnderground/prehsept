{
 "cells": [
  {
   "cell_type": "code",
   "execution_count": 1,
   "id": "7272e480",
   "metadata": {},
   "outputs": [],
   "source": [
    ":set -XPackageImports\n",
    ":set -XOverloadedStrings"
   ]
  },
  {
   "cell_type": "markdown",
   "id": "a803bd05",
   "metadata": {},
   "source": [
    "## Model Inference\n",
    "\n",
    "Here we will show how to load a trained model and use it for inference on raw data."
   ]
  },
  {
   "cell_type": "code",
   "execution_count": 2,
   "id": "6f3c68b7",
   "metadata": {},
   "outputs": [],
   "source": [
    "import Prelude hiding (round)\n",
    "import Graphics.Vega.VegaLite\n",
    "import qualified Torch as T\n",
    "import Data.Frame as DF\n",
    "import \"prehsept\" Lib"
   ]
  },
  {
   "cell_type": "markdown",
   "id": "80ac3c95",
   "metadata": {},
   "source": [
    "Models trained with `prehsept` can be loaded as torch script modules:"
   ]
  },
  {
   "cell_type": "code",
   "execution_count": 3,
   "id": "ecba1c82",
   "metadata": {},
   "outputs": [],
   "source": [
    "pdk       = GPDK180\n",
    "dev       = NMOS\n",
    "timeStamp = \"20220902-092231\" -- NMOS\n",
    "-- timeStamp = \"20220720-135609\" -- PMOS\n",
    "modelPath = \"../models/\" ++ show pdk ++ \"/\" ++ show dev ++ \"-\" ++ timeStamp ++ \"/trace.pt\""
   ]
  },
  {
   "cell_type": "code",
   "execution_count": 4,
   "id": "2de02f79",
   "metadata": {},
   "outputs": [
    {
     "data": {
      "text/plain": []
     },
     "metadata": {},
     "output_type": "display_data"
    }
   ],
   "source": [
    "model' <- T.loadScript T.WithoutRequiredGrad modelPath\n",
    "\n",
    "model x = y \n",
    "  where\n",
    "    T.IVTensor y = T.forward model' [T.IVTensor x]"
   ]
  },
  {
   "cell_type": "markdown",
   "id": "15529f0b",
   "metadata": {},
   "source": [
    "For comparison we will load the training data:"
   ]
  },
  {
   "cell_type": "code",
   "execution_count": 5,
   "id": "ac162461",
   "metadata": {},
   "outputs": [
    {
     "data": {
      "text/plain": []
     },
     "metadata": {},
     "output_type": "display_data"
    }
   ],
   "source": [
    "df <- DF.fromFile $ \"../data/\" ++ show pdk ++\"-\" ++ show dev ++ \".pt\""
   ]
  },
  {
   "cell_type": "markdown",
   "id": "d2e55ada",
   "metadata": {},
   "source": [
    "We'll choose a random width ($W$) and length ($L$) from the dataset:"
   ]
  },
  {
   "cell_type": "code",
   "execution_count": 6,
   "id": "2a83719d",
   "metadata": {},
   "outputs": [],
   "source": [
    "(ws, _, _) = T.uniqueDim 0 False False False $ df ?? \"W\"\n",
    "(ls, _, _) = T.uniqueDim 0 False False False $ df ?? \"L\""
   ]
  },
  {
   "cell_type": "code",
   "execution_count": 7,
   "id": "18df31ad",
   "metadata": {},
   "outputs": [
    {
     "data": {
      "text/plain": []
     },
     "metadata": {},
     "output_type": "display_data"
    }
   ],
   "source": [
    "choicesW <- T.multinomialIO (T.arange' 0 (head $ T.shape ws) 1) 1 False\n",
    "w = T.squeezeAll $ T.indexSelect 0 choicesW ws\n",
    "\n",
    "choicesL <- T.multinomialIO (T.arange' 0 (head $ T.shape ls) 1) 1 False\n",
    "l = T.squeezeAll $ T.indexSelect 0 choicesL ls\n",
    "\n",
    "vdd = T.squeezeAll . fst . T.maxDim (T.Dim 0) T.RemoveDim $ df ?? \"vds\""
   ]
  },
  {
   "cell_type": "code",
   "execution_count": 8,
   "id": "89224829",
   "metadata": {},
   "outputs": [],
   "source": [
    "vbs = round 2 $ df ?? \"vbs\"\n",
    "vgs = round 2 $ df ?? \"vgs\"\n",
    "vds = round 2 $ df ?? \"vds\""
   ]
  },
  {
   "cell_type": "code",
   "execution_count": 9,
   "id": "038346cf",
   "metadata": {},
   "outputs": [],
   "source": [
    "traces = DF.sort False \"gmoverid\" \n",
    "       . DF.lookup [ \"gmoverid\", \"fug\", \"vds\", \"vbs\"\n",
    "                   , \"id\", \"W\", \"L\", \"gm\", \"gds\", \"vgs\" ]\n",
    "       . DF.rowFilter ( T.logicalAnd ((df ?? \"W\") `T.eq` w)\n",
    "                      . T.logicalAnd ((df ?? \"L\") `T.eq` l)\n",
    "                      . T.logicalAnd (vbs `T.eq` 0.0)\n",
    "                      $ (vds `T.eq` (vdd / 2.0))) \n",
    "       $ df"
   ]
  },
  {
   "cell_type": "markdown",
   "id": "15de15e0",
   "metadata": {},
   "source": [
    "Next we will get the model inputs from the trace as torch tensor:"
   ]
  },
  {
   "cell_type": "code",
   "execution_count": 10,
   "id": "5f9eeb54",
   "metadata": {},
   "outputs": [],
   "source": [
    "x = DF.values . DF.lookup [\"gmoverid\", \"fug\", \"vds\", \"vbs\"]  $ traces"
   ]
  },
  {
   "cell_type": "markdown",
   "id": "cffc9f66",
   "metadata": {},
   "source": [
    "... and feed it through the model"
   ]
  },
  {
   "cell_type": "code",
   "execution_count": 11,
   "id": "2dc45e0f",
   "metadata": {},
   "outputs": [],
   "source": [
    "y = model x"
   ]
  },
  {
   "cell_type": "markdown",
   "id": "6ea84af4",
   "metadata": {},
   "source": [
    "Now we extract the results and compare them with the original data:"
   ]
  },
  {
   "cell_type": "code",
   "execution_count": 12,
   "id": "c9afca16",
   "metadata": {},
   "outputs": [
    {
     "data": {
      "text/plain": []
     },
     "metadata": {},
     "output_type": "display_data"
    }
   ],
   "source": [
    "trueGmOverId = T.squeezeAll $ traces ?? \"gmoverid\"\n",
    "trueIdOverW  = T.squeezeAll $ (traces ?? \"id\") / (traces ?? \"W\")\n",
    "trueGdsOverW = T.squeezeAll $ (traces ?? \"gds\") / (traces ?? \"W\")\n",
    "trueL        = T.squeezeAll $ traces ?? \"L\"\n",
    "trueVgs      = T.squeezeAll $ traces ?? \"vgs\"\n",
    "\n",
    "predGmOverId = T.squeezeAll $ T.indexSelect' 1 [0] x\n",
    "predIdOverW  = T.squeezeAll $ T.indexSelect' 1 [0] y\n",
    "predGdsOverW = T.squeezeAll $ T.indexSelect' 1 [2] y\n",
    "predL'       = T.squeezeAll $ T.indexSelect' 1 [1] y\n",
    "predVgs      = T.squeezeAll $ T.indexSelect' 1 [3] y\n",
    "\n",
    "meanL        = T.mean predL'\n",
    "stdL         = T.std  predL'\n",
    "hiL          = T.max $ df ?? \"L\"\n",
    "loL          = T.min $ df ?? \"L\"\n",
    "\n",
    "meanL'       = T.asValue meanL\n",
    "predL        <- T.fullLike trueL meanL' T.defaultOpts"
   ]
  },
  {
   "cell_type": "code",
   "execution_count": 13,
   "id": "a2f896d7",
   "metadata": {},
   "outputs": [],
   "source": [
    "plotData :: T.Tensor -> T.Tensor -> T.Tensor -> [(Double, (Double, Double))]\n",
    "plotData x y y' = zip (T.asValue $ T.toDType T.Double x) \n",
    "                $ zip (T.asValue $ T.toDType T.Double y) \n",
    "                      (T.asValue $ T.toDType T.Double y')\n",
    "\n",
    "plt xAx yAx = foldl (\\sum' (x, (y, y')) -> sum'\n",
    "                    . dataRow [ (xAx, Number x)\n",
    "                              , (yAx, Number y)\n",
    "                              , (\"Lines\",   Str \"Observation\") ] \n",
    "                    . dataRow [ (xAx, Number x)\n",
    "                              , (yAx, Number y')\n",
    "                              , (\"Lines\",   Str \"Prediction\") ]\n",
    "                    ) (dataFromRows [])"
   ]
  },
  {
   "cell_type": "code",
   "execution_count": 14,
   "id": "8ea24f0d",
   "metadata": {},
   "outputs": [],
   "source": [
    "idPlot  = plotData trueGmOverId trueIdOverW  predIdOverW\n",
    "gdsPlot = plotData trueGmOverId trueGdsOverW predGdsOverW\n",
    "lPlot   = plotData trueGmOverId trueL        predL"
   ]
  },
  {
   "cell_type": "code",
   "execution_count": 15,
   "id": "16801881",
   "metadata": {},
   "outputs": [],
   "source": [
    "ax1  = PAxis [AxValues (Numbers (map fst idPlot))]\n",
    "enc1 = encoding\n",
    "     . position X [ PName \"gm/Id in 1/V\", PmType Quantitative, ax1 ]\n",
    "     . position Y [ PName \"Id/W in A/m\", PmType Quantitative, PScale [SType ScLog]  ]\n",
    "     . color [ MName \"Lines\", MmType Nominal ]\n",
    "\n",
    "ax2  = PAxis [AxValues (Numbers (map fst gdsPlot))]\n",
    "enc2 = encoding\n",
    "     . position X [ PName \"gm/Id in 1/V\", PmType Quantitative, ax2 ]\n",
    "     . position Y [ PName \"gds/W in S/m\", PmType Quantitative, PScale [SType ScLog]  ]\n",
    "     . color [ MName \"Lines\", MmType Nominal ]\n",
    "\n",
    "ax3  = PAxis [AxValues (Numbers (map fst lPlot))]\n",
    "enc3 = encoding\n",
    "     . position X [ PName \"gm/Id in 1/V\", PmType Quantitative, ax3 ]\n",
    "     . position Y [ PName \"L in m\", PmType Quantitative, PScale [SType ScLog]  ]\n",
    "     . color [ MName \"Lines\", MmType Nominal ]"
   ]
  },
  {
   "cell_type": "code",
   "execution_count": 16,
   "id": "4ff383e1",
   "metadata": {},
   "outputs": [],
   "source": [
    "idDat  = plt \"gm/Id in 1/V\" \"Id/W in A/m\"  idPlot\n",
    "gdsDat = plt \"gm/Id in 1/V\" \"gds/W in S/m\" gdsPlot\n",
    "lDat   = plt \"gm/Id in 1/V\" \"L in m\"       lPlot"
   ]
  },
  {
   "cell_type": "code",
   "execution_count": 17,
   "id": "145b6604",
   "metadata": {},
   "outputs": [
    {
     "data": {
      "application/javascript": [
       "requirejs.config({baseUrl: 'https://cdn.jsdelivr.net/npm/',paths: {'vega-embed': 'vega-embed@6?noext','vega-lib': 'vega-lib?noext','vega-lite': 'vega-lite@4?noext','vega': 'vega@5?noext'}});var ndiv = document.createElement('div');ndiv.innerHTML = 'Awesome Vega-Lite visualization to appear here';element[0].appendChild(ndiv);require(['vega-embed'],function(vegaEmbed){vegaEmbed(ndiv,{\"height\":200,\"mark\":\"line\",\"data\":{\"values\":[{\"gm/Id in 1/V\":0.7412036657333374,\"Lines\":\"Observation\",\"Id/W in A/m\":94.15968322753906},{\"gm/Id in 1/V\":0.7412036657333374,\"Lines\":\"Prediction\",\"Id/W in A/m\":88.13636779785156},{\"gm/Id in 1/V\":0.7747552394866943,\"Lines\":\"Observation\",\"Id/W in A/m\":92.39289855957031},{\"gm/Id in 1/V\":0.7747552394866943,\"Lines\":\"Prediction\",\"Id/W in A/m\":84.76470184326172},{\"gm/Id in 1/V\":0.8101712465286255,\"Lines\":\"Observation\",\"Id/W in A/m\":90.58118438720703},{\"gm/Id in 1/V\":0.8101712465286255,\"Lines\":\"Prediction\",\"Id/W in A/m\":82.57111358642578},{\"gm/Id in 1/V\":0.8475828766822815,\"Lines\":\"Observation\",\"Id/W in A/m\":88.7242202758789},{\"gm/Id in 1/V\":0.8475828766822815,\"Lines\":\"Prediction\",\"Id/W in A/m\":80.30440521240234},{\"gm/Id in 1/V\":0.8871262073516846,\"Lines\":\"Observation\",\"Id/W in A/m\":86.82179260253906},{\"gm/Id in 1/V\":0.8871262073516846,\"Lines\":\"Prediction\",\"Id/W in A/m\":77.86275482177734},{\"gm/Id in 1/V\":0.9289386868476868,\"Lines\":\"Observation\",\"Id/W in A/m\":84.87383270263672},{\"gm/Id in 1/V\":0.9289386868476868,\"Lines\":\"Prediction\",\"Id/W in A/m\":75.27533721923828},{\"gm/Id in 1/V\":0.973153829574585,\"Lines\":\"Observation\",\"Id/W in A/m\":82.88043975830078},{\"gm/Id in 1/V\":0.973153829574585,\"Lines\":\"Prediction\",\"Id/W in A/m\":72.5264663696289},{\"gm/Id in 1/V\":1.019892930984497,\"Lines\":\"Observation\",\"Id/W in A/m\":80.84191131591797},{\"gm/Id in 1/V\":1.019892930984497,\"Lines\":\"Prediction\",\"Id/W in A/m\":71.06206512451172},{\"gm/Id in 1/V\":1.0692535638809204,\"Lines\":\"Observation\",\"Id/W in A/m\":78.75888061523438},{\"gm/Id in 1/V\":1.0692535638809204,\"Lines\":\"Prediction\",\"Id/W in A/m\":69.60980987548828},{\"gm/Id in 1/V\":1.1212953329086304,\"Lines\":\"Observation\",\"Id/W in A/m\":76.63233184814453},{\"gm/Id in 1/V\":1.1212953329086304,\"Lines\":\"Prediction\",\"Id/W in A/m\":68.24774932861328},{\"gm/Id in 1/V\":1.176023244857788,\"Lines\":\"Observation\",\"Id/W in A/m\":74.4637451171875},{\"gm/Id in 1/V\":1.176023244857788,\"Lines\":\"Prediction\",\"Id/W in A/m\":66.75325012207031},{\"gm/Id in 1/V\":1.233373761177063,\"Lines\":\"Observation\",\"Id/W in A/m\":72.25521087646484},{\"gm/Id in 1/V\":1.233373761177063,\"Lines\":\"Prediction\",\"Id/W in A/m\":65.41360473632813},{\"gm/Id in 1/V\":1.2932085990905762,\"Lines\":\"Observation\",\"Id/W in A/m\":70.009521484375},{\"gm/Id in 1/V\":1.2932085990905762,\"Lines\":\"Prediction\",\"Id/W in A/m\":64.0081558227539},{\"gm/Id in 1/V\":1.3553251028060913,\"Lines\":\"Observation\",\"Id/W in A/m\":67.73026275634766},{\"gm/Id in 1/V\":1.3553251028060913,\"Lines\":\"Prediction\",\"Id/W in A/m\":62.45901870727539},{\"gm/Id in 1/V\":1.4194889068603516,\"Lines\":\"Observation\",\"Id/W in A/m\":65.42181396484375},{\"gm/Id in 1/V\":1.4194889068603516,\"Lines\":\"Prediction\",\"Id/W in A/m\":60.79793167114258},{\"gm/Id in 1/V\":1.4854848384857178,\"Lines\":\"Observation\",\"Id/W in A/m\":63.08928298950195},{\"gm/Id in 1/V\":1.4854848384857178,\"Lines\":\"Prediction\",\"Id/W in A/m\":58.818260192871094},{\"gm/Id in 1/V\":1.5531755685806274,\"Lines\":\"Observation\",\"Id/W in A/m\":60.738304138183594},{\"gm/Id in 1/V\":1.5531755685806274,\"Lines\":\"Prediction\",\"Id/W in A/m\":56.91404724121094},{\"gm/Id in 1/V\":1.622546672821045,\"Lines\":\"Observation\",\"Id/W in A/m\":58.37483596801758},{\"gm/Id in 1/V\":1.622546672821045,\"Lines\":\"Prediction\",\"Id/W in A/m\":54.89604568481445},{\"gm/Id in 1/V\":1.6937267780303955,\"Lines\":\"Observation\",\"Id/W in A/m\":56.0048713684082},{\"gm/Id in 1/V\":1.6937267780303955,\"Lines\":\"Prediction\",\"Id/W in A/m\":52.628265380859375},{\"gm/Id in 1/V\":1.766980528831482,\"Lines\":\"Observation\",\"Id/W in A/m\":53.63423156738281},{\"gm/Id in 1/V\":1.766980528831482,\"Lines\":\"Prediction\",\"Id/W in A/m\":50.19712448120117},{\"gm/Id in 1/V\":1.842684030532837,\"Lines\":\"Observation\",\"Id/W in A/m\":51.2684326171875},{\"gm/Id in 1/V\":1.842684030532837,\"Lines\":\"Prediction\",\"Id/W in A/m\":47.69758224487305},{\"gm/Id in 1/V\":1.921297311782837,\"Lines\":\"Observation\",\"Id/W in A/m\":48.912601470947266},{\"gm/Id in 1/V\":1.921297311782837,\"Lines\":\"Prediction\",\"Id/W in A/m\":45.21723175048828},{\"gm/Id in 1/V\":2.0033411979675293,\"Lines\":\"Observation\",\"Id/W in A/m\":46.57145309448242},{\"gm/Id in 1/V\":2.0033411979675293,\"Lines\":\"Prediction\",\"Id/W in A/m\":42.610591888427734},{\"gm/Id in 1/V\":2.089383840560913,\"Lines\":\"Observation\",\"Id/W in A/m\":44.24934768676758},{\"gm/Id in 1/V\":2.089383840560913,\"Lines\":\"Prediction\",\"Id/W in A/m\":40.302005767822266},{\"gm/Id in 1/V\":2.1800386905670166,\"Lines\":\"Observation\",\"Id/W in A/m\":41.950321197509766},{\"gm/Id in 1/V\":2.1800386905670166,\"Lines\":\"Prediction\",\"Id/W in A/m\":38.49094772338867},{\"gm/Id in 1/V\":2.2759668827056885,\"Lines\":\"Observation\",\"Id/W in A/m\":39.67816162109375},{\"gm/Id in 1/V\":2.2759668827056885,\"Lines\":\"Prediction\",\"Id/W in A/m\":36.67234420776367},{\"gm/Id in 1/V\":2.377889394760132,\"Lines\":\"Observation\",\"Id/W in A/m\":37.43642807006836},{\"gm/Id in 1/V\":2.377889394760132,\"Lines\":\"Prediction\",\"Id/W in A/m\":34.844505310058594},{\"gm/Id in 1/V\":2.486599922180176,\"Lines\":\"Observation\",\"Id/W in A/m\":35.228538513183594},{\"gm/Id in 1/V\":2.486599922180176,\"Lines\":\"Prediction\",\"Id/W in A/m\":32.98860549926758},{\"gm/Id in 1/V\":2.6029858589172363,\"Lines\":\"Observation\",\"Id/W in A/m\":33.05778884887695},{\"gm/Id in 1/V\":2.6029858589172363,\"Lines\":\"Prediction\",\"Id/W in A/m\":30.91956901550293},{\"gm/Id in 1/V\":2.7280492782592773,\"Lines\":\"Observation\",\"Id/W in A/m\":30.927387237548828},{\"gm/Id in 1/V\":2.7280492782592773,\"Lines\":\"Prediction\",\"Id/W in A/m\":28.764989852905273},{\"gm/Id in 1/V\":2.8629369735717773,\"Lines\":\"Observation\",\"Id/W in A/m\":28.840490341186523},{\"gm/Id in 1/V\":2.8629369735717773,\"Lines\":\"Prediction\",\"Id/W in A/m\":26.80200958251953},{\"gm/Id in 1/V\":3.0089731216430664,\"Lines\":\"Observation\",\"Id/W in A/m\":26.800220489501953},{\"gm/Id in 1/V\":3.0089731216430664,\"Lines\":\"Prediction\",\"Id/W in A/m\":25.095630645751953},{\"gm/Id in 1/V\":3.1677017211914063,\"Lines\":\"Observation\",\"Id/W in A/m\":24.809682846069336},{\"gm/Id in 1/V\":3.1677017211914063,\"Lines\":\"Prediction\",\"Id/W in A/m\":23.352676391601563},{\"gm/Id in 1/V\":3.340938091278076,\"Lines\":\"Observation\",\"Id/W in A/m\":22.871980667114258},{\"gm/Id in 1/V\":3.340938091278076,\"Lines\":\"Prediction\",\"Id/W in A/m\":21.615745544433594},{\"gm/Id in 1/V\":3.5308330059051514,\"Lines\":\"Observation\",\"Id/W in A/m\":20.990230560302734},{\"gm/Id in 1/V\":3.5308330059051514,\"Lines\":\"Prediction\",\"Id/W in A/m\":19.852853775024414},{\"gm/Id in 1/V\":3.7399542331695557,\"Lines\":\"Observation\",\"Id/W in A/m\":19.167573928833008},{\"gm/Id in 1/V\":3.7399542331695557,\"Lines\":\"Prediction\",\"Id/W in A/m\":18.049848556518555},{\"gm/Id in 1/V\":3.971386194229126,\"Lines\":\"Observation\",\"Id/W in A/m\":17.40718650817871},{\"gm/Id in 1/V\":3.971386194229126,\"Lines\":\"Prediction\",\"Id/W in A/m\":16.248367309570313},{\"gm/Id in 1/V\":4.228856563568115,\"Lines\":\"Observation\",\"Id/W in A/m\":15.712298393249512},{\"gm/Id in 1/V\":4.228856563568115,\"Lines\":\"Prediction\",\"Id/W in A/m\":14.460615158081055},{\"gm/Id in 1/V\":4.516894340515137,\"Lines\":\"Observation\",\"Id/W in A/m\":14.086206436157227},{\"gm/Id in 1/V\":4.516894340515137,\"Lines\":\"Prediction\",\"Id/W in A/m\":13.153532028198242},{\"gm/Id in 1/V\":4.841019153594971,\"Lines\":\"Observation\",\"Id/W in A/m\":12.532299041748047},{\"gm/Id in 1/V\":4.841019153594971,\"Lines\":\"Prediction\",\"Id/W in A/m\":11.75570297241211},{\"gm/Id in 1/V\":5.207973957061768,\"Lines\":\"Observation\",\"Id/W in A/m\":11.054081916809082},{\"gm/Id in 1/V\":5.207973957061768,\"Lines\":\"Prediction\",\"Id/W in A/m\":10.323078155517578},{\"gm/Id in 1/V\":5.625980854034424,\"Lines\":\"Observation\",\"Id/W in A/m\":9.655205726623535},{\"gm/Id in 1/V\":5.625980854034424,\"Lines\":\"Prediction\",\"Id/W in A/m\":9.179884910583496},{\"gm/Id in 1/V\":6.105014801025391,\"Lines\":\"Observation\",\"Id/W in A/m\":8.339512825012207},{\"gm/Id in 1/V\":6.105014801025391,\"Lines\":\"Prediction\",\"Id/W in A/m\":7.975513935089111},{\"gm/Id in 1/V\":6.6570281982421875,\"Lines\":\"Observation\",\"Id/W in A/m\":7.111061096191406},{\"gm/Id in 1/V\":6.6570281982421875,\"Lines\":\"Prediction\",\"Id/W in A/m\":6.745272636413574},{\"gm/Id in 1/V\":7.296021461486816,\"Lines\":\"Observation\",\"Id/W in A/m\":5.974152088165283},{\"gm/Id in 1/V\":7.296021461486816,\"Lines\":\"Prediction\",\"Id/W in A/m\":5.545660018920898},{\"gm/Id in 1/V\":8.037742614746094,\"Lines\":\"Observation\",\"Id/W in A/m\":4.9333014488220215},{\"gm/Id in 1/V\":8.037742614746094,\"Lines\":\"Prediction\",\"Id/W in A/m\":4.59182071685791},{\"gm/Id in 1/V\":8.898645401000977,\"Lines\":\"Observation\",\"Id/W in A/m\":3.9931318759918213},{\"gm/Id in 1/V\":8.898645401000977,\"Lines\":\"Prediction\",\"Id/W in A/m\":3.631605386734009},{\"gm/Id in 1/V\":9.89354419708252,\"Lines\":\"Observation\",\"Id/W in A/m\":3.158107042312622},{\"gm/Id in 1/V\":9.89354419708252,\"Lines\":\"Prediction\",\"Id/W in A/m\":2.8813414573669434},{\"gm/Id in 1/V\":11.03127670288086,\"Lines\":\"Observation\",\"Id/W in A/m\":2.4320154190063477},{\"gm/Id in 1/V\":11.03127670288086,\"Lines\":\"Prediction\",\"Id/W in A/m\":2.1541988849639893},{\"gm/Id in 1/V\":12.307927131652832,\"Lines\":\"Observation\",\"Id/W in A/m\":1.8171350955963135},{\"gm/Id in 1/V\":12.307927131652832,\"Lines\":\"Prediction\",\"Id/W in A/m\":1.5562437772750854},{\"gm/Id in 1/V\":13.698385238647461,\"Lines\":\"Observation\",\"Id/W in A/m\":1.3130900859832764},{\"gm/Id in 1/V\":13.698385238647461,\"Lines\":\"Prediction\",\"Id/W in A/m\":1.1135201454162598},{\"gm/Id in 1/V\":15.149700164794922,\"Lines\":\"Observation\",\"Id/W in A/m\":0.9156162738800049},{\"gm/Id in 1/V\":15.149700164794922,\"Lines\":\"Prediction\",\"Id/W in A/m\":0.7826172709465027},{\"gm/Id in 1/V\":16.58327293395996,\"Lines\":\"Observation\",\"Id/W in A/m\":0.6157324314117432},{\"gm/Id in 1/V\":16.58327293395996,\"Lines\":\"Prediction\",\"Id/W in A/m\":0.5551819205284119},{\"gm/Id in 1/V\":17.913532257080078,\"Lines\":\"Observation\",\"Id/W in A/m\":0.3999399244785309},{\"gm/Id in 1/V\":17.913532257080078,\"Lines\":\"Prediction\",\"Id/W in A/m\":0.3877173960208893},{\"gm/Id in 1/V\":19.0827579498291,\"Lines\":\"Observation\",\"Id/W in A/m\":0.25176748633384705},{\"gm/Id in 1/V\":19.0827579498291,\"Lines\":\"Prediction\",\"Id/W in A/m\":0.2830072045326233},{\"gm/Id in 1/V\":20.095380783081055,\"Lines\":\"Observation\",\"Id/W in A/m\":0.15424001216888428},{\"gm/Id in 1/V\":20.095380783081055,\"Lines\":\"Prediction\",\"Id/W in A/m\":0.16186614334583282},{\"gm/Id in 1/V\":21.025110244750977,\"Lines\":\"Observation\",\"Id/W in A/m\":9.224465489387512e-2},{\"gm/Id in 1/V\":21.025110244750977,\"Lines\":\"Prediction\",\"Id/W in A/m\":9.686288982629776e-2},{\"gm/Id in 1/V\":21.9813232421875,\"Lines\":\"Observation\",\"Id/W in A/m\":5.3894683718681335e-2},{\"gm/Id in 1/V\":21.9813232421875,\"Lines\":\"Prediction\",\"Id/W in A/m\":5.533592775464058e-2},{\"gm/Id in 1/V\":23.051105499267578,\"Lines\":\"Observation\",\"Id/W in A/m\":3.0704708769917488e-2},{\"gm/Id in 1/V\":23.051105499267578,\"Lines\":\"Prediction\",\"Id/W in A/m\":3.0696352943778038e-2},{\"gm/Id in 1/V\":24.252920150756836,\"Lines\":\"Observation\",\"Id/W in A/m\":1.7002493143081665e-2},{\"gm/Id in 1/V\":24.252920150756836,\"Lines\":\"Prediction\",\"Id/W in A/m\":1.69354397803545e-2},{\"gm/Id in 1/V\":25.529733657836914,\"Lines\":\"Observation\",\"Id/W in A/m\":9.126137010753155e-3},{\"gm/Id in 1/V\":25.529733657836914,\"Lines\":\"Prediction\",\"Id/W in A/m\":9.442265145480633e-3},{\"gm/Id in 1/V\":26.781620025634766,\"Lines\":\"Observation\",\"Id/W in A/m\":4.745045211166143e-3},{\"gm/Id in 1/V\":26.781620025634766,\"Lines\":\"Prediction\",\"Id/W in A/m\":3.937681671231985e-3},{\"gm/Id in 1/V\":27.912567138671875,\"Lines\":\"Observation\",\"Id/W in A/m\":2.3943614214658737e-3},{\"gm/Id in 1/V\":27.912567138671875,\"Lines\":\"Prediction\",\"Id/W in A/m\":1.5759075758978724e-3},{\"gm/Id in 1/V\":28.862688064575195,\"Lines\":\"Observation\",\"Id/W in A/m\":1.1771151330322027e-3},{\"gm/Id in 1/V\":28.862688064575195,\"Lines\":\"Prediction\",\"Id/W in A/m\":5.982627044431865e-4},{\"gm/Id in 1/V\":29.614852905273438,\"Lines\":\"Observation\",\"Id/W in A/m\":5.665431963279843e-4},{\"gm/Id in 1/V\":29.614852905273438,\"Lines\":\"Prediction\",\"Id/W in A/m\":3.2201680005528033e-4},{\"gm/Id in 1/V\":30.183544158935547,\"Lines\":\"Observation\",\"Id/W in A/m\":2.6825786335393786e-4},{\"gm/Id in 1/V\":30.183544158935547,\"Lines\":\"Prediction\",\"Id/W in A/m\":1.9051102572120726e-4},{\"gm/Id in 1/V\":30.599061965942383,\"Lines\":\"Observation\",\"Id/W in A/m\":1.2550904648378491e-4},{\"gm/Id in 1/V\":30.599061965942383,\"Lines\":\"Prediction\",\"Id/W in A/m\":1.0757009295048192e-4},{\"gm/Id in 1/V\":30.895252227783203,\"Lines\":\"Observation\",\"Id/W in A/m\":5.823928222525865e-5},{\"gm/Id in 1/V\":30.895252227783203,\"Lines\":\"Prediction\",\"Id/W in A/m\":5.475181751535274e-5},{\"gm/Id in 1/V\":31.10272979736328,\"Lines\":\"Observation\",\"Id/W in A/m\":2.6890495064435527e-5},{\"gm/Id in 1/V\":31.10272979736328,\"Lines\":\"Prediction\",\"Id/W in A/m\":2.4931070583988912e-5},{\"gm/Id in 1/V\":31.246305465698242,\"Lines\":\"Observation\",\"Id/W in A/m\":1.239644279849017e-5},{\"gm/Id in 1/V\":31.246305465698242,\"Lines\":\"Prediction\",\"Id/W in A/m\":1.2370322110655252e-5},{\"gm/Id in 1/V\":31.344829559326172,\"Lines\":\"Observation\",\"Id/W in A/m\":5.731958481192123e-6},{\"gm/Id in 1/V\":31.344829559326172,\"Lines\":\"Prediction\",\"Id/W in A/m\":7.225360604934394e-6},{\"gm/Id in 1/V\":31.412052154541016,\"Lines\":\"Observation\",\"Id/W in A/m\":2.679193130461499e-6},{\"gm/Id in 1/V\":31.412052154541016,\"Lines\":\"Prediction\",\"Id/W in A/m\":5.092612809676211e-6},{\"gm/Id in 1/V\":31.45773696899414,\"Lines\":\"Observation\",\"Id/W in A/m\":1.2844614047935465e-6},{\"gm/Id in 1/V\":31.45773696899414,\"Lines\":\"Prediction\",\"Id/W in A/m\":3.136943405479542e-6}]},\"width\":300,\"$schema\":\"https://vega.github.io/schema/vega-lite/v4.json\",\"encoding\":{\"color\":{\"field\":\"Lines\",\"type\":\"nominal\"},\"x\":{\"field\":\"gm/Id in 1/V\",\"type\":\"quantitative\",\"axis\":{\"values\":[0.7412036657333374,0.7747552394866943,0.8101712465286255,0.8475828766822815,0.8871262073516846,0.9289386868476868,0.973153829574585,1.019892930984497,1.0692535638809204,1.1212953329086304,1.176023244857788,1.233373761177063,1.2932085990905762,1.3553251028060913,1.4194889068603516,1.4854848384857178,1.5531755685806274,1.622546672821045,1.6937267780303955,1.766980528831482,1.842684030532837,1.921297311782837,2.0033411979675293,2.089383840560913,2.1800386905670166,2.2759668827056885,2.377889394760132,2.486599922180176,2.6029858589172363,2.7280492782592773,2.8629369735717773,3.0089731216430664,3.1677017211914063,3.340938091278076,3.5308330059051514,3.7399542331695557,3.971386194229126,4.228856563568115,4.516894340515137,4.841019153594971,5.207973957061768,5.625980854034424,6.105014801025391,6.6570281982421875,7.296021461486816,8.037742614746094,8.898645401000977,9.89354419708252,11.03127670288086,12.307927131652832,13.698385238647461,15.149700164794922,16.58327293395996,17.913532257080078,19.0827579498291,20.095380783081055,21.025110244750977,21.9813232421875,23.051105499267578,24.252920150756836,25.529733657836914,26.781620025634766,27.912567138671875,28.862688064575195,29.614852905273438,30.183544158935547,30.599061965942383,30.895252227783203,31.10272979736328,31.246305465698242,31.344829559326172,31.412052154541016,31.45773696899414]}},\"y\":{\"field\":\"Id/W in A/m\",\"scale\":{\"type\":\"log\"},\"type\":\"quantitative\"}}}).then(function (result) { console.log(result); }).catch(function (error) { ndiv.innerHTML = 'There was an error: ' + error; });});"
      ]
     },
     "metadata": {},
     "output_type": "display_data"
    },
    {
     "data": {
      "application/javascript": [
       "requirejs.config({baseUrl: 'https://cdn.jsdelivr.net/npm/',paths: {'vega-embed': 'vega-embed@6?noext','vega-lib': 'vega-lib?noext','vega-lite': 'vega-lite@4?noext','vega': 'vega@5?noext'}});var ndiv = document.createElement('div');ndiv.innerHTML = 'Awesome Vega-Lite visualization to appear here';element[0].appendChild(ndiv);require(['vega-embed'],function(vegaEmbed){vegaEmbed(ndiv,{\"height\":200,\"mark\":\"line\",\"data\":{\"values\":[{\"gm/Id in 1/V\":0.7412036657333374,\"Lines\":\"Observation\",\"gds/W in S/m\":43.7101936340332},{\"gm/Id in 1/V\":0.7412036657333374,\"Lines\":\"Prediction\",\"gds/W in S/m\":33.14100646972656},{\"gm/Id in 1/V\":0.7747552394866943,\"Lines\":\"Observation\",\"gds/W in S/m\":41.34607696533203},{\"gm/Id in 1/V\":0.7747552394866943,\"Lines\":\"Prediction\",\"gds/W in S/m\":30.606260299682617},{\"gm/Id in 1/V\":0.8101712465286255,\"Lines\":\"Observation\",\"gds/W in S/m\":38.946163177490234},{\"gm/Id in 1/V\":0.8101712465286255,\"Lines\":\"Prediction\",\"gds/W in S/m\":29.491186141967773},{\"gm/Id in 1/V\":0.8475828766822815,\"Lines\":\"Observation\",\"gds/W in S/m\":36.51359558105469},{\"gm/Id in 1/V\":0.8475828766822815,\"Lines\":\"Prediction\",\"gds/W in S/m\":28.30600357055664},{\"gm/Id in 1/V\":0.8871262073516846,\"Lines\":\"Observation\",\"gds/W in S/m\":34.05268478393555},{\"gm/Id in 1/V\":0.8871262073516846,\"Lines\":\"Prediction\",\"gds/W in S/m\":27.073637008666992},{\"gm/Id in 1/V\":0.9289386868476868,\"Lines\":\"Observation\",\"gds/W in S/m\":31.569339752197266},{\"gm/Id in 1/V\":0.9289386868476868,\"Lines\":\"Prediction\",\"gds/W in S/m\":25.807674407958984},{\"gm/Id in 1/V\":0.973153829574585,\"Lines\":\"Observation\",\"gds/W in S/m\":29.07158660888672},{\"gm/Id in 1/V\":0.973153829574585,\"Lines\":\"Prediction\",\"gds/W in S/m\":24.485788345336914},{\"gm/Id in 1/V\":1.019892930984497,\"Lines\":\"Observation\",\"gds/W in S/m\":26.570247650146484},{\"gm/Id in 1/V\":1.019892930984497,\"Lines\":\"Prediction\",\"gds/W in S/m\":22.942235946655273},{\"gm/Id in 1/V\":1.0692535638809204,\"Lines\":\"Observation\",\"gds/W in S/m\":24.079683303833008},{\"gm/Id in 1/V\":1.0692535638809204,\"Lines\":\"Prediction\",\"gds/W in S/m\":21.34556007385254},{\"gm/Id in 1/V\":1.1212953329086304,\"Lines\":\"Observation\",\"gds/W in S/m\":21.618587493896484},{\"gm/Id in 1/V\":1.1212953329086304,\"Lines\":\"Prediction\",\"gds/W in S/m\":19.456315994262695},{\"gm/Id in 1/V\":1.176023244857788,\"Lines\":\"Observation\",\"gds/W in S/m\":19.210500717163086},{\"gm/Id in 1/V\":1.176023244857788,\"Lines\":\"Prediction\",\"gds/W in S/m\":17.603607177734375},{\"gm/Id in 1/V\":1.233373761177063,\"Lines\":\"Observation\",\"gds/W in S/m\":16.8837947845459},{\"gm/Id in 1/V\":1.233373761177063,\"Lines\":\"Prediction\",\"gds/W in S/m\":15.840435028076172},{\"gm/Id in 1/V\":1.2932085990905762,\"Lines\":\"Observation\",\"gds/W in S/m\":14.670528411865234},{\"gm/Id in 1/V\":1.2932085990905762,\"Lines\":\"Prediction\",\"gds/W in S/m\":14.172714233398438},{\"gm/Id in 1/V\":1.3553251028060913,\"Lines\":\"Observation\",\"gds/W in S/m\":12.603882789611816},{\"gm/Id in 1/V\":1.3553251028060913,\"Lines\":\"Prediction\",\"gds/W in S/m\":12.610901832580566},{\"gm/Id in 1/V\":1.4194889068603516,\"Lines\":\"Observation\",\"gds/W in S/m\":10.714193344116211},{\"gm/Id in 1/V\":1.4194889068603516,\"Lines\":\"Prediction\",\"gds/W in S/m\":11.1552095413208},{\"gm/Id in 1/V\":1.4854848384857178,\"Lines\":\"Observation\",\"gds/W in S/m\":9.024408340454102},{\"gm/Id in 1/V\":1.4854848384857178,\"Lines\":\"Prediction\",\"gds/W in S/m\":9.825127601623535},{\"gm/Id in 1/V\":1.5531755685806274,\"Lines\":\"Observation\",\"gds/W in S/m\":7.546443462371826},{\"gm/Id in 1/V\":1.5531755685806274,\"Lines\":\"Prediction\",\"gds/W in S/m\":8.644007682800293},{\"gm/Id in 1/V\":1.622546672821045,\"Lines\":\"Observation\",\"gds/W in S/m\":6.279777526855469},{\"gm/Id in 1/V\":1.622546672821045,\"Lines\":\"Prediction\",\"gds/W in S/m\":7.13395881652832},{\"gm/Id in 1/V\":1.6937267780303955,\"Lines\":\"Observation\",\"gds/W in S/m\":5.212734699249268},{\"gm/Id in 1/V\":1.6937267780303955,\"Lines\":\"Prediction\",\"gds/W in S/m\":5.714710712432861},{\"gm/Id in 1/V\":1.766980528831482,\"Lines\":\"Observation\",\"gds/W in S/m\":4.325725555419922},{\"gm/Id in 1/V\":1.766980528831482,\"Lines\":\"Prediction\",\"gds/W in S/m\":4.548621654510498},{\"gm/Id in 1/V\":1.842684030532837,\"Lines\":\"Observation\",\"gds/W in S/m\":3.595106840133667},{\"gm/Id in 1/V\":1.842684030532837,\"Lines\":\"Prediction\",\"gds/W in S/m\":3.7440476417541504},{\"gm/Id in 1/V\":1.921297311782837,\"Lines\":\"Observation\",\"gds/W in S/m\":2.9965200424194336},{\"gm/Id in 1/V\":1.921297311782837,\"Lines\":\"Prediction\",\"gds/W in S/m\":3.072288751602173},{\"gm/Id in 1/V\":2.0033411979675293,\"Lines\":\"Observation\",\"gds/W in S/m\":2.507150650024414},{\"gm/Id in 1/V\":2.0033411979675293,\"Lines\":\"Prediction\",\"gds/W in S/m\":2.464595079421997},{\"gm/Id in 1/V\":2.089383840560913,\"Lines\":\"Observation\",\"gds/W in S/m\":2.106919288635254},{\"gm/Id in 1/V\":2.089383840560913,\"Lines\":\"Prediction\",\"gds/W in S/m\":2.0478286743164063},{\"gm/Id in 1/V\":2.1800386905670166,\"Lines\":\"Observation\",\"gds/W in S/m\":1.7788619995117188},{\"gm/Id in 1/V\":2.1800386905670166,\"Lines\":\"Prediction\",\"gds/W in S/m\":1.7649085521697998},{\"gm/Id in 1/V\":2.2759668827056885,\"Lines\":\"Observation\",\"gds/W in S/m\":1.5090234279632568},{\"gm/Id in 1/V\":2.2759668827056885,\"Lines\":\"Prediction\",\"gds/W in S/m\":1.4992785453796387},{\"gm/Id in 1/V\":2.377889394760132,\"Lines\":\"Observation\",\"gds/W in S/m\":1.286113977432251},{\"gm/Id in 1/V\":2.377889394760132,\"Lines\":\"Prediction\",\"gds/W in S/m\":1.2736471891403198},{\"gm/Id in 1/V\":2.486599922180176,\"Lines\":\"Observation\",\"gds/W in S/m\":1.1010870933532715},{\"gm/Id in 1/V\":2.486599922180176,\"Lines\":\"Prediction\",\"gds/W in S/m\":1.0789680480957031},{\"gm/Id in 1/V\":2.6029858589172363,\"Lines\":\"Observation\",\"gds/W in S/m\":0.9467276930809021},{\"gm/Id in 1/V\":2.6029858589172363,\"Lines\":\"Prediction\",\"gds/W in S/m\":0.8926607966423035},{\"gm/Id in 1/V\":2.7280492782592773,\"Lines\":\"Observation\",\"gds/W in S/m\":0.8172880411148071},{\"gm/Id in 1/V\":2.7280492782592773,\"Lines\":\"Prediction\",\"gds/W in S/m\":0.7513595819473267},{\"gm/Id in 1/V\":2.8629369735717773,\"Lines\":\"Observation\",\"gds/W in S/m\":0.7081838846206665},{\"gm/Id in 1/V\":2.8629369735717773,\"Lines\":\"Prediction\",\"gds/W in S/m\":0.6601679921150208},{\"gm/Id in 1/V\":3.0089731216430664,\"Lines\":\"Observation\",\"gds/W in S/m\":0.615748941898346},{\"gm/Id in 1/V\":3.0089731216430664,\"Lines\":\"Prediction\",\"gds/W in S/m\":0.5820372104644775},{\"gm/Id in 1/V\":3.1677017211914063,\"Lines\":\"Observation\",\"gds/W in S/m\":0.5370393991470337},{\"gm/Id in 1/V\":3.1677017211914063,\"Lines\":\"Prediction\",\"gds/W in S/m\":0.5042592883110046},{\"gm/Id in 1/V\":3.340938091278076,\"Lines\":\"Observation\",\"gds/W in S/m\":0.4696812629699707},{\"gm/Id in 1/V\":3.340938091278076,\"Lines\":\"Prediction\",\"gds/W in S/m\":0.4320559799671173},{\"gm/Id in 1/V\":3.5308330059051514,\"Lines\":\"Observation\",\"gds/W in S/m\":0.4117504060268402},{\"gm/Id in 1/V\":3.5308330059051514,\"Lines\":\"Prediction\",\"gds/W in S/m\":0.3837229311466217},{\"gm/Id in 1/V\":3.7399542331695557,\"Lines\":\"Observation\",\"gds/W in S/m\":0.36167964339256287},{\"gm/Id in 1/V\":3.7399542331695557,\"Lines\":\"Prediction\",\"gds/W in S/m\":0.34708496928215027},{\"gm/Id in 1/V\":3.971386194229126,\"Lines\":\"Observation\",\"gds/W in S/m\":0.3181860148906708},{\"gm/Id in 1/V\":3.971386194229126,\"Lines\":\"Prediction\",\"gds/W in S/m\":0.3102750778198242},{\"gm/Id in 1/V\":4.228856563568115,\"Lines\":\"Observation\",\"gds/W in S/m\":0.2802139222621918},{\"gm/Id in 1/V\":4.228856563568115,\"Lines\":\"Prediction\",\"gds/W in S/m\":0.2740820050239563},{\"gm/Id in 1/V\":4.516894340515137,\"Lines\":\"Observation\",\"gds/W in S/m\":0.246891051530838},{\"gm/Id in 1/V\":4.516894340515137,\"Lines\":\"Prediction\",\"gds/W in S/m\":0.24174049496650696},{\"gm/Id in 1/V\":4.841019153594971,\"Lines\":\"Observation\",\"gds/W in S/m\":0.21749328076839447},{\"gm/Id in 1/V\":4.841019153594971,\"Lines\":\"Prediction\",\"gds/W in S/m\":0.21120312809944153},{\"gm/Id in 1/V\":5.207973957061768,\"Lines\":\"Observation\",\"gds/W in S/m\":0.191417396068573},{\"gm/Id in 1/V\":5.207973957061768,\"Lines\":\"Prediction\",\"gds/W in S/m\":0.1836538016796112},{\"gm/Id in 1/V\":5.625980854034424,\"Lines\":\"Observation\",\"gds/W in S/m\":0.16815972328186035},{\"gm/Id in 1/V\":5.625980854034424,\"Lines\":\"Prediction\",\"gds/W in S/m\":0.16798344254493713},{\"gm/Id in 1/V\":6.105014801025391,\"Lines\":\"Observation\",\"gds/W in S/m\":0.1472994089126587},{\"gm/Id in 1/V\":6.105014801025391,\"Lines\":\"Prediction\",\"gds/W in S/m\":0.1505180150270462},{\"gm/Id in 1/V\":6.6570281982421875,\"Lines\":\"Observation\",\"gds/W in S/m\":0.12848564982414246},{\"gm/Id in 1/V\":6.6570281982421875,\"Lines\":\"Prediction\",\"gds/W in S/m\":0.13059189915657043},{\"gm/Id in 1/V\":7.296021461486816,\"Lines\":\"Observation\",\"gds/W in S/m\":0.11142843961715698},{\"gm/Id in 1/V\":7.296021461486816,\"Lines\":\"Prediction\",\"gds/W in S/m\":0.1060800701379776},{\"gm/Id in 1/V\":8.037742614746094,\"Lines\":\"Observation\",\"gds/W in S/m\":9.589234739542007e-2},{\"gm/Id in 1/V\":8.037742614746094,\"Lines\":\"Prediction\",\"gds/W in S/m\":9.04676616191864e-2},{\"gm/Id in 1/V\":8.898645401000977,\"Lines\":\"Observation\",\"gds/W in S/m\":8.169341832399368e-2},{\"gm/Id in 1/V\":8.898645401000977,\"Lines\":\"Prediction\",\"gds/W in S/m\":7.581231743097305e-2},{\"gm/Id in 1/V\":9.89354419708252,\"Lines\":\"Observation\",\"gds/W in S/m\":6.869864463806152e-2},{\"gm/Id in 1/V\":9.89354419708252,\"Lines\":\"Prediction\",\"gds/W in S/m\":6.404611468315125e-2},{\"gm/Id in 1/V\":11.03127670288086,\"Lines\":\"Observation\",\"gds/W in S/m\":5.6827612221241e-2},{\"gm/Id in 1/V\":11.03127670288086,\"Lines\":\"Prediction\",\"gds/W in S/m\":5.162092298269272e-2},{\"gm/Id in 1/V\":12.307927131652832,\"Lines\":\"Observation\",\"gds/W in S/m\":4.6053990721702576e-2},{\"gm/Id in 1/V\":12.307927131652832,\"Lines\":\"Prediction\",\"gds/W in S/m\":4.0555018931627274e-2},{\"gm/Id in 1/V\":13.698385238647461,\"Lines\":\"Observation\",\"gds/W in S/m\":3.640296682715416e-2},{\"gm/Id in 1/V\":13.698385238647461,\"Lines\":\"Prediction\",\"gds/W in S/m\":3.135118633508682e-2},{\"gm/Id in 1/V\":15.149700164794922,\"Lines\":\"Observation\",\"gds/W in S/m\":2.7938561514019966e-2},{\"gm/Id in 1/V\":15.149700164794922,\"Lines\":\"Prediction\",\"gds/W in S/m\":2.4669991806149483e-2},{\"gm/Id in 1/V\":16.58327293395996,\"Lines\":\"Observation\",\"gds/W in S/m\":2.0735742524266243e-2},{\"gm/Id in 1/V\":16.58327293395996,\"Lines\":\"Prediction\",\"gds/W in S/m\":1.9856473430991173e-2},{\"gm/Id in 1/V\":17.913532257080078,\"Lines\":\"Observation\",\"gds/W in S/m\":1.4839586801826954e-2},{\"gm/Id in 1/V\":17.913532257080078,\"Lines\":\"Prediction\",\"gds/W in S/m\":1.4477390795946121e-2},{\"gm/Id in 1/V\":19.0827579498291,\"Lines\":\"Observation\",\"gds/W in S/m\":1.022595539689064e-2},{\"gm/Id in 1/V\":19.0827579498291,\"Lines\":\"Prediction\",\"gds/W in S/m\":1.0461091995239258e-2},{\"gm/Id in 1/V\":20.095380783081055,\"Lines\":\"Observation\",\"gds/W in S/m\":6.78467471152544e-3},{\"gm/Id in 1/V\":20.095380783081055,\"Lines\":\"Prediction\",\"gds/W in S/m\":6.519477814435959e-3},{\"gm/Id in 1/V\":21.025110244750977,\"Lines\":\"Observation\",\"gds/W in S/m\":4.335931036621332e-3},{\"gm/Id in 1/V\":21.025110244750977,\"Lines\":\"Prediction\",\"gds/W in S/m\":3.963585942983627e-3},{\"gm/Id in 1/V\":21.9813232421875,\"Lines\":\"Observation\",\"gds/W in S/m\":2.6690743397921324e-3},{\"gm/Id in 1/V\":21.9813232421875,\"Lines\":\"Prediction\",\"gds/W in S/m\":2.272298326715827e-3},{\"gm/Id in 1/V\":23.051105499267578,\"Lines\":\"Observation\",\"gds/W in S/m\":1.581270364113152e-3},{\"gm/Id in 1/V\":23.051105499267578,\"Lines\":\"Prediction\",\"gds/W in S/m\":1.3073106529191136e-3},{\"gm/Id in 1/V\":24.252920150756836,\"Lines\":\"Observation\",\"gds/W in S/m\":9.006213513202965e-4},{\"gm/Id in 1/V\":24.252920150756836,\"Lines\":\"Prediction\",\"gds/W in S/m\":7.725270697847009e-4},{\"gm/Id in 1/V\":25.529733657836914,\"Lines\":\"Observation\",\"gds/W in S/m\":4.930281429551542e-4},{\"gm/Id in 1/V\":25.529733657836914,\"Lines\":\"Prediction\",\"gds/W in S/m\":4.929949645884335e-4},{\"gm/Id in 1/V\":26.781620025634766,\"Lines\":\"Observation\",\"gds/W in S/m\":2.5983958039432764e-4},{\"gm/Id in 1/V\":26.781620025634766,\"Lines\":\"Prediction\",\"gds/W in S/m\":2.8221160755492747e-4},{\"gm/Id in 1/V\":27.912567138671875,\"Lines\":\"Observation\",\"gds/W in S/m\":1.3232947094365954e-4},{\"gm/Id in 1/V\":27.912567138671875,\"Lines\":\"Prediction\",\"gds/W in S/m\":1.587145816301927e-4},{\"gm/Id in 1/V\":28.862688064575195,\"Lines\":\"Observation\",\"gds/W in S/m\":6.54620525892824e-5},{\"gm/Id in 1/V\":28.862688064575195,\"Lines\":\"Prediction\",\"gds/W in S/m\":8.107980102067813e-5},{\"gm/Id in 1/V\":29.614852905273438,\"Lines\":\"Observation\",\"gds/W in S/m\":3.1637791835237294e-5},{\"gm/Id in 1/V\":29.614852905273438,\"Lines\":\"Prediction\",\"gds/W in S/m\":2.8811642550863326e-5},{\"gm/Id in 1/V\":30.183544158935547,\"Lines\":\"Observation\",\"gds/W in S/m\":1.5020314094726928e-5},{\"gm/Id in 1/V\":30.183544158935547,\"Lines\":\"Prediction\",\"gds/W in S/m\":1.2716965102299582e-5},{\"gm/Id in 1/V\":30.599061965942383,\"Lines\":\"Observation\",\"gds/W in S/m\":7.0377668635046575e-6},{\"gm/Id in 1/V\":30.599061965942383,\"Lines\":\"Prediction\",\"gds/W in S/m\":5.9473231885931455e-6},{\"gm/Id in 1/V\":30.895252227783203,\"Lines\":\"Observation\",\"gds/W in S/m\":3.2664981972629903e-6},{\"gm/Id in 1/V\":30.895252227783203,\"Lines\":\"Prediction\",\"gds/W in S/m\":2.431470647934475e-6},{\"gm/Id in 1/V\":31.10272979736328,\"Lines\":\"Observation\",\"gds/W in S/m\":1.5060347777762217e-6},{\"gm/Id in 1/V\":31.10272979736328,\"Lines\":\"Prediction\",\"gds/W in S/m\":9.597744110578788e-7},{\"gm/Id in 1/V\":31.246305465698242,\"Lines\":\"Observation\",\"gds/W in S/m\":6.911551508892444e-7},{\"gm/Id in 1/V\":31.246305465698242,\"Lines\":\"Prediction\",\"gds/W in S/m\":5.689486215487705e-7},{\"gm/Id in 1/V\":31.344829559326172,\"Lines\":\"Observation\",\"gds/W in S/m\":3.161777044624614e-7},{\"gm/Id in 1/V\":31.344829559326172,\"Lines\":\"Prediction\",\"gds/W in S/m\":3.094004625836533e-7},{\"gm/Id in 1/V\":31.412052154541016,\"Lines\":\"Observation\",\"gds/W in S/m\":1.4432451678203506e-7},{\"gm/Id in 1/V\":31.412052154541016,\"Lines\":\"Prediction\",\"gds/W in S/m\":1.9830349629046395e-7},{\"gm/Id in 1/V\":31.45773696899414,\"Lines\":\"Observation\",\"gds/W in S/m\":6.578162015102862e-8},{\"gm/Id in 1/V\":31.45773696899414,\"Lines\":\"Prediction\",\"gds/W in S/m\":1.0915712067571803e-7}]},\"width\":300,\"$schema\":\"https://vega.github.io/schema/vega-lite/v4.json\",\"encoding\":{\"color\":{\"field\":\"Lines\",\"type\":\"nominal\"},\"x\":{\"field\":\"gm/Id in 1/V\",\"type\":\"quantitative\",\"axis\":{\"values\":[0.7412036657333374,0.7747552394866943,0.8101712465286255,0.8475828766822815,0.8871262073516846,0.9289386868476868,0.973153829574585,1.019892930984497,1.0692535638809204,1.1212953329086304,1.176023244857788,1.233373761177063,1.2932085990905762,1.3553251028060913,1.4194889068603516,1.4854848384857178,1.5531755685806274,1.622546672821045,1.6937267780303955,1.766980528831482,1.842684030532837,1.921297311782837,2.0033411979675293,2.089383840560913,2.1800386905670166,2.2759668827056885,2.377889394760132,2.486599922180176,2.6029858589172363,2.7280492782592773,2.8629369735717773,3.0089731216430664,3.1677017211914063,3.340938091278076,3.5308330059051514,3.7399542331695557,3.971386194229126,4.228856563568115,4.516894340515137,4.841019153594971,5.207973957061768,5.625980854034424,6.105014801025391,6.6570281982421875,7.296021461486816,8.037742614746094,8.898645401000977,9.89354419708252,11.03127670288086,12.307927131652832,13.698385238647461,15.149700164794922,16.58327293395996,17.913532257080078,19.0827579498291,20.095380783081055,21.025110244750977,21.9813232421875,23.051105499267578,24.252920150756836,25.529733657836914,26.781620025634766,27.912567138671875,28.862688064575195,29.614852905273438,30.183544158935547,30.599061965942383,30.895252227783203,31.10272979736328,31.246305465698242,31.344829559326172,31.412052154541016,31.45773696899414]}},\"y\":{\"field\":\"gds/W in S/m\",\"scale\":{\"type\":\"log\"},\"type\":\"quantitative\"}}}).then(function (result) { console.log(result); }).catch(function (error) { ndiv.innerHTML = 'There was an error: ' + error; });});"
      ]
     },
     "metadata": {},
     "output_type": "display_data"
    },
    {
     "data": {
      "application/javascript": [
       "requirejs.config({baseUrl: 'https://cdn.jsdelivr.net/npm/',paths: {'vega-embed': 'vega-embed@6?noext','vega-lib': 'vega-lib?noext','vega-lite': 'vega-lite@4?noext','vega': 'vega@5?noext'}});var ndiv = document.createElement('div');ndiv.innerHTML = 'Awesome Vega-Lite visualization to appear here';element[0].appendChild(ndiv);require(['vega-embed'],function(vegaEmbed){vegaEmbed(ndiv,{\"height\":200,\"mark\":\"line\",\"data\":{\"values\":[{\"gm/Id in 1/V\":0.7412036657333374,\"Lines\":\"Observation\",\"L in m\":1.9999999949504854e-6},{\"gm/Id in 1/V\":0.7412036657333374,\"Lines\":\"Prediction\",\"L in m\":2.0003847112093354e-6},{\"gm/Id in 1/V\":0.7747552394866943,\"Lines\":\"Observation\",\"L in m\":1.9999999949504854e-6},{\"gm/Id in 1/V\":0.7747552394866943,\"Lines\":\"Prediction\",\"L in m\":2.0003847112093354e-6},{\"gm/Id in 1/V\":0.8101712465286255,\"Lines\":\"Observation\",\"L in m\":1.9999999949504854e-6},{\"gm/Id in 1/V\":0.8101712465286255,\"Lines\":\"Prediction\",\"L in m\":2.0003847112093354e-6},{\"gm/Id in 1/V\":0.8475828766822815,\"Lines\":\"Observation\",\"L in m\":1.9999999949504854e-6},{\"gm/Id in 1/V\":0.8475828766822815,\"Lines\":\"Prediction\",\"L in m\":2.0003847112093354e-6},{\"gm/Id in 1/V\":0.8871262073516846,\"Lines\":\"Observation\",\"L in m\":1.9999999949504854e-6},{\"gm/Id in 1/V\":0.8871262073516846,\"Lines\":\"Prediction\",\"L in m\":2.0003847112093354e-6},{\"gm/Id in 1/V\":0.9289386868476868,\"Lines\":\"Observation\",\"L in m\":1.9999999949504854e-6},{\"gm/Id in 1/V\":0.9289386868476868,\"Lines\":\"Prediction\",\"L in m\":2.0003847112093354e-6},{\"gm/Id in 1/V\":0.973153829574585,\"Lines\":\"Observation\",\"L in m\":1.9999999949504854e-6},{\"gm/Id in 1/V\":0.973153829574585,\"Lines\":\"Prediction\",\"L in m\":2.0003847112093354e-6},{\"gm/Id in 1/V\":1.019892930984497,\"Lines\":\"Observation\",\"L in m\":1.9999999949504854e-6},{\"gm/Id in 1/V\":1.019892930984497,\"Lines\":\"Prediction\",\"L in m\":2.0003847112093354e-6},{\"gm/Id in 1/V\":1.0692535638809204,\"Lines\":\"Observation\",\"L in m\":1.9999999949504854e-6},{\"gm/Id in 1/V\":1.0692535638809204,\"Lines\":\"Prediction\",\"L in m\":2.0003847112093354e-6},{\"gm/Id in 1/V\":1.1212953329086304,\"Lines\":\"Observation\",\"L in m\":1.9999999949504854e-6},{\"gm/Id in 1/V\":1.1212953329086304,\"Lines\":\"Prediction\",\"L in m\":2.0003847112093354e-6},{\"gm/Id in 1/V\":1.176023244857788,\"Lines\":\"Observation\",\"L in m\":1.9999999949504854e-6},{\"gm/Id in 1/V\":1.176023244857788,\"Lines\":\"Prediction\",\"L in m\":2.0003847112093354e-6},{\"gm/Id in 1/V\":1.233373761177063,\"Lines\":\"Observation\",\"L in m\":1.9999999949504854e-6},{\"gm/Id in 1/V\":1.233373761177063,\"Lines\":\"Prediction\",\"L in m\":2.0003847112093354e-6},{\"gm/Id in 1/V\":1.2932085990905762,\"Lines\":\"Observation\",\"L in m\":1.9999999949504854e-6},{\"gm/Id in 1/V\":1.2932085990905762,\"Lines\":\"Prediction\",\"L in m\":2.0003847112093354e-6},{\"gm/Id in 1/V\":1.3553251028060913,\"Lines\":\"Observation\",\"L in m\":1.9999999949504854e-6},{\"gm/Id in 1/V\":1.3553251028060913,\"Lines\":\"Prediction\",\"L in m\":2.0003847112093354e-6},{\"gm/Id in 1/V\":1.4194889068603516,\"Lines\":\"Observation\",\"L in m\":1.9999999949504854e-6},{\"gm/Id in 1/V\":1.4194889068603516,\"Lines\":\"Prediction\",\"L in m\":2.0003847112093354e-6},{\"gm/Id in 1/V\":1.4854848384857178,\"Lines\":\"Observation\",\"L in m\":1.9999999949504854e-6},{\"gm/Id in 1/V\":1.4854848384857178,\"Lines\":\"Prediction\",\"L in m\":2.0003847112093354e-6},{\"gm/Id in 1/V\":1.5531755685806274,\"Lines\":\"Observation\",\"L in m\":1.9999999949504854e-6},{\"gm/Id in 1/V\":1.5531755685806274,\"Lines\":\"Prediction\",\"L in m\":2.0003847112093354e-6},{\"gm/Id in 1/V\":1.622546672821045,\"Lines\":\"Observation\",\"L in m\":1.9999999949504854e-6},{\"gm/Id in 1/V\":1.622546672821045,\"Lines\":\"Prediction\",\"L in m\":2.0003847112093354e-6},{\"gm/Id in 1/V\":1.6937267780303955,\"Lines\":\"Observation\",\"L in m\":1.9999999949504854e-6},{\"gm/Id in 1/V\":1.6937267780303955,\"Lines\":\"Prediction\",\"L in m\":2.0003847112093354e-6},{\"gm/Id in 1/V\":1.766980528831482,\"Lines\":\"Observation\",\"L in m\":1.9999999949504854e-6},{\"gm/Id in 1/V\":1.766980528831482,\"Lines\":\"Prediction\",\"L in m\":2.0003847112093354e-6},{\"gm/Id in 1/V\":1.842684030532837,\"Lines\":\"Observation\",\"L in m\":1.9999999949504854e-6},{\"gm/Id in 1/V\":1.842684030532837,\"Lines\":\"Prediction\",\"L in m\":2.0003847112093354e-6},{\"gm/Id in 1/V\":1.921297311782837,\"Lines\":\"Observation\",\"L in m\":1.9999999949504854e-6},{\"gm/Id in 1/V\":1.921297311782837,\"Lines\":\"Prediction\",\"L in m\":2.0003847112093354e-6},{\"gm/Id in 1/V\":2.0033411979675293,\"Lines\":\"Observation\",\"L in m\":1.9999999949504854e-6},{\"gm/Id in 1/V\":2.0033411979675293,\"Lines\":\"Prediction\",\"L in m\":2.0003847112093354e-6},{\"gm/Id in 1/V\":2.089383840560913,\"Lines\":\"Observation\",\"L in m\":1.9999999949504854e-6},{\"gm/Id in 1/V\":2.089383840560913,\"Lines\":\"Prediction\",\"L in m\":2.0003847112093354e-6},{\"gm/Id in 1/V\":2.1800386905670166,\"Lines\":\"Observation\",\"L in m\":1.9999999949504854e-6},{\"gm/Id in 1/V\":2.1800386905670166,\"Lines\":\"Prediction\",\"L in m\":2.0003847112093354e-6},{\"gm/Id in 1/V\":2.2759668827056885,\"Lines\":\"Observation\",\"L in m\":1.9999999949504854e-6},{\"gm/Id in 1/V\":2.2759668827056885,\"Lines\":\"Prediction\",\"L in m\":2.0003847112093354e-6},{\"gm/Id in 1/V\":2.377889394760132,\"Lines\":\"Observation\",\"L in m\":1.9999999949504854e-6},{\"gm/Id in 1/V\":2.377889394760132,\"Lines\":\"Prediction\",\"L in m\":2.0003847112093354e-6},{\"gm/Id in 1/V\":2.486599922180176,\"Lines\":\"Observation\",\"L in m\":1.9999999949504854e-6},{\"gm/Id in 1/V\":2.486599922180176,\"Lines\":\"Prediction\",\"L in m\":2.0003847112093354e-6},{\"gm/Id in 1/V\":2.6029858589172363,\"Lines\":\"Observation\",\"L in m\":1.9999999949504854e-6},{\"gm/Id in 1/V\":2.6029858589172363,\"Lines\":\"Prediction\",\"L in m\":2.0003847112093354e-6},{\"gm/Id in 1/V\":2.7280492782592773,\"Lines\":\"Observation\",\"L in m\":1.9999999949504854e-6},{\"gm/Id in 1/V\":2.7280492782592773,\"Lines\":\"Prediction\",\"L in m\":2.0003847112093354e-6},{\"gm/Id in 1/V\":2.8629369735717773,\"Lines\":\"Observation\",\"L in m\":1.9999999949504854e-6},{\"gm/Id in 1/V\":2.8629369735717773,\"Lines\":\"Prediction\",\"L in m\":2.0003847112093354e-6},{\"gm/Id in 1/V\":3.0089731216430664,\"Lines\":\"Observation\",\"L in m\":1.9999999949504854e-6},{\"gm/Id in 1/V\":3.0089731216430664,\"Lines\":\"Prediction\",\"L in m\":2.0003847112093354e-6},{\"gm/Id in 1/V\":3.1677017211914063,\"Lines\":\"Observation\",\"L in m\":1.9999999949504854e-6},{\"gm/Id in 1/V\":3.1677017211914063,\"Lines\":\"Prediction\",\"L in m\":2.0003847112093354e-6},{\"gm/Id in 1/V\":3.340938091278076,\"Lines\":\"Observation\",\"L in m\":1.9999999949504854e-6},{\"gm/Id in 1/V\":3.340938091278076,\"Lines\":\"Prediction\",\"L in m\":2.0003847112093354e-6},{\"gm/Id in 1/V\":3.5308330059051514,\"Lines\":\"Observation\",\"L in m\":1.9999999949504854e-6},{\"gm/Id in 1/V\":3.5308330059051514,\"Lines\":\"Prediction\",\"L in m\":2.0003847112093354e-6},{\"gm/Id in 1/V\":3.7399542331695557,\"Lines\":\"Observation\",\"L in m\":1.9999999949504854e-6},{\"gm/Id in 1/V\":3.7399542331695557,\"Lines\":\"Prediction\",\"L in m\":2.0003847112093354e-6},{\"gm/Id in 1/V\":3.971386194229126,\"Lines\":\"Observation\",\"L in m\":1.9999999949504854e-6},{\"gm/Id in 1/V\":3.971386194229126,\"Lines\":\"Prediction\",\"L in m\":2.0003847112093354e-6},{\"gm/Id in 1/V\":4.228856563568115,\"Lines\":\"Observation\",\"L in m\":1.9999999949504854e-6},{\"gm/Id in 1/V\":4.228856563568115,\"Lines\":\"Prediction\",\"L in m\":2.0003847112093354e-6},{\"gm/Id in 1/V\":4.516894340515137,\"Lines\":\"Observation\",\"L in m\":1.9999999949504854e-6},{\"gm/Id in 1/V\":4.516894340515137,\"Lines\":\"Prediction\",\"L in m\":2.0003847112093354e-6},{\"gm/Id in 1/V\":4.841019153594971,\"Lines\":\"Observation\",\"L in m\":1.9999999949504854e-6},{\"gm/Id in 1/V\":4.841019153594971,\"Lines\":\"Prediction\",\"L in m\":2.0003847112093354e-6},{\"gm/Id in 1/V\":5.207973957061768,\"Lines\":\"Observation\",\"L in m\":1.9999999949504854e-6},{\"gm/Id in 1/V\":5.207973957061768,\"Lines\":\"Prediction\",\"L in m\":2.0003847112093354e-6},{\"gm/Id in 1/V\":5.625980854034424,\"Lines\":\"Observation\",\"L in m\":1.9999999949504854e-6},{\"gm/Id in 1/V\":5.625980854034424,\"Lines\":\"Prediction\",\"L in m\":2.0003847112093354e-6},{\"gm/Id in 1/V\":6.105014801025391,\"Lines\":\"Observation\",\"L in m\":1.9999999949504854e-6},{\"gm/Id in 1/V\":6.105014801025391,\"Lines\":\"Prediction\",\"L in m\":2.0003847112093354e-6},{\"gm/Id in 1/V\":6.6570281982421875,\"Lines\":\"Observation\",\"L in m\":1.9999999949504854e-6},{\"gm/Id in 1/V\":6.6570281982421875,\"Lines\":\"Prediction\",\"L in m\":2.0003847112093354e-6},{\"gm/Id in 1/V\":7.296021461486816,\"Lines\":\"Observation\",\"L in m\":1.9999999949504854e-6},{\"gm/Id in 1/V\":7.296021461486816,\"Lines\":\"Prediction\",\"L in m\":2.0003847112093354e-6},{\"gm/Id in 1/V\":8.037742614746094,\"Lines\":\"Observation\",\"L in m\":1.9999999949504854e-6},{\"gm/Id in 1/V\":8.037742614746094,\"Lines\":\"Prediction\",\"L in m\":2.0003847112093354e-6},{\"gm/Id in 1/V\":8.898645401000977,\"Lines\":\"Observation\",\"L in m\":1.9999999949504854e-6},{\"gm/Id in 1/V\":8.898645401000977,\"Lines\":\"Prediction\",\"L in m\":2.0003847112093354e-6},{\"gm/Id in 1/V\":9.89354419708252,\"Lines\":\"Observation\",\"L in m\":1.9999999949504854e-6},{\"gm/Id in 1/V\":9.89354419708252,\"Lines\":\"Prediction\",\"L in m\":2.0003847112093354e-6},{\"gm/Id in 1/V\":11.03127670288086,\"Lines\":\"Observation\",\"L in m\":1.9999999949504854e-6},{\"gm/Id in 1/V\":11.03127670288086,\"Lines\":\"Prediction\",\"L in m\":2.0003847112093354e-6},{\"gm/Id in 1/V\":12.307927131652832,\"Lines\":\"Observation\",\"L in m\":1.9999999949504854e-6},{\"gm/Id in 1/V\":12.307927131652832,\"Lines\":\"Prediction\",\"L in m\":2.0003847112093354e-6},{\"gm/Id in 1/V\":13.698385238647461,\"Lines\":\"Observation\",\"L in m\":1.9999999949504854e-6},{\"gm/Id in 1/V\":13.698385238647461,\"Lines\":\"Prediction\",\"L in m\":2.0003847112093354e-6},{\"gm/Id in 1/V\":15.149700164794922,\"Lines\":\"Observation\",\"L in m\":1.9999999949504854e-6},{\"gm/Id in 1/V\":15.149700164794922,\"Lines\":\"Prediction\",\"L in m\":2.0003847112093354e-6},{\"gm/Id in 1/V\":16.58327293395996,\"Lines\":\"Observation\",\"L in m\":1.9999999949504854e-6},{\"gm/Id in 1/V\":16.58327293395996,\"Lines\":\"Prediction\",\"L in m\":2.0003847112093354e-6},{\"gm/Id in 1/V\":17.913532257080078,\"Lines\":\"Observation\",\"L in m\":1.9999999949504854e-6},{\"gm/Id in 1/V\":17.913532257080078,\"Lines\":\"Prediction\",\"L in m\":2.0003847112093354e-6},{\"gm/Id in 1/V\":19.0827579498291,\"Lines\":\"Observation\",\"L in m\":1.9999999949504854e-6},{\"gm/Id in 1/V\":19.0827579498291,\"Lines\":\"Prediction\",\"L in m\":2.0003847112093354e-6},{\"gm/Id in 1/V\":20.095380783081055,\"Lines\":\"Observation\",\"L in m\":1.9999999949504854e-6},{\"gm/Id in 1/V\":20.095380783081055,\"Lines\":\"Prediction\",\"L in m\":2.0003847112093354e-6},{\"gm/Id in 1/V\":21.025110244750977,\"Lines\":\"Observation\",\"L in m\":1.9999999949504854e-6},{\"gm/Id in 1/V\":21.025110244750977,\"Lines\":\"Prediction\",\"L in m\":2.0003847112093354e-6},{\"gm/Id in 1/V\":21.9813232421875,\"Lines\":\"Observation\",\"L in m\":1.9999999949504854e-6},{\"gm/Id in 1/V\":21.9813232421875,\"Lines\":\"Prediction\",\"L in m\":2.0003847112093354e-6},{\"gm/Id in 1/V\":23.051105499267578,\"Lines\":\"Observation\",\"L in m\":1.9999999949504854e-6},{\"gm/Id in 1/V\":23.051105499267578,\"Lines\":\"Prediction\",\"L in m\":2.0003847112093354e-6},{\"gm/Id in 1/V\":24.252920150756836,\"Lines\":\"Observation\",\"L in m\":1.9999999949504854e-6},{\"gm/Id in 1/V\":24.252920150756836,\"Lines\":\"Prediction\",\"L in m\":2.0003847112093354e-6},{\"gm/Id in 1/V\":25.529733657836914,\"Lines\":\"Observation\",\"L in m\":1.9999999949504854e-6},{\"gm/Id in 1/V\":25.529733657836914,\"Lines\":\"Prediction\",\"L in m\":2.0003847112093354e-6},{\"gm/Id in 1/V\":26.781620025634766,\"Lines\":\"Observation\",\"L in m\":1.9999999949504854e-6},{\"gm/Id in 1/V\":26.781620025634766,\"Lines\":\"Prediction\",\"L in m\":2.0003847112093354e-6},{\"gm/Id in 1/V\":27.912567138671875,\"Lines\":\"Observation\",\"L in m\":1.9999999949504854e-6},{\"gm/Id in 1/V\":27.912567138671875,\"Lines\":\"Prediction\",\"L in m\":2.0003847112093354e-6},{\"gm/Id in 1/V\":28.862688064575195,\"Lines\":\"Observation\",\"L in m\":1.9999999949504854e-6},{\"gm/Id in 1/V\":28.862688064575195,\"Lines\":\"Prediction\",\"L in m\":2.0003847112093354e-6},{\"gm/Id in 1/V\":29.614852905273438,\"Lines\":\"Observation\",\"L in m\":1.9999999949504854e-6},{\"gm/Id in 1/V\":29.614852905273438,\"Lines\":\"Prediction\",\"L in m\":2.0003847112093354e-6},{\"gm/Id in 1/V\":30.183544158935547,\"Lines\":\"Observation\",\"L in m\":1.9999999949504854e-6},{\"gm/Id in 1/V\":30.183544158935547,\"Lines\":\"Prediction\",\"L in m\":2.0003847112093354e-6},{\"gm/Id in 1/V\":30.599061965942383,\"Lines\":\"Observation\",\"L in m\":1.9999999949504854e-6},{\"gm/Id in 1/V\":30.599061965942383,\"Lines\":\"Prediction\",\"L in m\":2.0003847112093354e-6},{\"gm/Id in 1/V\":30.895252227783203,\"Lines\":\"Observation\",\"L in m\":1.9999999949504854e-6},{\"gm/Id in 1/V\":30.895252227783203,\"Lines\":\"Prediction\",\"L in m\":2.0003847112093354e-6},{\"gm/Id in 1/V\":31.10272979736328,\"Lines\":\"Observation\",\"L in m\":1.9999999949504854e-6},{\"gm/Id in 1/V\":31.10272979736328,\"Lines\":\"Prediction\",\"L in m\":2.0003847112093354e-6},{\"gm/Id in 1/V\":31.246305465698242,\"Lines\":\"Observation\",\"L in m\":1.9999999949504854e-6},{\"gm/Id in 1/V\":31.246305465698242,\"Lines\":\"Prediction\",\"L in m\":2.0003847112093354e-6},{\"gm/Id in 1/V\":31.344829559326172,\"Lines\":\"Observation\",\"L in m\":1.9999999949504854e-6},{\"gm/Id in 1/V\":31.344829559326172,\"Lines\":\"Prediction\",\"L in m\":2.0003847112093354e-6},{\"gm/Id in 1/V\":31.412052154541016,\"Lines\":\"Observation\",\"L in m\":1.9999999949504854e-6},{\"gm/Id in 1/V\":31.412052154541016,\"Lines\":\"Prediction\",\"L in m\":2.0003847112093354e-6},{\"gm/Id in 1/V\":31.45773696899414,\"Lines\":\"Observation\",\"L in m\":1.9999999949504854e-6},{\"gm/Id in 1/V\":31.45773696899414,\"Lines\":\"Prediction\",\"L in m\":2.0003847112093354e-6}]},\"width\":300,\"$schema\":\"https://vega.github.io/schema/vega-lite/v4.json\",\"encoding\":{\"color\":{\"field\":\"Lines\",\"type\":\"nominal\"},\"x\":{\"field\":\"gm/Id in 1/V\",\"type\":\"quantitative\",\"axis\":{\"values\":[0.7412036657333374,0.7747552394866943,0.8101712465286255,0.8475828766822815,0.8871262073516846,0.9289386868476868,0.973153829574585,1.019892930984497,1.0692535638809204,1.1212953329086304,1.176023244857788,1.233373761177063,1.2932085990905762,1.3553251028060913,1.4194889068603516,1.4854848384857178,1.5531755685806274,1.622546672821045,1.6937267780303955,1.766980528831482,1.842684030532837,1.921297311782837,2.0033411979675293,2.089383840560913,2.1800386905670166,2.2759668827056885,2.377889394760132,2.486599922180176,2.6029858589172363,2.7280492782592773,2.8629369735717773,3.0089731216430664,3.1677017211914063,3.340938091278076,3.5308330059051514,3.7399542331695557,3.971386194229126,4.228856563568115,4.516894340515137,4.841019153594971,5.207973957061768,5.625980854034424,6.105014801025391,6.6570281982421875,7.296021461486816,8.037742614746094,8.898645401000977,9.89354419708252,11.03127670288086,12.307927131652832,13.698385238647461,15.149700164794922,16.58327293395996,17.913532257080078,19.0827579498291,20.095380783081055,21.025110244750977,21.9813232421875,23.051105499267578,24.252920150756836,25.529733657836914,26.781620025634766,27.912567138671875,28.862688064575195,29.614852905273438,30.183544158935547,30.599061965942383,30.895252227783203,31.10272979736328,31.246305465698242,31.344829559326172,31.412052154541016,31.45773696899414]}},\"y\":{\"field\":\"L in m\",\"scale\":{\"type\":\"log\"},\"type\":\"quantitative\"}}}).then(function (result) { console.log(result); }).catch(function (error) { ndiv.innerHTML = 'There was an error: ' + error; });});"
      ]
     },
     "metadata": {},
     "output_type": "display_data"
    }
   ],
   "source": [
    "toVegaLite [ idDat [] \n",
    "           , mark Line []\n",
    "           , enc1 []\n",
    "           , height 200\n",
    "           , width 300 ]\n",
    "\n",
    "toVegaLite [ gdsDat [] \n",
    "           , mark Line []\n",
    "           , enc2 []\n",
    "           , height 200\n",
    "           , width 300 ]\n",
    "\n",
    "toVegaLite [ lDat [] \n",
    "           , mark Line []\n",
    "           , enc3 []\n",
    "           , height 200\n",
    "           , width 300 ]"
   ]
  }
 ],
 "metadata": {
  "kernelspec": {
   "display_name": "Haskell",
   "language": "haskell",
   "name": "haskell"
  },
  "language_info": {
   "codemirror_mode": "ihaskell",
   "file_extension": ".hs",
   "mimetype": "text/x-haskell",
   "name": "haskell",
   "pygments_lexer": "Haskell",
   "version": "8.10.4"
  },
  "widgets": {
   "application/vnd.jupyter.widget-state+json": {
    "state": {},
    "version_major": 2,
    "version_minor": 0
   }
  }
 },
 "nbformat": 4,
 "nbformat_minor": 5
}
