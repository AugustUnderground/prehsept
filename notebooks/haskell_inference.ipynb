{
 "cells": [
  {
   "cell_type": "code",
   "execution_count": 1,
   "id": "7272e480",
   "metadata": {},
   "outputs": [],
   "source": [
    ":set -XPackageImports\n",
    ":set -XOverloadedStrings"
   ]
  },
  {
   "cell_type": "markdown",
   "id": "a803bd05",
   "metadata": {},
   "source": [
    "## Model Inference\n",
    "\n",
    "Here we will show how to load a trained model and use it for inference on raw data."
   ]
  },
  {
   "cell_type": "code",
   "execution_count": 2,
   "id": "6f3c68b7",
   "metadata": {},
   "outputs": [],
   "source": [
    "import Prelude hiding (round)\n",
    "import Graphics.Vega.VegaLite\n",
    "import qualified Torch as T\n",
    "import Data.Frame as DF\n",
    "import \"prehsept\" Lib"
   ]
  },
  {
   "cell_type": "markdown",
   "id": "80ac3c95",
   "metadata": {},
   "source": [
    "Models trained with `prehsept` can be loaded as torch script modules:"
   ]
  },
  {
   "cell_type": "code",
   "execution_count": 3,
   "id": "ecba1c82",
   "metadata": {},
   "outputs": [],
   "source": [
    "pdk       = GPDK180\n",
    "dev       = NMOS\n",
    "timeStamp = \"20220617-165140\"\n",
    "modelPath = \"../models/\" ++ show pdk ++ \"/\" ++ show dev ++ \"-\" ++ timeStamp ++ \"/trace.pt\""
   ]
  },
  {
   "cell_type": "code",
   "execution_count": 4,
   "id": "2de02f79",
   "metadata": {},
   "outputs": [
    {
     "data": {
      "text/plain": []
     },
     "metadata": {},
     "output_type": "display_data"
    }
   ],
   "source": [
    "model' <- T.loadScript T.WithoutRequiredGrad modelPath\n",
    "\n",
    "model x = y \n",
    "  where\n",
    "    T.IVTensor y = T.forward model' [T.IVTensor x]"
   ]
  },
  {
   "cell_type": "markdown",
   "id": "15529f0b",
   "metadata": {},
   "source": [
    "For comparison we will load the training data:"
   ]
  },
  {
   "cell_type": "code",
   "execution_count": 5,
   "id": "ac162461",
   "metadata": {},
   "outputs": [
    {
     "data": {
      "text/plain": []
     },
     "metadata": {},
     "output_type": "display_data"
    }
   ],
   "source": [
    "df <- DF.fromFile pdk \"../data/gpdk180-nmos.pt\""
   ]
  },
  {
   "cell_type": "markdown",
   "id": "d2e55ada",
   "metadata": {},
   "source": [
    "We'll choose a random width ($W$) and length ($L$) from the dataset:"
   ]
  },
  {
   "cell_type": "code",
   "execution_count": 6,
   "id": "2a83719d",
   "metadata": {},
   "outputs": [],
   "source": [
    "(ws, _, _) = T.uniqueDim 0 False False False $ df ?? \"W\"\n",
    "(ls, _, _) = T.uniqueDim 0 False False False $ df ?? \"L\""
   ]
  },
  {
   "cell_type": "code",
   "execution_count": 7,
   "id": "18df31ad",
   "metadata": {},
   "outputs": [
    {
     "data": {
      "text/plain": []
     },
     "metadata": {},
     "output_type": "display_data"
    }
   ],
   "source": [
    "choicesW <- T.multinomialIO (T.arange' 0 (head $ T.shape ws) 1) 1 False\n",
    "w = T.squeezeAll $ T.indexSelect 0 choicesW ws\n",
    "\n",
    "choicesL <- T.multinomialIO (T.arange' 0 (head $ T.shape ls) 1) 1 False\n",
    "l = T.squeezeAll $ T.indexSelect 0 choicesL ls\n",
    "\n",
    "vdd = T.squeezeAll . fst . T.maxDim (T.Dim 0) T.RemoveDim $ df ?? \"M0.m1:vds\""
   ]
  },
  {
   "cell_type": "code",
   "execution_count": 8,
   "id": "89224829",
   "metadata": {},
   "outputs": [],
   "source": [
    "vbs = round 2 $ df ?? \"M0.m1:vbs\"\n",
    "vgs = round 2 $ df ?? \"M0.m1:vgs\"\n",
    "vds = round 2 $ df ?? \"M0.m1:vds\""
   ]
  },
  {
   "cell_type": "code",
   "execution_count": 9,
   "id": "038346cf",
   "metadata": {},
   "outputs": [],
   "source": [
    "traces = DF.sort False \"M0.m1:gmoverid\" \n",
    "       . DF.lookup [ \"M0.m1:gmoverid\", \"M0.m1:fug\", \"M0.m1:vds\", \"M0.m1:vbs\"\n",
    "                   , \"M0.m1:id\", \"W\", \"L\", \"M0.m1:gm\", \"M0.m1:gds\", \"M0.m1:vgs\" ]\n",
    "       . DF.rowFilter ( T.logicalAnd ((df ?? \"W\") `T.eq` w)\n",
    "                      . T.logicalAnd ((df ?? \"L\") `T.eq` l)\n",
    "                      . T.logicalAnd (vbs `T.eq` 0.0)\n",
    "                      $ (vds `T.eq` (vdd / 2.0))) \n",
    "       $ df"
   ]
  },
  {
   "cell_type": "markdown",
   "id": "15de15e0",
   "metadata": {},
   "source": [
    "Next we will get the model inputs from the trace as torch tensor:"
   ]
  },
  {
   "cell_type": "code",
   "execution_count": 10,
   "id": "5f9eeb54",
   "metadata": {},
   "outputs": [],
   "source": [
    "x = DF.values . DF.lookup [\"M0.m1:gmoverid\", \"M0.m1:fug\", \"M0.m1:vds\", \"M0.m1:vbs\"]  $ traces"
   ]
  },
  {
   "cell_type": "markdown",
   "id": "cffc9f66",
   "metadata": {},
   "source": [
    "... and feed it through the model"
   ]
  },
  {
   "cell_type": "code",
   "execution_count": 11,
   "id": "2dc45e0f",
   "metadata": {},
   "outputs": [],
   "source": [
    "y = model x"
   ]
  },
  {
   "cell_type": "markdown",
   "id": "6ea84af4",
   "metadata": {},
   "source": [
    "Now we extract the results and compare them with the original data:"
   ]
  },
  {
   "cell_type": "code",
   "execution_count": 12,
   "id": "c9afca16",
   "metadata": {},
   "outputs": [
    {
     "data": {
      "text/plain": []
     },
     "metadata": {},
     "output_type": "display_data"
    }
   ],
   "source": [
    "trueGmOverId = T.squeezeAll $ traces ?? \"M0.m1:gmoverid\"\n",
    "trueIdOverW  = T.squeezeAll $ (traces ?? \"M0.m1:id\") / (traces ?? \"W\")\n",
    "trueGdsOverW = T.squeezeAll $ (traces ?? \"M0.m1:gds\") / (traces ?? \"W\")\n",
    "trueL        = T.squeezeAll $ traces ?? \"L\"\n",
    "trueVgs      = T.squeezeAll $ traces ?? \"M0.m1:vgs\"\n",
    "\n",
    "predGmOverId = T.squeezeAll $ T.indexSelect' 1 [0] x\n",
    "predIdOverW  = T.squeezeAll $ T.indexSelect' 1 [0] y\n",
    "predGdsOverW = T.squeezeAll $ T.indexSelect' 1 [2] y\n",
    "predL'       = T.squeezeAll $ T.indexSelect' 1 [1] y\n",
    "predVgs      = T.squeezeAll $ T.indexSelect' 1 [3] y\n",
    "\n",
    "meanL        = T.mean predL'\n",
    "stdL         = T.std  predL'\n",
    "hiL          = T.max $ df ?? \"L\"\n",
    "loL          = T.min $ df ?? \"L\"\n",
    "\n",
    "meanL'       = T.asValue meanL\n",
    "predL        <- T.fullLike trueL meanL' T.defaultOpts"
   ]
  },
  {
   "cell_type": "code",
   "execution_count": 13,
   "id": "a2f896d7",
   "metadata": {},
   "outputs": [],
   "source": [
    "plotData :: T.Tensor -> T.Tensor -> T.Tensor -> [(Double, (Double, Double))]\n",
    "plotData x y y' = zip (T.asValue $ T.toDType T.Double x) \n",
    "                $ zip (T.asValue $ T.toDType T.Double y) \n",
    "                      (T.asValue $ T.toDType T.Double y')\n",
    "\n",
    "plt xAx yAx = foldl (\\sum' (x, (y, y')) -> sum'\n",
    "                    . dataRow [ (xAx, Number x)\n",
    "                              , (yAx, Number y)\n",
    "                              , (\"Lines\",   Str \"Observation\") ] \n",
    "                    . dataRow [ (xAx, Number x)\n",
    "                              , (yAx, Number y')\n",
    "                              , (\"Lines\",   Str \"Prediction\") ]\n",
    "                    ) (dataFromRows [])"
   ]
  },
  {
   "cell_type": "code",
   "execution_count": 14,
   "id": "8ea24f0d",
   "metadata": {},
   "outputs": [],
   "source": [
    "idPlot  = plotData trueGmOverId trueIdOverW  predIdOverW\n",
    "gdsPlot = plotData trueGmOverId trueGdsOverW predGdsOverW\n",
    "lPlot   = plotData trueGmOverId trueL        predL"
   ]
  },
  {
   "cell_type": "code",
   "execution_count": 15,
   "id": "16801881",
   "metadata": {},
   "outputs": [],
   "source": [
    "ax1  = PAxis [AxValues (Numbers (map fst idPlot))]\n",
    "enc1 = encoding\n",
    "     . position X [ PName \"gm/Id in 1/V\", PmType Quantitative, ax1 ]\n",
    "     . position Y [ PName \"Id/W in A/m\", PmType Quantitative, PScale [SType ScLog]  ]\n",
    "     . color [ MName \"Lines\", MmType Nominal ]\n",
    "\n",
    "ax2  = PAxis [AxValues (Numbers (map fst gdsPlot))]\n",
    "enc2 = encoding\n",
    "     . position X [ PName \"gm/Id in 1/V\", PmType Quantitative, ax2 ]\n",
    "     . position Y [ PName \"gds/W in S/m\", PmType Quantitative, PScale [SType ScLog]  ]\n",
    "     . color [ MName \"Lines\", MmType Nominal ]\n",
    "\n",
    "ax3  = PAxis [AxValues (Numbers (map fst lPlot))]\n",
    "enc3 = encoding\n",
    "     . position X [ PName \"gm/Id in 1/V\", PmType Quantitative, ax3 ]\n",
    "     . position Y [ PName \"L in m\", PmType Quantitative, PScale [SType ScLog]  ]\n",
    "     . color [ MName \"Lines\", MmType Nominal ]"
   ]
  },
  {
   "cell_type": "code",
   "execution_count": 16,
   "id": "4ff383e1",
   "metadata": {},
   "outputs": [],
   "source": [
    "idDat  = plt \"gm/Id in 1/V\" \"Id/W in A/m\"  idPlot\n",
    "gdsDat = plt \"gm/Id in 1/V\" \"gds/W in S/m\" gdsPlot\n",
    "lDat   = plt \"gm/Id in 1/V\" \"L in m\"       lPlot"
   ]
  },
  {
   "cell_type": "code",
   "execution_count": 17,
   "id": "145b6604",
   "metadata": {},
   "outputs": [
    {
     "data": {
      "application/javascript": [
       "requirejs.config({baseUrl: 'https://cdn.jsdelivr.net/npm/',paths: {'vega-embed': 'vega-embed@6?noext','vega-lib': 'vega-lib?noext','vega-lite': 'vega-lite@4?noext','vega': 'vega@5?noext'}});var ndiv = document.createElement('div');ndiv.innerHTML = 'Awesome Vega-Lite visualization to appear here';element[0].appendChild(ndiv);require(['vega-embed'],function(vegaEmbed){vegaEmbed(ndiv,{\"height\":200,\"mark\":\"line\",\"data\":{\"values\":[{\"gm/Id in 1/V\":0.7179197669029236,\"Lines\":\"Observation\",\"Id/W in A/m\":39.471458435058594},{\"gm/Id in 1/V\":0.7179197669029236,\"Lines\":\"Prediction\",\"Id/W in A/m\":40.05593490600586},{\"gm/Id in 1/V\":0.7861800789833069,\"Lines\":\"Observation\",\"Id/W in A/m\":38.01609420776367},{\"gm/Id in 1/V\":0.7861800789833069,\"Lines\":\"Prediction\",\"Id/W in A/m\":38.96078109741211},{\"gm/Id in 1/V\":0.8624401688575745,\"Lines\":\"Observation\",\"Id/W in A/m\":36.48251724243164},{\"gm/Id in 1/V\":0.8624401688575745,\"Lines\":\"Prediction\",\"Id/W in A/m\":38.01142120361328},{\"gm/Id in 1/V\":0.9479431509971619,\"Lines\":\"Observation\",\"Id/W in A/m\":34.86970520019531},{\"gm/Id in 1/V\":0.9479431509971619,\"Lines\":\"Prediction\",\"Id/W in A/m\":36.88240051269531},{\"gm/Id in 1/V\":1.044040322303772,\"Lines\":\"Observation\",\"Id/W in A/m\":33.17741775512695},{\"gm/Id in 1/V\":1.044040322303772,\"Lines\":\"Prediction\",\"Id/W in A/m\":35.420867919921875},{\"gm/Id in 1/V\":1.1520111560821533,\"Lines\":\"Observation\",\"Id/W in A/m\":31.406774520874023},{\"gm/Id in 1/V\":1.1520111560821533,\"Lines\":\"Prediction\",\"Id/W in A/m\":33.828189849853516},{\"gm/Id in 1/V\":1.2726426124572754,\"Lines\":\"Observation\",\"Id/W in A/m\":29.56124496459961},{\"gm/Id in 1/V\":1.2726426124572754,\"Lines\":\"Prediction\",\"Id/W in A/m\":32.086891174316406},{\"gm/Id in 1/V\":1.4055227041244507,\"Lines\":\"Observation\",\"Id/W in A/m\":27.648229598999023},{\"gm/Id in 1/V\":1.4055227041244507,\"Lines\":\"Prediction\",\"Id/W in A/m\":30.277441024780273},{\"gm/Id in 1/V\":1.5485122203826904,\"Lines\":\"Observation\",\"Id/W in A/m\":25.680965423583984},{\"gm/Id in 1/V\":1.5485122203826904,\"Lines\":\"Prediction\",\"Id/W in A/m\":28.21099853515625},{\"gm/Id in 1/V\":1.6986396312713623,\"Lines\":\"Observation\",\"Id/W in A/m\":23.67925453186035},{\"gm/Id in 1/V\":1.6986396312713623,\"Lines\":\"Prediction\",\"Id/W in A/m\":26.24717903137207},{\"gm/Id in 1/V\":1.8546797037124634,\"Lines\":\"Observation\",\"Id/W in A/m\":21.667118072509766},{\"gm/Id in 1/V\":1.8546797037124634,\"Lines\":\"Prediction\",\"Id/W in A/m\":23.943445205688477},{\"gm/Id in 1/V\":2.0188076496124268,\"Lines\":\"Observation\",\"Id/W in A/m\":19.668210983276367},{\"gm/Id in 1/V\":2.0188076496124268,\"Lines\":\"Prediction\",\"Id/W in A/m\":21.07500457763672},{\"gm/Id in 1/V\":2.1957273483276367,\"Lines\":\"Observation\",\"Id/W in A/m\":17.70253562927246},{\"gm/Id in 1/V\":2.1957273483276367,\"Lines\":\"Prediction\",\"Id/W in A/m\":17.9103946685791},{\"gm/Id in 1/V\":2.3912291526794434,\"Lines\":\"Observation\",\"Id/W in A/m\":15.786057472229004},{\"gm/Id in 1/V\":2.3912291526794434,\"Lines\":\"Prediction\",\"Id/W in A/m\":15.091283798217773},{\"gm/Id in 1/V\":2.611757755279541,\"Lines\":\"Observation\",\"Id/W in A/m\":13.931804656982422},{\"gm/Id in 1/V\":2.611757755279541,\"Lines\":\"Prediction\",\"Id/W in A/m\":13.14830493927002},{\"gm/Id in 1/V\":2.864828109741211,\"Lines\":\"Observation\",\"Id/W in A/m\":12.1510591506958},{\"gm/Id in 1/V\":2.864828109741211,\"Lines\":\"Prediction\",\"Id/W in A/m\":11.777122497558594},{\"gm/Id in 1/V\":3.15987229347229,\"Lines\":\"Observation\",\"Id/W in A/m\":10.454164505004883},{\"gm/Id in 1/V\":3.15987229347229,\"Lines\":\"Prediction\",\"Id/W in A/m\":10.191851615905762},{\"gm/Id in 1/V\":3.5094408988952637,\"Lines\":\"Observation\",\"Id/W in A/m\":8.850998878479004},{\"gm/Id in 1/V\":3.5094408988952637,\"Lines\":\"Prediction\",\"Id/W in A/m\":8.634967803955078},{\"gm/Id in 1/V\":3.930957078933716,\"Lines\":\"Observation\",\"Id/W in A/m\":7.351241111755371},{\"gm/Id in 1/V\":3.930957078933716,\"Lines\":\"Prediction\",\"Id/W in A/m\":7.035342693328857},{\"gm/Id in 1/V\":4.449393272399902,\"Lines\":\"Observation\",\"Id/W in A/m\":5.964552402496338},{\"gm/Id in 1/V\":4.449393272399902,\"Lines\":\"Prediction\",\"Id/W in A/m\":5.410961627960205},{\"gm/Id in 1/V\":5.101413249969482,\"Lines\":\"Observation\",\"Id/W in A/m\":4.700750827789307},{\"gm/Id in 1/V\":5.101413249969482,\"Lines\":\"Prediction\",\"Id/W in A/m\":4.355672836303711},{\"gm/Id in 1/V\":5.941534996032715,\"Lines\":\"Observation\",\"Id/W in A/m\":3.5700576305389404},{\"gm/Id in 1/V\":5.941534996032715,\"Lines\":\"Prediction\",\"Id/W in A/m\":3.504582166671753},{\"gm/Id in 1/V\":7.050020694732666,\"Lines\":\"Observation\",\"Id/W in A/m\":2.583447217941284},{\"gm/Id in 1/V\":7.050020694732666,\"Lines\":\"Prediction\",\"Id/W in A/m\":2.629145383834839},{\"gm/Id in 1/V\":8.537914276123047,\"Lines\":\"Observation\",\"Id/W in A/m\":1.7529139518737793},{\"gm/Id in 1/V\":8.537914276123047,\"Lines\":\"Prediction\",\"Id/W in A/m\":1.6662484407424927},{\"gm/Id in 1/V\":10.530303955078125,\"Lines\":\"Observation\",\"Id/W in A/m\":1.0907937288284302},{\"gm/Id in 1/V\":10.530303955078125,\"Lines\":\"Prediction\",\"Id/W in A/m\":1.0019936561584473},{\"gm/Id in 1/V\":13.078646659851074,\"Lines\":\"Observation\",\"Id/W in A/m\":0.605829656124115},{\"gm/Id in 1/V\":13.078646659851074,\"Lines\":\"Prediction\",\"Id/W in A/m\":0.5622098445892334},{\"gm/Id in 1/V\":15.959969520568848,\"Lines\":\"Observation\",\"Id/W in A/m\":0.2932426631450653},{\"gm/Id in 1/V\":15.959969520568848,\"Lines\":\"Prediction\",\"Id/W in A/m\":0.28960928320884705},{\"gm/Id in 1/V\":18.584840774536133,\"Lines\":\"Observation\",\"Id/W in A/m\":0.12334278970956802},{\"gm/Id in 1/V\":18.584840774536133,\"Lines\":\"Prediction\",\"Id/W in A/m\":0.12502607703208923},{\"gm/Id in 1/V\":20.575002670288086,\"Lines\":\"Observation\",\"Id/W in A/m\":4.623572528362274e-2},{\"gm/Id in 1/V\":20.575002670288086,\"Lines\":\"Prediction\",\"Id/W in A/m\":5.8411333709955215e-2},{\"gm/Id in 1/V\":22.453310012817383,\"Lines\":\"Observation\",\"Id/W in A/m\":1.579083688557148e-2},{\"gm/Id in 1/V\":22.453310012817383,\"Lines\":\"Prediction\",\"Id/W in A/m\":1.965498737990856e-2},{\"gm/Id in 1/V\":24.84420394897461,\"Lines\":\"Observation\",\"Id/W in A/m\":4.851025994867086e-3},{\"gm/Id in 1/V\":24.84420394897461,\"Lines\":\"Prediction\",\"Id/W in A/m\":4.9949390813708305e-3},{\"gm/Id in 1/V\":27.39768409729004,\"Lines\":\"Observation\",\"Id/W in A/m\":1.3127989368513227e-3},{\"gm/Id in 1/V\":27.39768409729004,\"Lines\":\"Prediction\",\"Id/W in A/m\":1.0693420190364122e-3},{\"gm/Id in 1/V\":29.385286331176758,\"Lines\":\"Observation\",\"Id/W in A/m\":3.165047673974186e-4},{\"gm/Id in 1/V\":29.385286331176758,\"Lines\":\"Prediction\",\"Id/W in A/m\":1.1715816071955487e-4},{\"gm/Id in 1/V\":30.594667434692383,\"Lines\":\"Observation\",\"Id/W in A/m\":7.053882291074842e-5},{\"gm/Id in 1/V\":30.594667434692383,\"Lines\":\"Prediction\",\"Id/W in A/m\":6.218490307219326e-5},{\"gm/Id in 1/V\":31.228740692138672,\"Lines\":\"Observation\",\"Id/W in A/m\":1.510240872448776e-5},{\"gm/Id in 1/V\":31.228740692138672,\"Lines\":\"Prediction\",\"Id/W in A/m\":9.854091331362724e-6},{\"gm/Id in 1/V\":31.536136627197266,\"Lines\":\"Observation\",\"Id/W in A/m\":3.2342061331291916e-6},{\"gm/Id in 1/V\":31.536136627197266,\"Lines\":\"Prediction\",\"Id/W in A/m\":3.19983746521757e-6},{\"gm/Id in 1/V\":31.679584503173828,\"Lines\":\"Observation\",\"Id/W in A/m\":7.583115575471311e-7},{\"gm/Id in 1/V\":31.679584503173828,\"Lines\":\"Prediction\",\"Id/W in A/m\":1.440107212147268e-6}]},\"width\":300,\"$schema\":\"https://vega.github.io/schema/vega-lite/v4.json\",\"encoding\":{\"color\":{\"field\":\"Lines\",\"type\":\"nominal\"},\"x\":{\"field\":\"gm/Id in 1/V\",\"type\":\"quantitative\",\"axis\":{\"values\":[0.7179197669029236,0.7861800789833069,0.8624401688575745,0.9479431509971619,1.044040322303772,1.1520111560821533,1.2726426124572754,1.4055227041244507,1.5485122203826904,1.6986396312713623,1.8546797037124634,2.0188076496124268,2.1957273483276367,2.3912291526794434,2.611757755279541,2.864828109741211,3.15987229347229,3.5094408988952637,3.930957078933716,4.449393272399902,5.101413249969482,5.941534996032715,7.050020694732666,8.537914276123047,10.530303955078125,13.078646659851074,15.959969520568848,18.584840774536133,20.575002670288086,22.453310012817383,24.84420394897461,27.39768409729004,29.385286331176758,30.594667434692383,31.228740692138672,31.536136627197266,31.679584503173828]}},\"y\":{\"field\":\"Id/W in A/m\",\"scale\":{\"type\":\"log\"},\"type\":\"quantitative\"}}}).then(function (result) { console.log(result); }).catch(function (error) { ndiv.innerHTML = 'There was an error: ' + error; });});"
      ]
     },
     "metadata": {},
     "output_type": "display_data"
    },
    {
     "data": {
      "application/javascript": [
       "requirejs.config({baseUrl: 'https://cdn.jsdelivr.net/npm/',paths: {'vega-embed': 'vega-embed@6?noext','vega-lib': 'vega-lib?noext','vega-lite': 'vega-lite@4?noext','vega': 'vega@5?noext'}});var ndiv = document.createElement('div');ndiv.innerHTML = 'Awesome Vega-Lite visualization to appear here';element[0].appendChild(ndiv);require(['vega-embed'],function(vegaEmbed){vegaEmbed(ndiv,{\"height\":200,\"mark\":\"line\",\"data\":{\"values\":[{\"gm/Id in 1/V\":0.7179197669029236,\"Lines\":\"Observation\",\"gds/W in S/m\":20.008407592773438},{\"gm/Id in 1/V\":0.7179197669029236,\"Lines\":\"Prediction\",\"gds/W in S/m\":20.121192932128906},{\"gm/Id in 1/V\":0.7861800789833069,\"Lines\":\"Observation\",\"gds/W in S/m\":18.00468635559082},{\"gm/Id in 1/V\":0.7861800789833069,\"Lines\":\"Prediction\",\"gds/W in S/m\":18.198976516723633},{\"gm/Id in 1/V\":0.8624401688575745,\"Lines\":\"Observation\",\"gds/W in S/m\":15.93046760559082},{\"gm/Id in 1/V\":0.8624401688575745,\"Lines\":\"Prediction\",\"gds/W in S/m\":15.959670066833496},{\"gm/Id in 1/V\":0.9479431509971619,\"Lines\":\"Observation\",\"gds/W in S/m\":13.79542350769043},{\"gm/Id in 1/V\":0.9479431509971619,\"Lines\":\"Prediction\",\"gds/W in S/m\":13.652822494506836},{\"gm/Id in 1/V\":1.044040322303772,\"Lines\":\"Observation\",\"gds/W in S/m\":11.618037223815918},{\"gm/Id in 1/V\":1.044040322303772,\"Lines\":\"Prediction\",\"gds/W in S/m\":11.248905181884766},{\"gm/Id in 1/V\":1.1520111560821533,\"Lines\":\"Observation\",\"gds/W in S/m\":9.432840347290039},{\"gm/Id in 1/V\":1.1520111560821533,\"Lines\":\"Prediction\",\"gds/W in S/m\":9.028270721435547},{\"gm/Id in 1/V\":1.2726426124572754,\"Lines\":\"Observation\",\"gds/W in S/m\":7.301814079284668},{\"gm/Id in 1/V\":1.2726426124572754,\"Lines\":\"Prediction\",\"gds/W in S/m\":6.9404215812683105},{\"gm/Id in 1/V\":1.4055227041244507,\"Lines\":\"Observation\",\"gds/W in S/m\":5.325689792633057},{\"gm/Id in 1/V\":1.4055227041244507,\"Lines\":\"Prediction\",\"gds/W in S/m\":5.052257537841797},{\"gm/Id in 1/V\":1.5485122203826904,\"Lines\":\"Observation\",\"gds/W in S/m\":3.635931968688965},{\"gm/Id in 1/V\":1.5485122203826904,\"Lines\":\"Prediction\",\"gds/W in S/m\":3.7010021209716797},{\"gm/Id in 1/V\":1.6986396312713623,\"Lines\":\"Observation\",\"gds/W in S/m\":2.341543674468994},{\"gm/Id in 1/V\":1.6986396312713623,\"Lines\":\"Prediction\",\"gds/W in S/m\":2.515693187713623},{\"gm/Id in 1/V\":1.8546797037124634,\"Lines\":\"Observation\",\"gds/W in S/m\":1.458345890045166},{\"gm/Id in 1/V\":1.8546797037124634,\"Lines\":\"Prediction\",\"gds/W in S/m\":1.7644939422607422},{\"gm/Id in 1/V\":2.0188076496124268,\"Lines\":\"Observation\",\"gds/W in S/m\":0.9062613844871521},{\"gm/Id in 1/V\":2.0188076496124268,\"Lines\":\"Prediction\",\"gds/W in S/m\":1.158754825592041},{\"gm/Id in 1/V\":2.1957273483276367,\"Lines\":\"Observation\",\"gds/W in S/m\":0.5752881765365601},{\"gm/Id in 1/V\":2.1957273483276367,\"Lines\":\"Prediction\",\"gds/W in S/m\":0.653723955154419},{\"gm/Id in 1/V\":2.3912291526794434,\"Lines\":\"Observation\",\"gds/W in S/m\":0.377327561378479},{\"gm/Id in 1/V\":2.3912291526794434,\"Lines\":\"Prediction\",\"gds/W in S/m\":0.3728131651878357},{\"gm/Id in 1/V\":2.611757755279541,\"Lines\":\"Observation\",\"gds/W in S/m\":0.2563890814781189},{\"gm/Id in 1/V\":2.611757755279541,\"Lines\":\"Prediction\",\"gds/W in S/m\":0.26392072439193726},{\"gm/Id in 1/V\":2.864828109741211,\"Lines\":\"Observation\",\"gds/W in S/m\":0.18013688921928406},{\"gm/Id in 1/V\":2.864828109741211,\"Lines\":\"Prediction\",\"gds/W in S/m\":0.2013264000415802},{\"gm/Id in 1/V\":3.15987229347229,\"Lines\":\"Observation\",\"gds/W in S/m\":0.1303650140762329},{\"gm/Id in 1/V\":3.15987229347229,\"Lines\":\"Prediction\",\"gds/W in S/m\":0.14729049801826477},{\"gm/Id in 1/V\":3.5094408988952637,\"Lines\":\"Observation\",\"gds/W in S/m\":9.672920405864716e-2},{\"gm/Id in 1/V\":3.5094408988952637,\"Lines\":\"Prediction\",\"gds/W in S/m\":0.10366442799568176},{\"gm/Id in 1/V\":3.930957078933716,\"Lines\":\"Observation\",\"gds/W in S/m\":7.320784032344818e-2},{\"gm/Id in 1/V\":3.930957078933716,\"Lines\":\"Prediction\",\"gds/W in S/m\":7.718522101640701e-2},{\"gm/Id in 1/V\":4.449393272399902,\"Lines\":\"Observation\",\"gds/W in S/m\":5.619104579091072e-2},{\"gm/Id in 1/V\":4.449393272399902,\"Lines\":\"Prediction\",\"gds/W in S/m\":5.672626197338104e-2},{\"gm/Id in 1/V\":5.101413249969482,\"Lines\":\"Observation\",\"gds/W in S/m\":4.344998300075531e-2},{\"gm/Id in 1/V\":5.101413249969482,\"Lines\":\"Prediction\",\"gds/W in S/m\":4.501739889383316e-2},{\"gm/Id in 1/V\":5.941534996032715,\"Lines\":\"Observation\",\"gds/W in S/m\":3.3571768552064896e-2},{\"gm/Id in 1/V\":5.941534996032715,\"Lines\":\"Prediction\",\"gds/W in S/m\":3.636385500431061e-2},{\"gm/Id in 1/V\":7.050020694732666,\"Lines\":\"Observation\",\"gds/W in S/m\":2.564406394958496e-2},{\"gm/Id in 1/V\":7.050020694732666,\"Lines\":\"Prediction\",\"gds/W in S/m\":2.7121419087052345e-2},{\"gm/Id in 1/V\":8.537914276123047,\"Lines\":\"Observation\",\"gds/W in S/m\":1.9080324098467827e-2},{\"gm/Id in 1/V\":8.537914276123047,\"Lines\":\"Prediction\",\"gds/W in S/m\":1.8474308773875237e-2},{\"gm/Id in 1/V\":10.530303955078125,\"Lines\":\"Observation\",\"gds/W in S/m\":1.3534082099795341e-2},{\"gm/Id in 1/V\":10.530303955078125,\"Lines\":\"Prediction\",\"gds/W in S/m\":1.233301404863596e-2},{\"gm/Id in 1/V\":13.078646659851074,\"Lines\":\"Observation\",\"gds/W in S/m\":8.876131847500801e-3},{\"gm/Id in 1/V\":13.078646659851074,\"Lines\":\"Prediction\",\"gds/W in S/m\":7.933060638606548e-3},{\"gm/Id in 1/V\":15.959969520568848,\"Lines\":\"Observation\",\"gds/W in S/m\":5.1840608939528465e-3},{\"gm/Id in 1/V\":15.959969520568848,\"Lines\":\"Prediction\",\"gds/W in S/m\":4.8220353201031685e-3},{\"gm/Id in 1/V\":18.584840774536133,\"Lines\":\"Observation\",\"gds/W in S/m\":2.615522826090455e-3},{\"gm/Id in 1/V\":18.584840774536133,\"Lines\":\"Prediction\",\"gds/W in S/m\":2.374672330915928e-3},{\"gm/Id in 1/V\":20.575002670288086,\"Lines\":\"Observation\",\"gds/W in S/m\":1.1340687051415443e-3},{\"gm/Id in 1/V\":20.575002670288086,\"Lines\":\"Prediction\",\"gds/W in S/m\":1.16275146137923e-3},{\"gm/Id in 1/V\":22.453310012817383,\"Lines\":\"Observation\",\"gds/W in S/m\":4.2688893154263496e-4},{\"gm/Id in 1/V\":22.453310012817383,\"Lines\":\"Prediction\",\"gds/W in S/m\":4.309539799578488e-4},{\"gm/Id in 1/V\":24.84420394897461,\"Lines\":\"Observation\",\"gds/W in S/m\":1.3905855303164572e-4},{\"gm/Id in 1/V\":24.84420394897461,\"Lines\":\"Prediction\",\"gds/W in S/m\":9.916749695548788e-5},{\"gm/Id in 1/V\":27.39768409729004,\"Lines\":\"Observation\",\"gds/W in S/m\":3.89407723559998e-5},{\"gm/Id in 1/V\":27.39768409729004,\"Lines\":\"Prediction\",\"gds/W in S/m\":3.0896357202436775e-5},{\"gm/Id in 1/V\":29.385286331176758,\"Lines\":\"Observation\",\"gds/W in S/m\":9.567487722961232e-6},{\"gm/Id in 1/V\":29.385286331176758,\"Lines\":\"Prediction\",\"gds/W in S/m\":1.4083736459724605e-5},{\"gm/Id in 1/V\":30.594667434692383,\"Lines\":\"Observation\",\"gds/W in S/m\":2.150966111003072e-6},{\"gm/Id in 1/V\":30.594667434692383,\"Lines\":\"Prediction\",\"gds/W in S/m\":2.0019781459268415e-6},{\"gm/Id in 1/V\":31.228740692138672,\"Lines\":\"Observation\",\"gds/W in S/m\":4.5996785047464073e-7},{\"gm/Id in 1/V\":31.228740692138672,\"Lines\":\"Prediction\",\"gds/W in S/m\":4.1940393202821724e-7},{\"gm/Id in 1/V\":31.536136627197266,\"Lines\":\"Observation\",\"gds/W in S/m\":9.590758054400794e-8},{\"gm/Id in 1/V\":31.536136627197266,\"Lines\":\"Prediction\",\"gds/W in S/m\":1.089705534695895e-7},{\"gm/Id in 1/V\":31.679584503173828,\"Lines\":\"Observation\",\"gds/W in S/m\":1.9758680025461217e-8},{\"gm/Id in 1/V\":31.679584503173828,\"Lines\":\"Prediction\",\"gds/W in S/m\":4.6543352283379136e-8}]},\"width\":300,\"$schema\":\"https://vega.github.io/schema/vega-lite/v4.json\",\"encoding\":{\"color\":{\"field\":\"Lines\",\"type\":\"nominal\"},\"x\":{\"field\":\"gm/Id in 1/V\",\"type\":\"quantitative\",\"axis\":{\"values\":[0.7179197669029236,0.7861800789833069,0.8624401688575745,0.9479431509971619,1.044040322303772,1.1520111560821533,1.2726426124572754,1.4055227041244507,1.5485122203826904,1.6986396312713623,1.8546797037124634,2.0188076496124268,2.1957273483276367,2.3912291526794434,2.611757755279541,2.864828109741211,3.15987229347229,3.5094408988952637,3.930957078933716,4.449393272399902,5.101413249969482,5.941534996032715,7.050020694732666,8.537914276123047,10.530303955078125,13.078646659851074,15.959969520568848,18.584840774536133,20.575002670288086,22.453310012817383,24.84420394897461,27.39768409729004,29.385286331176758,30.594667434692383,31.228740692138672,31.536136627197266,31.679584503173828]}},\"y\":{\"field\":\"gds/W in S/m\",\"scale\":{\"type\":\"log\"},\"type\":\"quantitative\"}}}).then(function (result) { console.log(result); }).catch(function (error) { ndiv.innerHTML = 'There was an error: ' + error; });});"
      ]
     },
     "metadata": {},
     "output_type": "display_data"
    },
    {
     "data": {
      "application/javascript": [
       "requirejs.config({baseUrl: 'https://cdn.jsdelivr.net/npm/',paths: {'vega-embed': 'vega-embed@6?noext','vega-lib': 'vega-lib?noext','vega-lite': 'vega-lite@4?noext','vega': 'vega@5?noext'}});var ndiv = document.createElement('div');ndiv.innerHTML = 'Awesome Vega-Lite visualization to appear here';element[0].appendChild(ndiv);require(['vega-embed'],function(vegaEmbed){vegaEmbed(ndiv,{\"height\":200,\"mark\":\"line\",\"data\":{\"values\":[{\"gm/Id in 1/V\":0.7179197669029236,\"Lines\":\"Observation\",\"L in m\":4.999999873689376e-6},{\"gm/Id in 1/V\":0.7179197669029236,\"Lines\":\"Prediction\",\"L in m\":4.6579671106883325e-6},{\"gm/Id in 1/V\":0.7861800789833069,\"Lines\":\"Observation\",\"L in m\":4.999999873689376e-6},{\"gm/Id in 1/V\":0.7861800789833069,\"Lines\":\"Prediction\",\"L in m\":4.6579671106883325e-6},{\"gm/Id in 1/V\":0.8624401688575745,\"Lines\":\"Observation\",\"L in m\":4.999999873689376e-6},{\"gm/Id in 1/V\":0.8624401688575745,\"Lines\":\"Prediction\",\"L in m\":4.6579671106883325e-6},{\"gm/Id in 1/V\":0.9479431509971619,\"Lines\":\"Observation\",\"L in m\":4.999999873689376e-6},{\"gm/Id in 1/V\":0.9479431509971619,\"Lines\":\"Prediction\",\"L in m\":4.6579671106883325e-6},{\"gm/Id in 1/V\":1.044040322303772,\"Lines\":\"Observation\",\"L in m\":4.999999873689376e-6},{\"gm/Id in 1/V\":1.044040322303772,\"Lines\":\"Prediction\",\"L in m\":4.6579671106883325e-6},{\"gm/Id in 1/V\":1.1520111560821533,\"Lines\":\"Observation\",\"L in m\":4.999999873689376e-6},{\"gm/Id in 1/V\":1.1520111560821533,\"Lines\":\"Prediction\",\"L in m\":4.6579671106883325e-6},{\"gm/Id in 1/V\":1.2726426124572754,\"Lines\":\"Observation\",\"L in m\":4.999999873689376e-6},{\"gm/Id in 1/V\":1.2726426124572754,\"Lines\":\"Prediction\",\"L in m\":4.6579671106883325e-6},{\"gm/Id in 1/V\":1.4055227041244507,\"Lines\":\"Observation\",\"L in m\":4.999999873689376e-6},{\"gm/Id in 1/V\":1.4055227041244507,\"Lines\":\"Prediction\",\"L in m\":4.6579671106883325e-6},{\"gm/Id in 1/V\":1.5485122203826904,\"Lines\":\"Observation\",\"L in m\":4.999999873689376e-6},{\"gm/Id in 1/V\":1.5485122203826904,\"Lines\":\"Prediction\",\"L in m\":4.6579671106883325e-6},{\"gm/Id in 1/V\":1.6986396312713623,\"Lines\":\"Observation\",\"L in m\":4.999999873689376e-6},{\"gm/Id in 1/V\":1.6986396312713623,\"Lines\":\"Prediction\",\"L in m\":4.6579671106883325e-6},{\"gm/Id in 1/V\":1.8546797037124634,\"Lines\":\"Observation\",\"L in m\":4.999999873689376e-6},{\"gm/Id in 1/V\":1.8546797037124634,\"Lines\":\"Prediction\",\"L in m\":4.6579671106883325e-6},{\"gm/Id in 1/V\":2.0188076496124268,\"Lines\":\"Observation\",\"L in m\":4.999999873689376e-6},{\"gm/Id in 1/V\":2.0188076496124268,\"Lines\":\"Prediction\",\"L in m\":4.6579671106883325e-6},{\"gm/Id in 1/V\":2.1957273483276367,\"Lines\":\"Observation\",\"L in m\":4.999999873689376e-6},{\"gm/Id in 1/V\":2.1957273483276367,\"Lines\":\"Prediction\",\"L in m\":4.6579671106883325e-6},{\"gm/Id in 1/V\":2.3912291526794434,\"Lines\":\"Observation\",\"L in m\":4.999999873689376e-6},{\"gm/Id in 1/V\":2.3912291526794434,\"Lines\":\"Prediction\",\"L in m\":4.6579671106883325e-6},{\"gm/Id in 1/V\":2.611757755279541,\"Lines\":\"Observation\",\"L in m\":4.999999873689376e-6},{\"gm/Id in 1/V\":2.611757755279541,\"Lines\":\"Prediction\",\"L in m\":4.6579671106883325e-6},{\"gm/Id in 1/V\":2.864828109741211,\"Lines\":\"Observation\",\"L in m\":4.999999873689376e-6},{\"gm/Id in 1/V\":2.864828109741211,\"Lines\":\"Prediction\",\"L in m\":4.6579671106883325e-6},{\"gm/Id in 1/V\":3.15987229347229,\"Lines\":\"Observation\",\"L in m\":4.999999873689376e-6},{\"gm/Id in 1/V\":3.15987229347229,\"Lines\":\"Prediction\",\"L in m\":4.6579671106883325e-6},{\"gm/Id in 1/V\":3.5094408988952637,\"Lines\":\"Observation\",\"L in m\":4.999999873689376e-6},{\"gm/Id in 1/V\":3.5094408988952637,\"Lines\":\"Prediction\",\"L in m\":4.6579671106883325e-6},{\"gm/Id in 1/V\":3.930957078933716,\"Lines\":\"Observation\",\"L in m\":4.999999873689376e-6},{\"gm/Id in 1/V\":3.930957078933716,\"Lines\":\"Prediction\",\"L in m\":4.6579671106883325e-6},{\"gm/Id in 1/V\":4.449393272399902,\"Lines\":\"Observation\",\"L in m\":4.999999873689376e-6},{\"gm/Id in 1/V\":4.449393272399902,\"Lines\":\"Prediction\",\"L in m\":4.6579671106883325e-6},{\"gm/Id in 1/V\":5.101413249969482,\"Lines\":\"Observation\",\"L in m\":4.999999873689376e-6},{\"gm/Id in 1/V\":5.101413249969482,\"Lines\":\"Prediction\",\"L in m\":4.6579671106883325e-6},{\"gm/Id in 1/V\":5.941534996032715,\"Lines\":\"Observation\",\"L in m\":4.999999873689376e-6},{\"gm/Id in 1/V\":5.941534996032715,\"Lines\":\"Prediction\",\"L in m\":4.6579671106883325e-6},{\"gm/Id in 1/V\":7.050020694732666,\"Lines\":\"Observation\",\"L in m\":4.999999873689376e-6},{\"gm/Id in 1/V\":7.050020694732666,\"Lines\":\"Prediction\",\"L in m\":4.6579671106883325e-6},{\"gm/Id in 1/V\":8.537914276123047,\"Lines\":\"Observation\",\"L in m\":4.999999873689376e-6},{\"gm/Id in 1/V\":8.537914276123047,\"Lines\":\"Prediction\",\"L in m\":4.6579671106883325e-6},{\"gm/Id in 1/V\":10.530303955078125,\"Lines\":\"Observation\",\"L in m\":4.999999873689376e-6},{\"gm/Id in 1/V\":10.530303955078125,\"Lines\":\"Prediction\",\"L in m\":4.6579671106883325e-6},{\"gm/Id in 1/V\":13.078646659851074,\"Lines\":\"Observation\",\"L in m\":4.999999873689376e-6},{\"gm/Id in 1/V\":13.078646659851074,\"Lines\":\"Prediction\",\"L in m\":4.6579671106883325e-6},{\"gm/Id in 1/V\":15.959969520568848,\"Lines\":\"Observation\",\"L in m\":4.999999873689376e-6},{\"gm/Id in 1/V\":15.959969520568848,\"Lines\":\"Prediction\",\"L in m\":4.6579671106883325e-6},{\"gm/Id in 1/V\":18.584840774536133,\"Lines\":\"Observation\",\"L in m\":4.999999873689376e-6},{\"gm/Id in 1/V\":18.584840774536133,\"Lines\":\"Prediction\",\"L in m\":4.6579671106883325e-6},{\"gm/Id in 1/V\":20.575002670288086,\"Lines\":\"Observation\",\"L in m\":4.999999873689376e-6},{\"gm/Id in 1/V\":20.575002670288086,\"Lines\":\"Prediction\",\"L in m\":4.6579671106883325e-6},{\"gm/Id in 1/V\":22.453310012817383,\"Lines\":\"Observation\",\"L in m\":4.999999873689376e-6},{\"gm/Id in 1/V\":22.453310012817383,\"Lines\":\"Prediction\",\"L in m\":4.6579671106883325e-6},{\"gm/Id in 1/V\":24.84420394897461,\"Lines\":\"Observation\",\"L in m\":4.999999873689376e-6},{\"gm/Id in 1/V\":24.84420394897461,\"Lines\":\"Prediction\",\"L in m\":4.6579671106883325e-6},{\"gm/Id in 1/V\":27.39768409729004,\"Lines\":\"Observation\",\"L in m\":4.999999873689376e-6},{\"gm/Id in 1/V\":27.39768409729004,\"Lines\":\"Prediction\",\"L in m\":4.6579671106883325e-6},{\"gm/Id in 1/V\":29.385286331176758,\"Lines\":\"Observation\",\"L in m\":4.999999873689376e-6},{\"gm/Id in 1/V\":29.385286331176758,\"Lines\":\"Prediction\",\"L in m\":4.6579671106883325e-6},{\"gm/Id in 1/V\":30.594667434692383,\"Lines\":\"Observation\",\"L in m\":4.999999873689376e-6},{\"gm/Id in 1/V\":30.594667434692383,\"Lines\":\"Prediction\",\"L in m\":4.6579671106883325e-6},{\"gm/Id in 1/V\":31.228740692138672,\"Lines\":\"Observation\",\"L in m\":4.999999873689376e-6},{\"gm/Id in 1/V\":31.228740692138672,\"Lines\":\"Prediction\",\"L in m\":4.6579671106883325e-6},{\"gm/Id in 1/V\":31.536136627197266,\"Lines\":\"Observation\",\"L in m\":4.999999873689376e-6},{\"gm/Id in 1/V\":31.536136627197266,\"Lines\":\"Prediction\",\"L in m\":4.6579671106883325e-6},{\"gm/Id in 1/V\":31.679584503173828,\"Lines\":\"Observation\",\"L in m\":4.999999873689376e-6},{\"gm/Id in 1/V\":31.679584503173828,\"Lines\":\"Prediction\",\"L in m\":4.6579671106883325e-6}]},\"width\":300,\"$schema\":\"https://vega.github.io/schema/vega-lite/v4.json\",\"encoding\":{\"color\":{\"field\":\"Lines\",\"type\":\"nominal\"},\"x\":{\"field\":\"gm/Id in 1/V\",\"type\":\"quantitative\",\"axis\":{\"values\":[0.7179197669029236,0.7861800789833069,0.8624401688575745,0.9479431509971619,1.044040322303772,1.1520111560821533,1.2726426124572754,1.4055227041244507,1.5485122203826904,1.6986396312713623,1.8546797037124634,2.0188076496124268,2.1957273483276367,2.3912291526794434,2.611757755279541,2.864828109741211,3.15987229347229,3.5094408988952637,3.930957078933716,4.449393272399902,5.101413249969482,5.941534996032715,7.050020694732666,8.537914276123047,10.530303955078125,13.078646659851074,15.959969520568848,18.584840774536133,20.575002670288086,22.453310012817383,24.84420394897461,27.39768409729004,29.385286331176758,30.594667434692383,31.228740692138672,31.536136627197266,31.679584503173828]}},\"y\":{\"field\":\"L in m\",\"scale\":{\"type\":\"log\"},\"type\":\"quantitative\"}}}).then(function (result) { console.log(result); }).catch(function (error) { ndiv.innerHTML = 'There was an error: ' + error; });});"
      ]
     },
     "metadata": {},
     "output_type": "display_data"
    }
   ],
   "source": [
    "toVegaLite [ idDat [] \n",
    "           , mark Line []\n",
    "           , enc1 []\n",
    "           , height 200\n",
    "           , width 300 ]\n",
    "\n",
    "toVegaLite [ gdsDat [] \n",
    "           , mark Line []\n",
    "           , enc2 []\n",
    "           , height 200\n",
    "           , width 300 ]\n",
    "\n",
    "toVegaLite [ lDat [] \n",
    "           , mark Line []\n",
    "           , enc3 []\n",
    "           , height 200\n",
    "           , width 300 ]"
   ]
  }
 ],
 "metadata": {
  "kernelspec": {
   "display_name": "Haskell",
   "language": "haskell",
   "name": "haskell"
  },
  "language_info": {
   "codemirror_mode": "ihaskell",
   "file_extension": ".hs",
   "mimetype": "text/x-haskell",
   "name": "haskell",
   "pygments_lexer": "Haskell",
   "version": "8.10.4"
  }
 },
 "nbformat": 4,
 "nbformat_minor": 5
}
