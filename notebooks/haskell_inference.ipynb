{
 "cells": [
  {
   "cell_type": "code",
   "execution_count": 1,
   "id": "7272e480",
   "metadata": {},
   "outputs": [],
   "source": [
    ":set -XPackageImports\n",
    ":set -XOverloadedStrings"
   ]
  },
  {
   "cell_type": "markdown",
   "id": "a803bd05",
   "metadata": {},
   "source": [
    "## Model Inference\n",
    "\n",
    "Here we will show how to load a trained model and use it for inference on raw data."
   ]
  },
  {
   "cell_type": "code",
   "execution_count": 2,
   "id": "6f3c68b7",
   "metadata": {},
   "outputs": [],
   "source": [
    "import Prelude hiding (round)\n",
    "import Graphics.Vega.VegaLite\n",
    "import qualified Torch as T\n",
    "import Data.Frame as DF\n",
    "import \"prehsept\" Lib"
   ]
  },
  {
   "cell_type": "markdown",
   "id": "80ac3c95",
   "metadata": {},
   "source": [
    "Models trained with `prehsept` can be loaded as torch script modules:"
   ]
  },
  {
   "cell_type": "code",
   "execution_count": 3,
   "id": "ecba1c82",
   "metadata": {},
   "outputs": [],
   "source": [
    "pdk       = XT018\n",
    "dev       = NMOS\n",
    "timeStamp = \"20220720-133003\" -- NMOS\n",
    "-- timeStamp = \"20220720-135609\" -- PMOS\n",
    "modelPath = \"../models/\" ++ show pdk ++ \"/\" ++ show dev ++ \"-\" ++ timeStamp ++ \"/trace.pt\""
   ]
  },
  {
   "cell_type": "code",
   "execution_count": 4,
   "id": "2de02f79",
   "metadata": {},
   "outputs": [
    {
     "data": {
      "text/plain": []
     },
     "metadata": {},
     "output_type": "display_data"
    }
   ],
   "source": [
    "model' <- T.loadScript T.WithoutRequiredGrad modelPath\n",
    "\n",
    "model x = y \n",
    "  where\n",
    "    T.IVTensor y = T.forward model' [T.IVTensor x]"
   ]
  },
  {
   "cell_type": "markdown",
   "id": "15529f0b",
   "metadata": {},
   "source": [
    "For comparison we will load the training data:"
   ]
  },
  {
   "cell_type": "code",
   "execution_count": 5,
   "id": "ac162461",
   "metadata": {},
   "outputs": [
    {
     "data": {
      "text/plain": []
     },
     "metadata": {},
     "output_type": "display_data"
    }
   ],
   "source": [
    "df <- DF.fromFile $ \"../data/\" ++ show pdk ++\"-\" ++ show dev ++ \".pt\""
   ]
  },
  {
   "cell_type": "markdown",
   "id": "d2e55ada",
   "metadata": {},
   "source": [
    "We'll choose a random width ($W$) and length ($L$) from the dataset:"
   ]
  },
  {
   "cell_type": "code",
   "execution_count": 6,
   "id": "2a83719d",
   "metadata": {},
   "outputs": [],
   "source": [
    "(ws, _, _) = T.uniqueDim 0 False False False $ df ?? \"W\"\n",
    "(ls, _, _) = T.uniqueDim 0 False False False $ df ?? \"L\""
   ]
  },
  {
   "cell_type": "code",
   "execution_count": 7,
   "id": "18df31ad",
   "metadata": {},
   "outputs": [
    {
     "data": {
      "text/plain": []
     },
     "metadata": {},
     "output_type": "display_data"
    }
   ],
   "source": [
    "choicesW <- T.multinomialIO (T.arange' 0 (head $ T.shape ws) 1) 1 False\n",
    "w = T.squeezeAll $ T.indexSelect 0 choicesW ws\n",
    "\n",
    "choicesL <- T.multinomialIO (T.arange' 0 (head $ T.shape ls) 1) 1 False\n",
    "l = T.squeezeAll $ T.indexSelect 0 choicesL ls\n",
    "\n",
    "vdd = T.squeezeAll . fst . T.maxDim (T.Dim 0) T.RemoveDim $ df ?? \"M0.m1:vds\""
   ]
  },
  {
   "cell_type": "code",
   "execution_count": 8,
   "id": "89224829",
   "metadata": {},
   "outputs": [],
   "source": [
    "vbs = round 2 $ df ?? \"M0.m1:vbs\"\n",
    "vgs = round 2 $ df ?? \"M0.m1:vgs\"\n",
    "vds = round 2 $ df ?? \"M0.m1:vds\""
   ]
  },
  {
   "cell_type": "code",
   "execution_count": 9,
   "id": "038346cf",
   "metadata": {},
   "outputs": [],
   "source": [
    "traces = DF.sort False \"M0.m1:gmoverid\" \n",
    "       . DF.lookup [ \"M0.m1:gmoverid\", \"M0.m1:fug\", \"M0.m1:vds\", \"M0.m1:vbs\"\n",
    "                   , \"M0.m1:id\", \"W\", \"L\", \"M0.m1:gm\", \"M0.m1:gds\", \"M0.m1:vgs\" ]\n",
    "       . DF.rowFilter ( T.logicalAnd ((df ?? \"W\") `T.eq` w)\n",
    "                      . T.logicalAnd ((df ?? \"L\") `T.eq` l)\n",
    "                      . T.logicalAnd (vbs `T.eq` 0.0)\n",
    "                      $ (vds `T.eq` (vdd / 2.0))) \n",
    "       $ df"
   ]
  },
  {
   "cell_type": "markdown",
   "id": "15de15e0",
   "metadata": {},
   "source": [
    "Next we will get the model inputs from the trace as torch tensor:"
   ]
  },
  {
   "cell_type": "code",
   "execution_count": 10,
   "id": "5f9eeb54",
   "metadata": {},
   "outputs": [],
   "source": [
    "x = DF.values . DF.lookup [\"M0.m1:gmoverid\", \"M0.m1:fug\", \"M0.m1:vds\", \"M0.m1:vbs\"]  $ traces"
   ]
  },
  {
   "cell_type": "markdown",
   "id": "cffc9f66",
   "metadata": {},
   "source": [
    "... and feed it through the model"
   ]
  },
  {
   "cell_type": "code",
   "execution_count": 11,
   "id": "2dc45e0f",
   "metadata": {},
   "outputs": [],
   "source": [
    "y = model x"
   ]
  },
  {
   "cell_type": "markdown",
   "id": "6ea84af4",
   "metadata": {},
   "source": [
    "Now we extract the results and compare them with the original data:"
   ]
  },
  {
   "cell_type": "code",
   "execution_count": 12,
   "id": "c9afca16",
   "metadata": {},
   "outputs": [
    {
     "data": {
      "text/plain": []
     },
     "metadata": {},
     "output_type": "display_data"
    }
   ],
   "source": [
    "trueGmOverId = T.squeezeAll $ traces ?? \"M0.m1:gmoverid\"\n",
    "trueIdOverW  = T.squeezeAll $ (traces ?? \"M0.m1:id\") / (traces ?? \"W\")\n",
    "trueGdsOverW = T.squeezeAll $ (traces ?? \"M0.m1:gds\") / (traces ?? \"W\")\n",
    "trueL        = T.squeezeAll $ traces ?? \"L\"\n",
    "trueVgs      = T.squeezeAll $ traces ?? \"M0.m1:vgs\"\n",
    "\n",
    "predGmOverId = T.squeezeAll $ T.indexSelect' 1 [0] x\n",
    "predIdOverW  = T.squeezeAll $ T.indexSelect' 1 [0] y\n",
    "predGdsOverW = T.squeezeAll $ T.indexSelect' 1 [2] y\n",
    "predL'       = T.squeezeAll $ T.indexSelect' 1 [1] y\n",
    "predVgs      = T.squeezeAll $ T.indexSelect' 1 [3] y\n",
    "\n",
    "meanL        = T.mean predL'\n",
    "stdL         = T.std  predL'\n",
    "hiL          = T.max $ df ?? \"L\"\n",
    "loL          = T.min $ df ?? \"L\"\n",
    "\n",
    "meanL'       = T.asValue meanL\n",
    "predL        <- T.fullLike trueL meanL' T.defaultOpts"
   ]
  },
  {
   "cell_type": "code",
   "execution_count": 13,
   "id": "a2f896d7",
   "metadata": {},
   "outputs": [],
   "source": [
    "plotData :: T.Tensor -> T.Tensor -> T.Tensor -> [(Double, (Double, Double))]\n",
    "plotData x y y' = zip (T.asValue $ T.toDType T.Double x) \n",
    "                $ zip (T.asValue $ T.toDType T.Double y) \n",
    "                      (T.asValue $ T.toDType T.Double y')\n",
    "\n",
    "plt xAx yAx = foldl (\\sum' (x, (y, y')) -> sum'\n",
    "                    . dataRow [ (xAx, Number x)\n",
    "                              , (yAx, Number y)\n",
    "                              , (\"Lines\",   Str \"Observation\") ] \n",
    "                    . dataRow [ (xAx, Number x)\n",
    "                              , (yAx, Number y')\n",
    "                              , (\"Lines\",   Str \"Prediction\") ]\n",
    "                    ) (dataFromRows [])"
   ]
  },
  {
   "cell_type": "code",
   "execution_count": 14,
   "id": "8ea24f0d",
   "metadata": {},
   "outputs": [],
   "source": [
    "idPlot  = plotData trueGmOverId trueIdOverW  predIdOverW\n",
    "gdsPlot = plotData trueGmOverId trueGdsOverW predGdsOverW\n",
    "lPlot   = plotData trueGmOverId trueL        predL"
   ]
  },
  {
   "cell_type": "code",
   "execution_count": 15,
   "id": "16801881",
   "metadata": {},
   "outputs": [],
   "source": [
    "ax1  = PAxis [AxValues (Numbers (map fst idPlot))]\n",
    "enc1 = encoding\n",
    "     . position X [ PName \"gm/Id in 1/V\", PmType Quantitative, ax1 ]\n",
    "     . position Y [ PName \"Id/W in A/m\", PmType Quantitative, PScale [SType ScLog]  ]\n",
    "     . color [ MName \"Lines\", MmType Nominal ]\n",
    "\n",
    "ax2  = PAxis [AxValues (Numbers (map fst gdsPlot))]\n",
    "enc2 = encoding\n",
    "     . position X [ PName \"gm/Id in 1/V\", PmType Quantitative, ax2 ]\n",
    "     . position Y [ PName \"gds/W in S/m\", PmType Quantitative, PScale [SType ScLog]  ]\n",
    "     . color [ MName \"Lines\", MmType Nominal ]\n",
    "\n",
    "ax3  = PAxis [AxValues (Numbers (map fst lPlot))]\n",
    "enc3 = encoding\n",
    "     . position X [ PName \"gm/Id in 1/V\", PmType Quantitative, ax3 ]\n",
    "     . position Y [ PName \"L in m\", PmType Quantitative, PScale [SType ScLog]  ]\n",
    "     . color [ MName \"Lines\", MmType Nominal ]"
   ]
  },
  {
   "cell_type": "code",
   "execution_count": 16,
   "id": "4ff383e1",
   "metadata": {},
   "outputs": [],
   "source": [
    "idDat  = plt \"gm/Id in 1/V\" \"Id/W in A/m\"  idPlot\n",
    "gdsDat = plt \"gm/Id in 1/V\" \"gds/W in S/m\" gdsPlot\n",
    "lDat   = plt \"gm/Id in 1/V\" \"L in m\"       lPlot"
   ]
  },
  {
   "cell_type": "code",
   "execution_count": 17,
   "id": "145b6604",
   "metadata": {},
   "outputs": [
    {
     "data": {
      "application/javascript": [
       "requirejs.config({baseUrl: 'https://cdn.jsdelivr.net/npm/',paths: {'vega-embed': 'vega-embed@6?noext','vega-lib': 'vega-lib?noext','vega-lite': 'vega-lite@4?noext','vega': 'vega@5?noext'}});var ndiv = document.createElement('div');ndiv.innerHTML = 'Awesome Vega-Lite visualization to appear here';element[0].appendChild(ndiv);require(['vega-embed'],function(vegaEmbed){vegaEmbed(ndiv,{\"height\":200,\"mark\":\"line\",\"data\":{\"values\":[{\"gm/Id in 1/V\":1.4768649339675903,\"Lines\":\"Observation\",\"Id/W in A/m\":53.275428771972656},{\"gm/Id in 1/V\":1.4768649339675903,\"Lines\":\"Prediction\",\"Id/W in A/m\":47.24029541015625},{\"gm/Id in 1/V\":1.519493818283081,\"Lines\":\"Observation\",\"Id/W in A/m\":51.31728744506836},{\"gm/Id in 1/V\":1.519493818283081,\"Lines\":\"Prediction\",\"Id/W in A/m\":45.81039047241211},{\"gm/Id in 1/V\":1.5630449056625366,\"Lines\":\"Observation\",\"Id/W in A/m\":49.37791442871094},{\"gm/Id in 1/V\":1.5630449056625366,\"Lines\":\"Prediction\",\"Id/W in A/m\":44.378143310546875},{\"gm/Id in 1/V\":1.6077401638031006,\"Lines\":\"Observation\",\"Id/W in A/m\":47.4594841003418},{\"gm/Id in 1/V\":1.6077401638031006,\"Lines\":\"Prediction\",\"Id/W in A/m\":42.44110107421875},{\"gm/Id in 1/V\":1.653807520866394,\"Lines\":\"Observation\",\"Id/W in A/m\":45.56388854980469},{\"gm/Id in 1/V\":1.653807520866394,\"Lines\":\"Prediction\",\"Id/W in A/m\":40.70732498168945},{\"gm/Id in 1/V\":1.7014769315719604,\"Lines\":\"Observation\",\"Id/W in A/m\":43.69279861450195},{\"gm/Id in 1/V\":1.7014769315719604,\"Lines\":\"Prediction\",\"Id/W in A/m\":38.97447204589844},{\"gm/Id in 1/V\":1.750980019569397,\"Lines\":\"Observation\",\"Id/W in A/m\":41.84770965576172},{\"gm/Id in 1/V\":1.750980019569397,\"Lines\":\"Prediction\",\"Id/W in A/m\":37.24351501464844},{\"gm/Id in 1/V\":1.80255126953125,\"Lines\":\"Observation\",\"Id/W in A/m\":40.02995300292969},{\"gm/Id in 1/V\":1.80255126953125,\"Lines\":\"Prediction\",\"Id/W in A/m\":35.87055206298828},{\"gm/Id in 1/V\":1.8564318418502808,\"Lines\":\"Observation\",\"Id/W in A/m\":38.2407341003418},{\"gm/Id in 1/V\":1.8564318418502808,\"Lines\":\"Prediction\",\"Id/W in A/m\":34.506805419921875},{\"gm/Id in 1/V\":1.9128729104995728,\"Lines\":\"Observation\",\"Id/W in A/m\":36.48116683959961},{\"gm/Id in 1/V\":1.9128729104995728,\"Lines\":\"Prediction\",\"Id/W in A/m\":33.11794662475586},{\"gm/Id in 1/V\":1.972139835357666,\"Lines\":\"Observation\",\"Id/W in A/m\":34.75228500366211},{\"gm/Id in 1/V\":1.972139835357666,\"Lines\":\"Prediction\",\"Id/W in A/m\":31.784500122070313},{\"gm/Id in 1/V\":2.034517288208008,\"Lines\":\"Observation\",\"Id/W in A/m\":33.055057525634766},{\"gm/Id in 1/V\":2.034517288208008,\"Lines\":\"Prediction\",\"Id/W in A/m\":30.439434051513672},{\"gm/Id in 1/V\":2.100314140319824,\"Lines\":\"Observation\",\"Id/W in A/m\":31.390409469604492},{\"gm/Id in 1/V\":2.100314140319824,\"Lines\":\"Prediction\",\"Id/W in A/m\":29.099803924560547},{\"gm/Id in 1/V\":2.169867992401123,\"Lines\":\"Observation\",\"Id/W in A/m\":29.75922393798828},{\"gm/Id in 1/V\":2.169867992401123,\"Lines\":\"Prediction\",\"Id/W in A/m\":27.77030372619629},{\"gm/Id in 1/V\":2.2435531616210938,\"Lines\":\"Observation\",\"Id/W in A/m\":28.162357330322266},{\"gm/Id in 1/V\":2.2435531616210938,\"Lines\":\"Prediction\",\"Id/W in A/m\":26.431337356567383},{\"gm/Id in 1/V\":2.3217856884002686,\"Lines\":\"Observation\",\"Id/W in A/m\":26.60064125061035},{\"gm/Id in 1/V\":2.3217856884002686,\"Lines\":\"Prediction\",\"Id/W in A/m\":25.042287826538086},{\"gm/Id in 1/V\":2.4050326347351074,\"Lines\":\"Observation\",\"Id/W in A/m\":25.07489013671875},{\"gm/Id in 1/V\":2.4050326347351074,\"Lines\":\"Prediction\",\"Id/W in A/m\":23.586292266845703},{\"gm/Id in 1/V\":2.493821859359741,\"Lines\":\"Observation\",\"Id/W in A/m\":23.58591079711914},{\"gm/Id in 1/V\":2.493821859359741,\"Lines\":\"Prediction\",\"Id/W in A/m\":22.24604606628418},{\"gm/Id in 1/V\":2.588752269744873,\"Lines\":\"Observation\",\"Id/W in A/m\":22.134485244750977},{\"gm/Id in 1/V\":2.588752269744873,\"Lines\":\"Prediction\",\"Id/W in A/m\":21.099637985229492},{\"gm/Id in 1/V\":2.6905083656311035,\"Lines\":\"Observation\",\"Id/W in A/m\":20.721403121948242},{\"gm/Id in 1/V\":2.6905083656311035,\"Lines\":\"Prediction\",\"Id/W in A/m\":19.7911319732666},{\"gm/Id in 1/V\":2.799877643585205,\"Lines\":\"Observation\",\"Id/W in A/m\":19.347442626953125},{\"gm/Id in 1/V\":2.799877643585205,\"Lines\":\"Prediction\",\"Id/W in A/m\":18.484209060668945},{\"gm/Id in 1/V\":2.917769193649292,\"Lines\":\"Observation\",\"Id/W in A/m\":18.013378143310547},{\"gm/Id in 1/V\":2.917769193649292,\"Lines\":\"Prediction\",\"Id/W in A/m\":17.22152328491211},{\"gm/Id in 1/V\":3.045241355895996,\"Lines\":\"Observation\",\"Id/W in A/m\":16.71998405456543},{\"gm/Id in 1/V\":3.045241355895996,\"Lines\":\"Prediction\",\"Id/W in A/m\":15.927635192871094},{\"gm/Id in 1/V\":3.1835315227508545,\"Lines\":\"Observation\",\"Id/W in A/m\":15.468029975891113},{\"gm/Id in 1/V\":3.1835315227508545,\"Lines\":\"Prediction\",\"Id/W in A/m\":14.61512565612793},{\"gm/Id in 1/V\":3.3340961933135986,\"Lines\":\"Observation\",\"Id/W in A/m\":14.258291244506836},{\"gm/Id in 1/V\":3.3340961933135986,\"Lines\":\"Prediction\",\"Id/W in A/m\":13.368844032287598},{\"gm/Id in 1/V\":3.498659610748291,\"Lines\":\"Observation\",\"Id/W in A/m\":13.091547966003418},{\"gm/Id in 1/V\":3.498659610748291,\"Lines\":\"Prediction\",\"Id/W in A/m\":12.025229454040527},{\"gm/Id in 1/V\":3.6792757511138916,\"Lines\":\"Observation\",\"Id/W in A/m\":11.968581199645996},{\"gm/Id in 1/V\":3.6792757511138916,\"Lines\":\"Prediction\",\"Id/W in A/m\":11.0540132522583},{\"gm/Id in 1/V\":3.8784053325653076,\"Lines\":\"Observation\",\"Id/W in A/m\":10.89018726348877},{\"gm/Id in 1/V\":3.8784053325653076,\"Lines\":\"Prediction\",\"Id/W in A/m\":10.132804870605469},{\"gm/Id in 1/V\":4.099012851715088,\"Lines\":\"Observation\",\"Id/W in A/m\":9.857172012329102},{\"gm/Id in 1/V\":4.099012851715088,\"Lines\":\"Prediction\",\"Id/W in A/m\":9.211506843566895},{\"gm/Id in 1/V\":4.344686031341553,\"Lines\":\"Observation\",\"Id/W in A/m\":8.870368003845215},{\"gm/Id in 1/V\":4.344686031341553,\"Lines\":\"Prediction\",\"Id/W in A/m\":8.29456615447998},{\"gm/Id in 1/V\":4.619787216186523,\"Lines\":\"Observation\",\"Id/W in A/m\":7.930639266967773},{\"gm/Id in 1/V\":4.619787216186523,\"Lines\":\"Prediction\",\"Id/W in A/m\":7.359058380126953},{\"gm/Id in 1/V\":4.929629325866699,\"Lines\":\"Observation\",\"Id/W in A/m\":7.038896560668945},{\"gm/Id in 1/V\":4.929629325866699,\"Lines\":\"Prediction\",\"Id/W in A/m\":6.365660667419434},{\"gm/Id in 1/V\":5.2806925773620605,\"Lines\":\"Observation\",\"Id/W in A/m\":6.196117877960205},{\"gm/Id in 1/V\":5.2806925773620605,\"Lines\":\"Prediction\",\"Id/W in A/m\":5.5899128913879395},{\"gm/Id in 1/V\":5.680863380432129,\"Lines\":\"Observation\",\"Id/W in A/m\":5.403365612030029},{\"gm/Id in 1/V\":5.680863380432129,\"Lines\":\"Prediction\",\"Id/W in A/m\":4.94700813293457},{\"gm/Id in 1/V\":6.13967752456665,\"Lines\":\"Observation\",\"Id/W in A/m\":4.661818981170654},{\"gm/Id in 1/V\":6.13967752456665,\"Lines\":\"Prediction\",\"Id/W in A/m\":4.3007097244262695},{\"gm/Id in 1/V\":6.668534755706787,\"Lines\":\"Observation\",\"Id/W in A/m\":3.972792625427246},{\"gm/Id in 1/V\":6.668534755706787,\"Lines\":\"Prediction\",\"Id/W in A/m\":3.6783158779144287},{\"gm/Id in 1/V\":7.2807769775390625,\"Lines\":\"Observation\",\"Id/W in A/m\":3.337756633758545},{\"gm/Id in 1/V\":7.2807769775390625,\"Lines\":\"Prediction\",\"Id/W in A/m\":3.143763542175293},{\"gm/Id in 1/V\":7.991485118865967,\"Lines\":\"Observation\",\"Id/W in A/m\":2.7583272457122803},{\"gm/Id in 1/V\":7.991485118865967,\"Lines\":\"Prediction\",\"Id/W in A/m\":2.654534339904785},{\"gm/Id in 1/V\":8.816718101501465,\"Lines\":\"Observation\",\"Id/W in A/m\":2.2362141609191895},{\"gm/Id in 1/V\":8.816718101501465,\"Lines\":\"Prediction\",\"Id/W in A/m\":2.062450408935547},{\"gm/Id in 1/V\":9.771797180175781,\"Lines\":\"Observation\",\"Id/W in A/m\":1.7730823755264282},{\"gm/Id in 1/V\":9.771797180175781,\"Lines\":\"Prediction\",\"Id/W in A/m\":1.6003994941711426},{\"gm/Id in 1/V\":10.868142127990723,\"Lines\":\"Observation\",\"Id/W in A/m\":1.3702982664108276},{\"gm/Id in 1/V\":10.868142127990723,\"Lines\":\"Prediction\",\"Id/W in A/m\":1.2114176750183105},{\"gm/Id in 1/V\":12.10823917388916,\"Lines\":\"Observation\",\"Id/W in A/m\":1.0285223722457886},{\"gm/Id in 1/V\":12.10823917388916,\"Lines\":\"Prediction\",\"Id/W in A/m\":0.8784421682357788},{\"gm/Id in 1/V\":13.478857040405273,\"Lines\":\"Observation\",\"Id/W in A/m\":0.7471678256988525},{\"gm/Id in 1/V\":13.478857040405273,\"Lines\":\"Prediction\",\"Id/W in A/m\":0.6363173127174377},{\"gm/Id in 1/V\":14.943990707397461,\"Lines\":\"Observation\",\"Id/W in A/m\":0.5238216519355774},{\"gm/Id in 1/V\":14.943990707397461,\"Lines\":\"Prediction\",\"Id/W in A/m\":0.4614548981189728},{\"gm/Id in 1/V\":16.441240310668945,\"Lines\":\"Observation\",\"Id/W in A/m\":0.35383325815200806},{\"gm/Id in 1/V\":16.441240310668945,\"Lines\":\"Prediction\",\"Id/W in A/m\":0.32767680287361145},{\"gm/Id in 1/V\":17.88750457763672,\"Lines\":\"Observation\",\"Id/W in A/m\":0.23033186793327332},{\"gm/Id in 1/V\":17.88750457763672,\"Lines\":\"Prediction\",\"Id/W in A/m\":0.23058199882507324},{\"gm/Id in 1/V\":19.199054718017578,\"Lines\":\"Observation\",\"Id/W in A/m\":0.14483395218849182},{\"gm/Id in 1/V\":19.199054718017578,\"Lines\":\"Prediction\",\"Id/W in A/m\":0.1478663682937622},{\"gm/Id in 1/V\":20.323463439941406,\"Lines\":\"Observation\",\"Id/W in A/m\":8.833615481853485e-2},{\"gm/Id in 1/V\":20.323463439941406,\"Lines\":\"Prediction\",\"Id/W in A/m\":8.396780490875244e-2},{\"gm/Id in 1/V\":21.266571044921875,\"Lines\":\"Observation\",\"Id/W in A/m\":5.25069497525692e-2},{\"gm/Id in 1/V\":21.266571044921875,\"Lines\":\"Prediction\",\"Id/W in A/m\":4.862131550908089e-2},{\"gm/Id in 1/V\":22.089746475219727,\"Lines\":\"Observation\",\"Id/W in A/m\":3.053358383476734e-2},{\"gm/Id in 1/V\":22.089746475219727,\"Lines\":\"Prediction\",\"Id/W in A/m\":2.9512273147702217e-2},{\"gm/Id in 1/V\":22.870319366455078,\"Lines\":\"Observation\",\"Id/W in A/m\":1.7405817285180092e-2},{\"gm/Id in 1/V\":22.870319366455078,\"Lines\":\"Prediction\",\"Id/W in A/m\":1.82906836271286e-2},{\"gm/Id in 1/V\":23.653661727905273,\"Lines\":\"Observation\",\"Id/W in A/m\":9.730582125484943e-3},{\"gm/Id in 1/V\":23.653661727905273,\"Lines\":\"Prediction\",\"Id/W in A/m\":1.0637982748448849e-2},{\"gm/Id in 1/V\":24.43501091003418,\"Lines\":\"Observation\",\"Id/W in A/m\":5.334148649126291e-3},{\"gm/Id in 1/V\":24.43501091003418,\"Lines\":\"Prediction\",\"Id/W in A/m\":5.937634501606226e-3},{\"gm/Id in 1/V\":25.177249908447266,\"Lines\":\"Observation\",\"Id/W in A/m\":2.868672600015998e-3},{\"gm/Id in 1/V\":25.177249908447266,\"Lines\":\"Prediction\",\"Id/W in A/m\":2.888030605390668e-3},{\"gm/Id in 1/V\":25.84026527404785,\"Lines\":\"Observation\",\"Id/W in A/m\":1.5157840680330992e-3},{\"gm/Id in 1/V\":25.84026527404785,\"Lines\":\"Prediction\",\"Id/W in A/m\":8.588937926106155e-4},{\"gm/Id in 1/V\":26.39950942993164,\"Lines\":\"Observation\",\"Id/W in A/m\":7.887610117904842e-4},{\"gm/Id in 1/V\":26.39950942993164,\"Lines\":\"Prediction\",\"Id/W in A/m\":5.180926527827978e-4},{\"gm/Id in 1/V\":26.849451065063477,\"Lines\":\"Observation\",\"Id/W in A/m\":4.053011944051832e-4},{\"gm/Id in 1/V\":26.849451065063477,\"Lines\":\"Prediction\",\"Id/W in A/m\":3.215470933355391e-4},{\"gm/Id in 1/V\":27.19843292236328,\"Lines\":\"Observation\",\"Id/W in A/m\":2.0619867427740246e-4},{\"gm/Id in 1/V\":27.19843292236328,\"Lines\":\"Prediction\",\"Id/W in A/m\":2.0839816716033965e-4},{\"gm/Id in 1/V\":27.4617919921875,\"Lines\":\"Observation\",\"Id/W in A/m\":1.041086288751103e-4},{\"gm/Id in 1/V\":27.4617919921875,\"Lines\":\"Prediction\",\"Id/W in A/m\":9.392252104589716e-5},{\"gm/Id in 1/V\":27.65658187866211,\"Lines\":\"Observation\",\"Id/W in A/m\":5.226597932050936e-5},{\"gm/Id in 1/V\":27.65658187866211,\"Lines\":\"Prediction\",\"Id/W in A/m\":4.300162254367024e-5},{\"gm/Id in 1/V\":27.7985782623291,\"Lines\":\"Observation\",\"Id/W in A/m\":2.6130242986255325e-5},{\"gm/Id in 1/V\":27.7985782623291,\"Lines\":\"Prediction\",\"Id/W in A/m\":2.4066423065960407e-5},{\"gm/Id in 1/V\":27.90101432800293,\"Lines\":\"Observation\",\"Id/W in A/m\":1.3024642612435855e-5},{\"gm/Id in 1/V\":27.90101432800293,\"Lines\":\"Prediction\",\"Id/W in A/m\":1.4136456229607575e-5},{\"gm/Id in 1/V\":27.974367141723633,\"Lines\":\"Observation\",\"Id/W in A/m\":6.478446266555693e-6},{\"gm/Id in 1/V\":27.974367141723633,\"Lines\":\"Prediction\",\"Id/W in A/m\":7.987826393218711e-6},{\"gm/Id in 1/V\":28.026615142822266,\"Lines\":\"Observation\",\"Id/W in A/m\":3.2177936191146728e-6},{\"gm/Id in 1/V\":28.026615142822266,\"Lines\":\"Prediction\",\"Id/W in A/m\":4.250452093401691e-6},{\"gm/Id in 1/V\":28.06369400024414,\"Lines\":\"Observation\",\"Id/W in A/m\":1.5969161495377193e-6},{\"gm/Id in 1/V\":28.06369400024414,\"Lines\":\"Prediction\",\"Id/W in A/m\":2.572876837803051e-6},{\"gm/Id in 1/V\":28.089937210083008,\"Lines\":\"Observation\",\"Id/W in A/m\":7.9232160032916e-7},{\"gm/Id in 1/V\":28.089937210083008,\"Lines\":\"Prediction\",\"Id/W in A/m\":1.6069142247943091e-6},{\"gm/Id in 1/V\":28.108478546142578,\"Lines\":\"Observation\",\"Id/W in A/m\":3.933287473500968e-7},{\"gm/Id in 1/V\":28.108478546142578,\"Lines\":\"Prediction\",\"Id/W in A/m\":1.0376418231317075e-6},{\"gm/Id in 1/V\":28.121559143066406,\"Lines\":\"Observation\",\"Id/W in A/m\":1.956123298896273e-7},{\"gm/Id in 1/V\":28.121559143066406,\"Lines\":\"Prediction\",\"Id/W in A/m\":5.02996840623382e-7},{\"gm/Id in 1/V\":28.130779266357422,\"Lines\":\"Observation\",\"Id/W in A/m\":9.768561426426459e-8},{\"gm/Id in 1/V\":28.130779266357422,\"Lines\":\"Prediction\",\"Id/W in A/m\":2.4221074568231415e-7},{\"gm/Id in 1/V\":28.13727569580078,\"Lines\":\"Observation\",\"Id/W in A/m\":4.920087093296388e-8},{\"gm/Id in 1/V\":28.13727569580078,\"Lines\":\"Prediction\",\"Id/W in A/m\":7.851657812807389e-8},{\"gm/Id in 1/V\":28.141847610473633,\"Lines\":\"Observation\",\"Id/W in A/m\":2.5201492448445606e-8},{\"gm/Id in 1/V\":28.141847610473633,\"Lines\":\"Prediction\",\"Id/W in A/m\":4.367952044503909e-8},{\"gm/Id in 1/V\":28.14506721496582,\"Lines\":\"Observation\",\"Id/W in A/m\":1.332418264610169e-8},{\"gm/Id in 1/V\":28.14506721496582,\"Lines\":\"Prediction\",\"Id/W in A/m\":2.5175996398729694e-8},{\"gm/Id in 1/V\":28.1473331451416,\"Lines\":\"Observation\",\"Id/W in A/m\":7.446822714030077e-9},{\"gm/Id in 1/V\":28.1473331451416,\"Lines\":\"Prediction\",\"Id/W in A/m\":1.9495383085654794e-8}]},\"width\":300,\"$schema\":\"https://vega.github.io/schema/vega-lite/v4.json\",\"encoding\":{\"color\":{\"field\":\"Lines\",\"type\":\"nominal\"},\"x\":{\"field\":\"gm/Id in 1/V\",\"type\":\"quantitative\",\"axis\":{\"values\":[1.4768649339675903,1.519493818283081,1.5630449056625366,1.6077401638031006,1.653807520866394,1.7014769315719604,1.750980019569397,1.80255126953125,1.8564318418502808,1.9128729104995728,1.972139835357666,2.034517288208008,2.100314140319824,2.169867992401123,2.2435531616210938,2.3217856884002686,2.4050326347351074,2.493821859359741,2.588752269744873,2.6905083656311035,2.799877643585205,2.917769193649292,3.045241355895996,3.1835315227508545,3.3340961933135986,3.498659610748291,3.6792757511138916,3.8784053325653076,4.099012851715088,4.344686031341553,4.619787216186523,4.929629325866699,5.2806925773620605,5.680863380432129,6.13967752456665,6.668534755706787,7.2807769775390625,7.991485118865967,8.816718101501465,9.771797180175781,10.868142127990723,12.10823917388916,13.478857040405273,14.943990707397461,16.441240310668945,17.88750457763672,19.199054718017578,20.323463439941406,21.266571044921875,22.089746475219727,22.870319366455078,23.653661727905273,24.43501091003418,25.177249908447266,25.84026527404785,26.39950942993164,26.849451065063477,27.19843292236328,27.4617919921875,27.65658187866211,27.7985782623291,27.90101432800293,27.974367141723633,28.026615142822266,28.06369400024414,28.089937210083008,28.108478546142578,28.121559143066406,28.130779266357422,28.13727569580078,28.141847610473633,28.14506721496582,28.1473331451416]}},\"y\":{\"field\":\"Id/W in A/m\",\"scale\":{\"type\":\"log\"},\"type\":\"quantitative\"}}}).then(function (result) { console.log(result); }).catch(function (error) { ndiv.innerHTML = 'There was an error: ' + error; });});"
      ]
     },
     "metadata": {},
     "output_type": "display_data"
    },
    {
     "data": {
      "application/javascript": [
       "requirejs.config({baseUrl: 'https://cdn.jsdelivr.net/npm/',paths: {'vega-embed': 'vega-embed@6?noext','vega-lib': 'vega-lib?noext','vega-lite': 'vega-lite@4?noext','vega': 'vega@5?noext'}});var ndiv = document.createElement('div');ndiv.innerHTML = 'Awesome Vega-Lite visualization to appear here';element[0].appendChild(ndiv);require(['vega-embed'],function(vegaEmbed){vegaEmbed(ndiv,{\"height\":200,\"mark\":\"line\",\"data\":{\"values\":[{\"gm/Id in 1/V\":1.4768649339675903,\"Lines\":\"Observation\",\"gds/W in S/m\":3.967957019805908},{\"gm/Id in 1/V\":1.4768649339675903,\"Lines\":\"Prediction\",\"gds/W in S/m\":3.0606329441070557},{\"gm/Id in 1/V\":1.519493818283081,\"Lines\":\"Observation\",\"gds/W in S/m\":3.3918821811676025},{\"gm/Id in 1/V\":1.519493818283081,\"Lines\":\"Prediction\",\"gds/W in S/m\":2.8162968158721924},{\"gm/Id in 1/V\":1.5630449056625366,\"Lines\":\"Observation\",\"gds/W in S/m\":2.9132213592529297},{\"gm/Id in 1/V\":1.5630449056625366,\"Lines\":\"Prediction\",\"gds/W in S/m\":2.586190938949585},{\"gm/Id in 1/V\":1.6077401638031006,\"Lines\":\"Observation\",\"gds/W in S/m\":2.515134811401367},{\"gm/Id in 1/V\":1.6077401638031006,\"Lines\":\"Prediction\",\"gds/W in S/m\":2.256718873977661},{\"gm/Id in 1/V\":1.653807520866394,\"Lines\":\"Observation\",\"gds/W in S/m\":2.1830155849456787},{\"gm/Id in 1/V\":1.653807520866394,\"Lines\":\"Prediction\",\"gds/W in S/m\":1.9642194509506226},{\"gm/Id in 1/V\":1.7014769315719604,\"Lines\":\"Observation\",\"gds/W in S/m\":1.9046162366867065},{\"gm/Id in 1/V\":1.7014769315719604,\"Lines\":\"Prediction\",\"gds/W in S/m\":1.7007497549057007},{\"gm/Id in 1/V\":1.750980019569397,\"Lines\":\"Observation\",\"gds/W in S/m\":1.6698957681655884},{\"gm/Id in 1/V\":1.750980019569397,\"Lines\":\"Prediction\",\"gds/W in S/m\":1.4640759229660034},{\"gm/Id in 1/V\":1.80255126953125,\"Lines\":\"Observation\",\"gds/W in S/m\":1.4707363843917847},{\"gm/Id in 1/V\":1.80255126953125,\"Lines\":\"Prediction\",\"gds/W in S/m\":1.2616608142852783},{\"gm/Id in 1/V\":1.8564318418502808,\"Lines\":\"Observation\",\"gds/W in S/m\":1.3006267547607422},{\"gm/Id in 1/V\":1.8564318418502808,\"Lines\":\"Prediction\",\"gds/W in S/m\":1.0799304246902466},{\"gm/Id in 1/V\":1.9128729104995728,\"Lines\":\"Observation\",\"gds/W in S/m\":1.1543629169464111},{\"gm/Id in 1/V\":1.9128729104995728,\"Lines\":\"Prediction\",\"gds/W in S/m\":0.9611558318138123},{\"gm/Id in 1/V\":1.972139835357666,\"Lines\":\"Observation\",\"gds/W in S/m\":1.0277862548828125},{\"gm/Id in 1/V\":1.972139835357666,\"Lines\":\"Prediction\",\"gds/W in S/m\":0.8934628963470459},{\"gm/Id in 1/V\":2.034517288208008,\"Lines\":\"Observation\",\"gds/W in S/m\":0.9175673723220825},{\"gm/Id in 1/V\":2.034517288208008,\"Lines\":\"Prediction\",\"gds/W in S/m\":0.827373743057251},{\"gm/Id in 1/V\":2.100314140319824,\"Lines\":\"Observation\",\"gds/W in S/m\":0.8210312128067017},{\"gm/Id in 1/V\":2.100314140319824,\"Lines\":\"Prediction\",\"gds/W in S/m\":0.7619016170501709},{\"gm/Id in 1/V\":2.169867992401123,\"Lines\":\"Observation\",\"gds/W in S/m\":0.7360185980796814},{\"gm/Id in 1/V\":2.169867992401123,\"Lines\":\"Prediction\",\"gds/W in S/m\":0.6970923542976379},{\"gm/Id in 1/V\":2.2435531616210938,\"Lines\":\"Observation\",\"gds/W in S/m\":0.66077721118927},{\"gm/Id in 1/V\":2.2435531616210938,\"Lines\":\"Prediction\",\"gds/W in S/m\":0.6345633268356323},{\"gm/Id in 1/V\":2.3217856884002686,\"Lines\":\"Observation\",\"gds/W in S/m\":0.5938774943351746},{\"gm/Id in 1/V\":2.3217856884002686,\"Lines\":\"Prediction\",\"gds/W in S/m\":0.5733791589736938},{\"gm/Id in 1/V\":2.4050326347351074,\"Lines\":\"Observation\",\"gds/W in S/m\":0.5341454148292542},{\"gm/Id in 1/V\":2.4050326347351074,\"Lines\":\"Prediction\",\"gds/W in S/m\":0.5228143930435181},{\"gm/Id in 1/V\":2.493821859359741,\"Lines\":\"Observation\",\"gds/W in S/m\":0.4806116223335266},{\"gm/Id in 1/V\":2.493821859359741,\"Lines\":\"Prediction\",\"gds/W in S/m\":0.4736931025981903},{\"gm/Id in 1/V\":2.588752269744873,\"Lines\":\"Observation\",\"gds/W in S/m\":0.4324705898761749},{\"gm/Id in 1/V\":2.588752269744873,\"Lines\":\"Prediction\",\"gds/W in S/m\":0.42677733302116394},{\"gm/Id in 1/V\":2.6905083656311035,\"Lines\":\"Observation\",\"gds/W in S/m\":0.3890492022037506},{\"gm/Id in 1/V\":2.6905083656311035,\"Lines\":\"Prediction\",\"gds/W in S/m\":0.38707852363586426},{\"gm/Id in 1/V\":2.799877643585205,\"Lines\":\"Observation\",\"gds/W in S/m\":0.3497816324234009},{\"gm/Id in 1/V\":2.799877643585205,\"Lines\":\"Prediction\",\"gds/W in S/m\":0.3490569293498993},{\"gm/Id in 1/V\":2.917769193649292,\"Lines\":\"Observation\",\"gds/W in S/m\":0.31418946385383606},{\"gm/Id in 1/V\":2.917769193649292,\"Lines\":\"Prediction\",\"gds/W in S/m\":0.3235725164413452},{\"gm/Id in 1/V\":3.045241355895996,\"Lines\":\"Observation\",\"gds/W in S/m\":0.28186625242233276},{\"gm/Id in 1/V\":3.045241355895996,\"Lines\":\"Prediction\",\"gds/W in S/m\":0.29616957902908325},{\"gm/Id in 1/V\":3.1835315227508545,\"Lines\":\"Observation\",\"gds/W in S/m\":0.25246474146842957},{\"gm/Id in 1/V\":3.1835315227508545,\"Lines\":\"Prediction\",\"gds/W in S/m\":0.2615213692188263},{\"gm/Id in 1/V\":3.3340961933135986,\"Lines\":\"Observation\",\"gds/W in S/m\":0.22568680346012115},{\"gm/Id in 1/V\":3.3340961933135986,\"Lines\":\"Prediction\",\"gds/W in S/m\":0.22524018585681915},{\"gm/Id in 1/V\":3.498659610748291,\"Lines\":\"Observation\",\"gds/W in S/m\":0.20127525925636292},{\"gm/Id in 1/V\":3.498659610748291,\"Lines\":\"Prediction\",\"gds/W in S/m\":0.1942114233970642},{\"gm/Id in 1/V\":3.6792757511138916,\"Lines\":\"Observation\",\"gds/W in S/m\":0.17900733649730682},{\"gm/Id in 1/V\":3.6792757511138916,\"Lines\":\"Prediction\",\"gds/W in S/m\":0.1736724078655243},{\"gm/Id in 1/V\":3.8784053325653076,\"Lines\":\"Observation\",\"gds/W in S/m\":0.15868918597698212},{\"gm/Id in 1/V\":3.8784053325653076,\"Lines\":\"Prediction\",\"gds/W in S/m\":0.15540719032287598},{\"gm/Id in 1/V\":4.099012851715088,\"Lines\":\"Observation\",\"gds/W in S/m\":0.14015157520771027},{\"gm/Id in 1/V\":4.099012851715088,\"Lines\":\"Prediction\",\"gds/W in S/m\":0.1376713365316391},{\"gm/Id in 1/V\":4.344686031341553,\"Lines\":\"Observation\",\"gds/W in S/m\":0.12324625998735428},{\"gm/Id in 1/V\":4.344686031341553,\"Lines\":\"Prediction\",\"gds/W in S/m\":0.12050765752792358},{\"gm/Id in 1/V\":4.619787216186523,\"Lines\":\"Observation\",\"gds/W in S/m\":0.10784301161766052},{\"gm/Id in 1/V\":4.619787216186523,\"Lines\":\"Prediction\",\"gds/W in S/m\":0.10408756136894226},{\"gm/Id in 1/V\":4.929629325866699,\"Lines\":\"Observation\",\"gds/W in S/m\":9.382729232311249e-2},{\"gm/Id in 1/V\":4.929629325866699,\"Lines\":\"Prediction\",\"gds/W in S/m\":8.79424586892128e-2},{\"gm/Id in 1/V\":5.2806925773620605,\"Lines\":\"Observation\",\"gds/W in S/m\":8.109825849533081e-2},{\"gm/Id in 1/V\":5.2806925773620605,\"Lines\":\"Prediction\",\"gds/W in S/m\":7.555603981018066e-2},{\"gm/Id in 1/V\":5.680863380432129,\"Lines\":\"Observation\",\"gds/W in S/m\":6.956720352172852e-2},{\"gm/Id in 1/V\":5.680863380432129,\"Lines\":\"Prediction\",\"gds/W in S/m\":6.48224726319313e-2},{\"gm/Id in 1/V\":6.13967752456665,\"Lines\":\"Observation\",\"gds/W in S/m\":5.915628373622894e-2},{\"gm/Id in 1/V\":6.13967752456665,\"Lines\":\"Prediction\",\"gds/W in S/m\":5.4825570434331894e-2},{\"gm/Id in 1/V\":6.668534755706787,\"Lines\":\"Observation\",\"gds/W in S/m\":4.979743808507919e-2},{\"gm/Id in 1/V\":6.668534755706787,\"Lines\":\"Prediction\",\"gds/W in S/m\":4.6093232929706573e-2},{\"gm/Id in 1/V\":7.2807769775390625,\"Lines\":\"Observation\",\"gds/W in S/m\":4.143143817782402e-2},{\"gm/Id in 1/V\":7.2807769775390625,\"Lines\":\"Prediction\",\"gds/W in S/m\":3.9218638092279434e-2},{\"gm/Id in 1/V\":7.991485118865967,\"Lines\":\"Observation\",\"gds/W in S/m\":3.400683403015137e-2},{\"gm/Id in 1/V\":7.991485118865967,\"Lines\":\"Prediction\",\"gds/W in S/m\":3.315898776054382e-2},{\"gm/Id in 1/V\":8.816718101501465,\"Lines\":\"Observation\",\"gds/W in S/m\":2.7478691190481186e-2},{\"gm/Id in 1/V\":8.816718101501465,\"Lines\":\"Prediction\",\"gds/W in S/m\":2.6309847831726074e-2},{\"gm/Id in 1/V\":9.771797180175781,\"Lines\":\"Observation\",\"gds/W in S/m\":2.1806741133332253e-2},{\"gm/Id in 1/V\":9.771797180175781,\"Lines\":\"Prediction\",\"gds/W in S/m\":2.067878656089306e-2},{\"gm/Id in 1/V\":10.868142127990723,\"Lines\":\"Observation\",\"gds/W in S/m\":1.6952723264694214e-2},{\"gm/Id in 1/V\":10.868142127990723,\"Lines\":\"Prediction\",\"gds/W in S/m\":1.5955043956637383e-2},{\"gm/Id in 1/V\":12.10823917388916,\"Lines\":\"Observation\",\"gds/W in S/m\":1.2876742519438267e-2},{\"gm/Id in 1/V\":12.10823917388916,\"Lines\":\"Prediction\",\"gds/W in S/m\":1.1855692602694035e-2},{\"gm/Id in 1/V\":13.478857040405273,\"Lines\":\"Observation\",\"gds/W in S/m\":9.532811120152473e-3},{\"gm/Id in 1/V\":13.478857040405273,\"Lines\":\"Prediction\",\"gds/W in S/m\":8.89537762850523e-3},{\"gm/Id in 1/V\":14.943990707397461,\"Lines\":\"Observation\",\"gds/W in S/m\":6.864381954073906e-3},{\"gm/Id in 1/V\":14.943990707397461,\"Lines\":\"Prediction\",\"gds/W in S/m\":6.696305237710476e-3},{\"gm/Id in 1/V\":16.441240310668945,\"Lines\":\"Observation\",\"gds/W in S/m\":4.801399540156126e-3},{\"gm/Id in 1/V\":16.441240310668945,\"Lines\":\"Prediction\",\"gds/W in S/m\":4.677752964198589e-3},{\"gm/Id in 1/V\":17.88750457763672,\"Lines\":\"Observation\",\"gds/W in S/m\":3.260634606704116e-3},{\"gm/Id in 1/V\":17.88750457763672,\"Lines\":\"Prediction\",\"gds/W in S/m\":3.217741847038269e-3},{\"gm/Id in 1/V\":19.199054718017578,\"Lines\":\"Observation\",\"gds/W in S/m\":2.1502573508769274e-3},{\"gm/Id in 1/V\":19.199054718017578,\"Lines\":\"Prediction\",\"gds/W in S/m\":2.0717738661915064e-3},{\"gm/Id in 1/V\":20.323463439941406,\"Lines\":\"Observation\",\"gds/W in S/m\":1.3776670675724745e-3},{\"gm/Id in 1/V\":20.323463439941406,\"Lines\":\"Prediction\",\"gds/W in S/m\":1.1847754940390587e-3},{\"gm/Id in 1/V\":21.266571044921875,\"Lines\":\"Observation\",\"gds/W in S/m\":8.578106062486768e-4},{\"gm/Id in 1/V\":21.266571044921875,\"Lines\":\"Prediction\",\"gds/W in S/m\":6.6503940615803e-4},{\"gm/Id in 1/V\":22.089746475219727,\"Lines\":\"Observation\",\"gds/W in S/m\":5.190249066799879e-4},{\"gm/Id in 1/V\":22.089746475219727,\"Lines\":\"Prediction\",\"gds/W in S/m\":4.3628906132653356e-4},{\"gm/Id in 1/V\":22.870319366455078,\"Lines\":\"Observation\",\"gds/W in S/m\":3.0510194483213127e-4},{\"gm/Id in 1/V\":22.870319366455078,\"Lines\":\"Prediction\",\"gds/W in S/m\":2.798634232021868e-4},{\"gm/Id in 1/V\":23.653661727905273,\"Lines\":\"Observation\",\"gds/W in S/m\":1.7429955187253654e-4},{\"gm/Id in 1/V\":23.653661727905273,\"Lines\":\"Prediction\",\"gds/W in S/m\":1.7518883396405727e-4},{\"gm/Id in 1/V\":24.43501091003418,\"Lines\":\"Observation\",\"gds/W in S/m\":9.690220758784562e-5},{\"gm/Id in 1/V\":24.43501091003418,\"Lines\":\"Prediction\",\"gds/W in S/m\":1.0961603402392939e-4},{\"gm/Id in 1/V\":25.177249908447266,\"Lines\":\"Observation\",\"gds/W in S/m\":5.2560335461748764e-5},{\"gm/Id in 1/V\":25.177249908447266,\"Lines\":\"Prediction\",\"gds/W in S/m\":6.0848553403047845e-5},{\"gm/Id in 1/V\":25.84026527404785,\"Lines\":\"Observation\",\"gds/W in S/m\":2.7909160053241067e-5},{\"gm/Id in 1/V\":25.84026527404785,\"Lines\":\"Prediction\",\"gds/W in S/m\":5.189460716792382e-5},{\"gm/Id in 1/V\":26.39950942993164,\"Lines\":\"Observation\",\"gds/W in S/m\":1.4562337128154468e-5},{\"gm/Id in 1/V\":26.39950942993164,\"Lines\":\"Prediction\",\"gds/W in S/m\":2.3809901904314756e-5},{\"gm/Id in 1/V\":26.849451065063477,\"Lines\":\"Observation\",\"gds/W in S/m\":7.493630164390197e-6},{\"gm/Id in 1/V\":26.849451065063477,\"Lines\":\"Prediction\",\"gds/W in S/m\":1.0406356523162685e-5},{\"gm/Id in 1/V\":27.19843292236328,\"Lines\":\"Observation\",\"gds/W in S/m\":3.815293439402012e-6},{\"gm/Id in 1/V\":27.19843292236328,\"Lines\":\"Prediction\",\"gds/W in S/m\":5.21684796694899e-6},{\"gm/Id in 1/V\":27.4617919921875,\"Lines\":\"Observation\",\"gds/W in S/m\":1.9270585198682966e-6},{\"gm/Id in 1/V\":27.4617919921875,\"Lines\":\"Prediction\",\"gds/W in S/m\":1.9174808585376013e-6},{\"gm/Id in 1/V\":27.65658187866211,\"Lines\":\"Observation\",\"gds/W in S/m\":9.6762380508153e-7},{\"gm/Id in 1/V\":27.65658187866211,\"Lines\":\"Prediction\",\"gds/W in S/m\":8.673364391142968e-7},{\"gm/Id in 1/V\":27.7985782623291,\"Lines\":\"Observation\",\"gds/W in S/m\":4.83793940020405e-7},{\"gm/Id in 1/V\":27.7985782623291,\"Lines\":\"Prediction\",\"gds/W in S/m\":4.502965680330817e-7},{\"gm/Id in 1/V\":27.90101432800293,\"Lines\":\"Observation\",\"gds/W in S/m\":2.411439083971345e-7},{\"gm/Id in 1/V\":27.90101432800293,\"Lines\":\"Prediction\",\"gds/W in S/m\":2.355389199237834e-7},{\"gm/Id in 1/V\":27.974367141723633,\"Lines\":\"Observation\",\"gds/W in S/m\":1.1993206783245114e-7},{\"gm/Id in 1/V\":27.974367141723633,\"Lines\":\"Prediction\",\"gds/W in S/m\":1.227053161301228e-7},{\"gm/Id in 1/V\":28.026615142822266,\"Lines\":\"Observation\",\"gds/W in S/m\":5.955430282256202e-8},{\"gm/Id in 1/V\":28.026615142822266,\"Lines\":\"Prediction\",\"gds/W in S/m\":5.816168524575005e-8},{\"gm/Id in 1/V\":28.06369400024414,\"Lines\":\"Observation\",\"gds/W in S/m\":2.953982480846662e-8},{\"gm/Id in 1/V\":28.06369400024414,\"Lines\":\"Prediction\",\"gds/W in S/m\":3.225467182232933e-8},{\"gm/Id in 1/V\":28.089937210083008,\"Lines\":\"Observation\",\"gds/W in S/m\":1.4640667345133807e-8},{\"gm/Id in 1/V\":28.089937210083008,\"Lines\":\"Prediction\",\"gds/W in S/m\":1.880155409139661e-8},{\"gm/Id in 1/V\":28.108478546142578,\"Lines\":\"Observation\",\"gds/W in S/m\":7.252244582645062e-9},{\"gm/Id in 1/V\":28.108478546142578,\"Lines\":\"Prediction\",\"gds/W in S/m\":1.1387338183510565e-8},{\"gm/Id in 1/V\":28.121559143066406,\"Lines\":\"Observation\",\"gds/W in S/m\":3.590985730994589e-9},{\"gm/Id in 1/V\":28.121559143066406,\"Lines\":\"Prediction\",\"gds/W in S/m\":5.730946828208516e-9},{\"gm/Id in 1/V\":28.130779266357422,\"Lines\":\"Observation\",\"gds/W in S/m\":1.777603730879207e-9},{\"gm/Id in 1/V\":28.130779266357422,\"Lines\":\"Prediction\",\"gds/W in S/m\":2.803130172424062e-9},{\"gm/Id in 1/V\":28.13727569580078,\"Lines\":\"Observation\",\"gds/W in S/m\":8.797750861155862e-10},{\"gm/Id in 1/V\":28.13727569580078,\"Lines\":\"Prediction\",\"gds/W in S/m\":8.776863680282077e-10},{\"gm/Id in 1/V\":28.141847610473633,\"Lines\":\"Observation\",\"gds/W in S/m\":4.3536030336355225e-10},{\"gm/Id in 1/V\":28.141847610473633,\"Lines\":\"Prediction\",\"gds/W in S/m\":4.4750100847146257e-10},{\"gm/Id in 1/V\":28.14506721496582,\"Lines\":\"Observation\",\"gds/W in S/m\":2.1541905759203672e-10},{\"gm/Id in 1/V\":28.14506721496582,\"Lines\":\"Prediction\",\"gds/W in S/m\":2.1560279950261219e-10},{\"gm/Id in 1/V\":28.1473331451416,\"Lines\":\"Observation\",\"gds/W in S/m\":1.065834850932923e-10},{\"gm/Id in 1/V\":28.1473331451416,\"Lines\":\"Prediction\",\"gds/W in S/m\":1.5197469671601738e-10}]},\"width\":300,\"$schema\":\"https://vega.github.io/schema/vega-lite/v4.json\",\"encoding\":{\"color\":{\"field\":\"Lines\",\"type\":\"nominal\"},\"x\":{\"field\":\"gm/Id in 1/V\",\"type\":\"quantitative\",\"axis\":{\"values\":[1.4768649339675903,1.519493818283081,1.5630449056625366,1.6077401638031006,1.653807520866394,1.7014769315719604,1.750980019569397,1.80255126953125,1.8564318418502808,1.9128729104995728,1.972139835357666,2.034517288208008,2.100314140319824,2.169867992401123,2.2435531616210938,2.3217856884002686,2.4050326347351074,2.493821859359741,2.588752269744873,2.6905083656311035,2.799877643585205,2.917769193649292,3.045241355895996,3.1835315227508545,3.3340961933135986,3.498659610748291,3.6792757511138916,3.8784053325653076,4.099012851715088,4.344686031341553,4.619787216186523,4.929629325866699,5.2806925773620605,5.680863380432129,6.13967752456665,6.668534755706787,7.2807769775390625,7.991485118865967,8.816718101501465,9.771797180175781,10.868142127990723,12.10823917388916,13.478857040405273,14.943990707397461,16.441240310668945,17.88750457763672,19.199054718017578,20.323463439941406,21.266571044921875,22.089746475219727,22.870319366455078,23.653661727905273,24.43501091003418,25.177249908447266,25.84026527404785,26.39950942993164,26.849451065063477,27.19843292236328,27.4617919921875,27.65658187866211,27.7985782623291,27.90101432800293,27.974367141723633,28.026615142822266,28.06369400024414,28.089937210083008,28.108478546142578,28.121559143066406,28.130779266357422,28.13727569580078,28.141847610473633,28.14506721496582,28.1473331451416]}},\"y\":{\"field\":\"gds/W in S/m\",\"scale\":{\"type\":\"log\"},\"type\":\"quantitative\"}}}).then(function (result) { console.log(result); }).catch(function (error) { ndiv.innerHTML = 'There was an error: ' + error; });});"
      ]
     },
     "metadata": {},
     "output_type": "display_data"
    },
    {
     "data": {
      "application/javascript": [
       "requirejs.config({baseUrl: 'https://cdn.jsdelivr.net/npm/',paths: {'vega-embed': 'vega-embed@6?noext','vega-lib': 'vega-lib?noext','vega-lite': 'vega-lite@4?noext','vega': 'vega@5?noext'}});var ndiv = document.createElement('div');ndiv.innerHTML = 'Awesome Vega-Lite visualization to appear here';element[0].appendChild(ndiv);require(['vega-embed'],function(vegaEmbed){vegaEmbed(ndiv,{\"height\":200,\"mark\":\"line\",\"data\":{\"values\":[{\"gm/Id in 1/V\":1.4768649339675903,\"Lines\":\"Observation\",\"L in m\":1.9999999949504854e-6},{\"gm/Id in 1/V\":1.4768649339675903,\"Lines\":\"Prediction\",\"L in m\":2.912190666393144e-6},{\"gm/Id in 1/V\":1.519493818283081,\"Lines\":\"Observation\",\"L in m\":1.9999999949504854e-6},{\"gm/Id in 1/V\":1.519493818283081,\"Lines\":\"Prediction\",\"L in m\":2.912190666393144e-6},{\"gm/Id in 1/V\":1.5630449056625366,\"Lines\":\"Observation\",\"L in m\":1.9999999949504854e-6},{\"gm/Id in 1/V\":1.5630449056625366,\"Lines\":\"Prediction\",\"L in m\":2.912190666393144e-6},{\"gm/Id in 1/V\":1.6077401638031006,\"Lines\":\"Observation\",\"L in m\":1.9999999949504854e-6},{\"gm/Id in 1/V\":1.6077401638031006,\"Lines\":\"Prediction\",\"L in m\":2.912190666393144e-6},{\"gm/Id in 1/V\":1.653807520866394,\"Lines\":\"Observation\",\"L in m\":1.9999999949504854e-6},{\"gm/Id in 1/V\":1.653807520866394,\"Lines\":\"Prediction\",\"L in m\":2.912190666393144e-6},{\"gm/Id in 1/V\":1.7014769315719604,\"Lines\":\"Observation\",\"L in m\":1.9999999949504854e-6},{\"gm/Id in 1/V\":1.7014769315719604,\"Lines\":\"Prediction\",\"L in m\":2.912190666393144e-6},{\"gm/Id in 1/V\":1.750980019569397,\"Lines\":\"Observation\",\"L in m\":1.9999999949504854e-6},{\"gm/Id in 1/V\":1.750980019569397,\"Lines\":\"Prediction\",\"L in m\":2.912190666393144e-6},{\"gm/Id in 1/V\":1.80255126953125,\"Lines\":\"Observation\",\"L in m\":1.9999999949504854e-6},{\"gm/Id in 1/V\":1.80255126953125,\"Lines\":\"Prediction\",\"L in m\":2.912190666393144e-6},{\"gm/Id in 1/V\":1.8564318418502808,\"Lines\":\"Observation\",\"L in m\":1.9999999949504854e-6},{\"gm/Id in 1/V\":1.8564318418502808,\"Lines\":\"Prediction\",\"L in m\":2.912190666393144e-6},{\"gm/Id in 1/V\":1.9128729104995728,\"Lines\":\"Observation\",\"L in m\":1.9999999949504854e-6},{\"gm/Id in 1/V\":1.9128729104995728,\"Lines\":\"Prediction\",\"L in m\":2.912190666393144e-6},{\"gm/Id in 1/V\":1.972139835357666,\"Lines\":\"Observation\",\"L in m\":1.9999999949504854e-6},{\"gm/Id in 1/V\":1.972139835357666,\"Lines\":\"Prediction\",\"L in m\":2.912190666393144e-6},{\"gm/Id in 1/V\":2.034517288208008,\"Lines\":\"Observation\",\"L in m\":1.9999999949504854e-6},{\"gm/Id in 1/V\":2.034517288208008,\"Lines\":\"Prediction\",\"L in m\":2.912190666393144e-6},{\"gm/Id in 1/V\":2.100314140319824,\"Lines\":\"Observation\",\"L in m\":1.9999999949504854e-6},{\"gm/Id in 1/V\":2.100314140319824,\"Lines\":\"Prediction\",\"L in m\":2.912190666393144e-6},{\"gm/Id in 1/V\":2.169867992401123,\"Lines\":\"Observation\",\"L in m\":1.9999999949504854e-6},{\"gm/Id in 1/V\":2.169867992401123,\"Lines\":\"Prediction\",\"L in m\":2.912190666393144e-6},{\"gm/Id in 1/V\":2.2435531616210938,\"Lines\":\"Observation\",\"L in m\":1.9999999949504854e-6},{\"gm/Id in 1/V\":2.2435531616210938,\"Lines\":\"Prediction\",\"L in m\":2.912190666393144e-6},{\"gm/Id in 1/V\":2.3217856884002686,\"Lines\":\"Observation\",\"L in m\":1.9999999949504854e-6},{\"gm/Id in 1/V\":2.3217856884002686,\"Lines\":\"Prediction\",\"L in m\":2.912190666393144e-6},{\"gm/Id in 1/V\":2.4050326347351074,\"Lines\":\"Observation\",\"L in m\":1.9999999949504854e-6},{\"gm/Id in 1/V\":2.4050326347351074,\"Lines\":\"Prediction\",\"L in m\":2.912190666393144e-6},{\"gm/Id in 1/V\":2.493821859359741,\"Lines\":\"Observation\",\"L in m\":1.9999999949504854e-6},{\"gm/Id in 1/V\":2.493821859359741,\"Lines\":\"Prediction\",\"L in m\":2.912190666393144e-6},{\"gm/Id in 1/V\":2.588752269744873,\"Lines\":\"Observation\",\"L in m\":1.9999999949504854e-6},{\"gm/Id in 1/V\":2.588752269744873,\"Lines\":\"Prediction\",\"L in m\":2.912190666393144e-6},{\"gm/Id in 1/V\":2.6905083656311035,\"Lines\":\"Observation\",\"L in m\":1.9999999949504854e-6},{\"gm/Id in 1/V\":2.6905083656311035,\"Lines\":\"Prediction\",\"L in m\":2.912190666393144e-6},{\"gm/Id in 1/V\":2.799877643585205,\"Lines\":\"Observation\",\"L in m\":1.9999999949504854e-6},{\"gm/Id in 1/V\":2.799877643585205,\"Lines\":\"Prediction\",\"L in m\":2.912190666393144e-6},{\"gm/Id in 1/V\":2.917769193649292,\"Lines\":\"Observation\",\"L in m\":1.9999999949504854e-6},{\"gm/Id in 1/V\":2.917769193649292,\"Lines\":\"Prediction\",\"L in m\":2.912190666393144e-6},{\"gm/Id in 1/V\":3.045241355895996,\"Lines\":\"Observation\",\"L in m\":1.9999999949504854e-6},{\"gm/Id in 1/V\":3.045241355895996,\"Lines\":\"Prediction\",\"L in m\":2.912190666393144e-6},{\"gm/Id in 1/V\":3.1835315227508545,\"Lines\":\"Observation\",\"L in m\":1.9999999949504854e-6},{\"gm/Id in 1/V\":3.1835315227508545,\"Lines\":\"Prediction\",\"L in m\":2.912190666393144e-6},{\"gm/Id in 1/V\":3.3340961933135986,\"Lines\":\"Observation\",\"L in m\":1.9999999949504854e-6},{\"gm/Id in 1/V\":3.3340961933135986,\"Lines\":\"Prediction\",\"L in m\":2.912190666393144e-6},{\"gm/Id in 1/V\":3.498659610748291,\"Lines\":\"Observation\",\"L in m\":1.9999999949504854e-6},{\"gm/Id in 1/V\":3.498659610748291,\"Lines\":\"Prediction\",\"L in m\":2.912190666393144e-6},{\"gm/Id in 1/V\":3.6792757511138916,\"Lines\":\"Observation\",\"L in m\":1.9999999949504854e-6},{\"gm/Id in 1/V\":3.6792757511138916,\"Lines\":\"Prediction\",\"L in m\":2.912190666393144e-6},{\"gm/Id in 1/V\":3.8784053325653076,\"Lines\":\"Observation\",\"L in m\":1.9999999949504854e-6},{\"gm/Id in 1/V\":3.8784053325653076,\"Lines\":\"Prediction\",\"L in m\":2.912190666393144e-6},{\"gm/Id in 1/V\":4.099012851715088,\"Lines\":\"Observation\",\"L in m\":1.9999999949504854e-6},{\"gm/Id in 1/V\":4.099012851715088,\"Lines\":\"Prediction\",\"L in m\":2.912190666393144e-6},{\"gm/Id in 1/V\":4.344686031341553,\"Lines\":\"Observation\",\"L in m\":1.9999999949504854e-6},{\"gm/Id in 1/V\":4.344686031341553,\"Lines\":\"Prediction\",\"L in m\":2.912190666393144e-6},{\"gm/Id in 1/V\":4.619787216186523,\"Lines\":\"Observation\",\"L in m\":1.9999999949504854e-6},{\"gm/Id in 1/V\":4.619787216186523,\"Lines\":\"Prediction\",\"L in m\":2.912190666393144e-6},{\"gm/Id in 1/V\":4.929629325866699,\"Lines\":\"Observation\",\"L in m\":1.9999999949504854e-6},{\"gm/Id in 1/V\":4.929629325866699,\"Lines\":\"Prediction\",\"L in m\":2.912190666393144e-6},{\"gm/Id in 1/V\":5.2806925773620605,\"Lines\":\"Observation\",\"L in m\":1.9999999949504854e-6},{\"gm/Id in 1/V\":5.2806925773620605,\"Lines\":\"Prediction\",\"L in m\":2.912190666393144e-6},{\"gm/Id in 1/V\":5.680863380432129,\"Lines\":\"Observation\",\"L in m\":1.9999999949504854e-6},{\"gm/Id in 1/V\":5.680863380432129,\"Lines\":\"Prediction\",\"L in m\":2.912190666393144e-6},{\"gm/Id in 1/V\":6.13967752456665,\"Lines\":\"Observation\",\"L in m\":1.9999999949504854e-6},{\"gm/Id in 1/V\":6.13967752456665,\"Lines\":\"Prediction\",\"L in m\":2.912190666393144e-6},{\"gm/Id in 1/V\":6.668534755706787,\"Lines\":\"Observation\",\"L in m\":1.9999999949504854e-6},{\"gm/Id in 1/V\":6.668534755706787,\"Lines\":\"Prediction\",\"L in m\":2.912190666393144e-6},{\"gm/Id in 1/V\":7.2807769775390625,\"Lines\":\"Observation\",\"L in m\":1.9999999949504854e-6},{\"gm/Id in 1/V\":7.2807769775390625,\"Lines\":\"Prediction\",\"L in m\":2.912190666393144e-6},{\"gm/Id in 1/V\":7.991485118865967,\"Lines\":\"Observation\",\"L in m\":1.9999999949504854e-6},{\"gm/Id in 1/V\":7.991485118865967,\"Lines\":\"Prediction\",\"L in m\":2.912190666393144e-6},{\"gm/Id in 1/V\":8.816718101501465,\"Lines\":\"Observation\",\"L in m\":1.9999999949504854e-6},{\"gm/Id in 1/V\":8.816718101501465,\"Lines\":\"Prediction\",\"L in m\":2.912190666393144e-6},{\"gm/Id in 1/V\":9.771797180175781,\"Lines\":\"Observation\",\"L in m\":1.9999999949504854e-6},{\"gm/Id in 1/V\":9.771797180175781,\"Lines\":\"Prediction\",\"L in m\":2.912190666393144e-6},{\"gm/Id in 1/V\":10.868142127990723,\"Lines\":\"Observation\",\"L in m\":1.9999999949504854e-6},{\"gm/Id in 1/V\":10.868142127990723,\"Lines\":\"Prediction\",\"L in m\":2.912190666393144e-6},{\"gm/Id in 1/V\":12.10823917388916,\"Lines\":\"Observation\",\"L in m\":1.9999999949504854e-6},{\"gm/Id in 1/V\":12.10823917388916,\"Lines\":\"Prediction\",\"L in m\":2.912190666393144e-6},{\"gm/Id in 1/V\":13.478857040405273,\"Lines\":\"Observation\",\"L in m\":1.9999999949504854e-6},{\"gm/Id in 1/V\":13.478857040405273,\"Lines\":\"Prediction\",\"L in m\":2.912190666393144e-6},{\"gm/Id in 1/V\":14.943990707397461,\"Lines\":\"Observation\",\"L in m\":1.9999999949504854e-6},{\"gm/Id in 1/V\":14.943990707397461,\"Lines\":\"Prediction\",\"L in m\":2.912190666393144e-6},{\"gm/Id in 1/V\":16.441240310668945,\"Lines\":\"Observation\",\"L in m\":1.9999999949504854e-6},{\"gm/Id in 1/V\":16.441240310668945,\"Lines\":\"Prediction\",\"L in m\":2.912190666393144e-6},{\"gm/Id in 1/V\":17.88750457763672,\"Lines\":\"Observation\",\"L in m\":1.9999999949504854e-6},{\"gm/Id in 1/V\":17.88750457763672,\"Lines\":\"Prediction\",\"L in m\":2.912190666393144e-6},{\"gm/Id in 1/V\":19.199054718017578,\"Lines\":\"Observation\",\"L in m\":1.9999999949504854e-6},{\"gm/Id in 1/V\":19.199054718017578,\"Lines\":\"Prediction\",\"L in m\":2.912190666393144e-6},{\"gm/Id in 1/V\":20.323463439941406,\"Lines\":\"Observation\",\"L in m\":1.9999999949504854e-6},{\"gm/Id in 1/V\":20.323463439941406,\"Lines\":\"Prediction\",\"L in m\":2.912190666393144e-6},{\"gm/Id in 1/V\":21.266571044921875,\"Lines\":\"Observation\",\"L in m\":1.9999999949504854e-6},{\"gm/Id in 1/V\":21.266571044921875,\"Lines\":\"Prediction\",\"L in m\":2.912190666393144e-6},{\"gm/Id in 1/V\":22.089746475219727,\"Lines\":\"Observation\",\"L in m\":1.9999999949504854e-6},{\"gm/Id in 1/V\":22.089746475219727,\"Lines\":\"Prediction\",\"L in m\":2.912190666393144e-6},{\"gm/Id in 1/V\":22.870319366455078,\"Lines\":\"Observation\",\"L in m\":1.9999999949504854e-6},{\"gm/Id in 1/V\":22.870319366455078,\"Lines\":\"Prediction\",\"L in m\":2.912190666393144e-6},{\"gm/Id in 1/V\":23.653661727905273,\"Lines\":\"Observation\",\"L in m\":1.9999999949504854e-6},{\"gm/Id in 1/V\":23.653661727905273,\"Lines\":\"Prediction\",\"L in m\":2.912190666393144e-6},{\"gm/Id in 1/V\":24.43501091003418,\"Lines\":\"Observation\",\"L in m\":1.9999999949504854e-6},{\"gm/Id in 1/V\":24.43501091003418,\"Lines\":\"Prediction\",\"L in m\":2.912190666393144e-6},{\"gm/Id in 1/V\":25.177249908447266,\"Lines\":\"Observation\",\"L in m\":1.9999999949504854e-6},{\"gm/Id in 1/V\":25.177249908447266,\"Lines\":\"Prediction\",\"L in m\":2.912190666393144e-6},{\"gm/Id in 1/V\":25.84026527404785,\"Lines\":\"Observation\",\"L in m\":1.9999999949504854e-6},{\"gm/Id in 1/V\":25.84026527404785,\"Lines\":\"Prediction\",\"L in m\":2.912190666393144e-6},{\"gm/Id in 1/V\":26.39950942993164,\"Lines\":\"Observation\",\"L in m\":1.9999999949504854e-6},{\"gm/Id in 1/V\":26.39950942993164,\"Lines\":\"Prediction\",\"L in m\":2.912190666393144e-6},{\"gm/Id in 1/V\":26.849451065063477,\"Lines\":\"Observation\",\"L in m\":1.9999999949504854e-6},{\"gm/Id in 1/V\":26.849451065063477,\"Lines\":\"Prediction\",\"L in m\":2.912190666393144e-6},{\"gm/Id in 1/V\":27.19843292236328,\"Lines\":\"Observation\",\"L in m\":1.9999999949504854e-6},{\"gm/Id in 1/V\":27.19843292236328,\"Lines\":\"Prediction\",\"L in m\":2.912190666393144e-6},{\"gm/Id in 1/V\":27.4617919921875,\"Lines\":\"Observation\",\"L in m\":1.9999999949504854e-6},{\"gm/Id in 1/V\":27.4617919921875,\"Lines\":\"Prediction\",\"L in m\":2.912190666393144e-6},{\"gm/Id in 1/V\":27.65658187866211,\"Lines\":\"Observation\",\"L in m\":1.9999999949504854e-6},{\"gm/Id in 1/V\":27.65658187866211,\"Lines\":\"Prediction\",\"L in m\":2.912190666393144e-6},{\"gm/Id in 1/V\":27.7985782623291,\"Lines\":\"Observation\",\"L in m\":1.9999999949504854e-6},{\"gm/Id in 1/V\":27.7985782623291,\"Lines\":\"Prediction\",\"L in m\":2.912190666393144e-6},{\"gm/Id in 1/V\":27.90101432800293,\"Lines\":\"Observation\",\"L in m\":1.9999999949504854e-6},{\"gm/Id in 1/V\":27.90101432800293,\"Lines\":\"Prediction\",\"L in m\":2.912190666393144e-6},{\"gm/Id in 1/V\":27.974367141723633,\"Lines\":\"Observation\",\"L in m\":1.9999999949504854e-6},{\"gm/Id in 1/V\":27.974367141723633,\"Lines\":\"Prediction\",\"L in m\":2.912190666393144e-6},{\"gm/Id in 1/V\":28.026615142822266,\"Lines\":\"Observation\",\"L in m\":1.9999999949504854e-6},{\"gm/Id in 1/V\":28.026615142822266,\"Lines\":\"Prediction\",\"L in m\":2.912190666393144e-6},{\"gm/Id in 1/V\":28.06369400024414,\"Lines\":\"Observation\",\"L in m\":1.9999999949504854e-6},{\"gm/Id in 1/V\":28.06369400024414,\"Lines\":\"Prediction\",\"L in m\":2.912190666393144e-6},{\"gm/Id in 1/V\":28.089937210083008,\"Lines\":\"Observation\",\"L in m\":1.9999999949504854e-6},{\"gm/Id in 1/V\":28.089937210083008,\"Lines\":\"Prediction\",\"L in m\":2.912190666393144e-6},{\"gm/Id in 1/V\":28.108478546142578,\"Lines\":\"Observation\",\"L in m\":1.9999999949504854e-6},{\"gm/Id in 1/V\":28.108478546142578,\"Lines\":\"Prediction\",\"L in m\":2.912190666393144e-6},{\"gm/Id in 1/V\":28.121559143066406,\"Lines\":\"Observation\",\"L in m\":1.9999999949504854e-6},{\"gm/Id in 1/V\":28.121559143066406,\"Lines\":\"Prediction\",\"L in m\":2.912190666393144e-6},{\"gm/Id in 1/V\":28.130779266357422,\"Lines\":\"Observation\",\"L in m\":1.9999999949504854e-6},{\"gm/Id in 1/V\":28.130779266357422,\"Lines\":\"Prediction\",\"L in m\":2.912190666393144e-6},{\"gm/Id in 1/V\":28.13727569580078,\"Lines\":\"Observation\",\"L in m\":1.9999999949504854e-6},{\"gm/Id in 1/V\":28.13727569580078,\"Lines\":\"Prediction\",\"L in m\":2.912190666393144e-6},{\"gm/Id in 1/V\":28.141847610473633,\"Lines\":\"Observation\",\"L in m\":1.9999999949504854e-6},{\"gm/Id in 1/V\":28.141847610473633,\"Lines\":\"Prediction\",\"L in m\":2.912190666393144e-6},{\"gm/Id in 1/V\":28.14506721496582,\"Lines\":\"Observation\",\"L in m\":1.9999999949504854e-6},{\"gm/Id in 1/V\":28.14506721496582,\"Lines\":\"Prediction\",\"L in m\":2.912190666393144e-6},{\"gm/Id in 1/V\":28.1473331451416,\"Lines\":\"Observation\",\"L in m\":1.9999999949504854e-6},{\"gm/Id in 1/V\":28.1473331451416,\"Lines\":\"Prediction\",\"L in m\":2.912190666393144e-6}]},\"width\":300,\"$schema\":\"https://vega.github.io/schema/vega-lite/v4.json\",\"encoding\":{\"color\":{\"field\":\"Lines\",\"type\":\"nominal\"},\"x\":{\"field\":\"gm/Id in 1/V\",\"type\":\"quantitative\",\"axis\":{\"values\":[1.4768649339675903,1.519493818283081,1.5630449056625366,1.6077401638031006,1.653807520866394,1.7014769315719604,1.750980019569397,1.80255126953125,1.8564318418502808,1.9128729104995728,1.972139835357666,2.034517288208008,2.100314140319824,2.169867992401123,2.2435531616210938,2.3217856884002686,2.4050326347351074,2.493821859359741,2.588752269744873,2.6905083656311035,2.799877643585205,2.917769193649292,3.045241355895996,3.1835315227508545,3.3340961933135986,3.498659610748291,3.6792757511138916,3.8784053325653076,4.099012851715088,4.344686031341553,4.619787216186523,4.929629325866699,5.2806925773620605,5.680863380432129,6.13967752456665,6.668534755706787,7.2807769775390625,7.991485118865967,8.816718101501465,9.771797180175781,10.868142127990723,12.10823917388916,13.478857040405273,14.943990707397461,16.441240310668945,17.88750457763672,19.199054718017578,20.323463439941406,21.266571044921875,22.089746475219727,22.870319366455078,23.653661727905273,24.43501091003418,25.177249908447266,25.84026527404785,26.39950942993164,26.849451065063477,27.19843292236328,27.4617919921875,27.65658187866211,27.7985782623291,27.90101432800293,27.974367141723633,28.026615142822266,28.06369400024414,28.089937210083008,28.108478546142578,28.121559143066406,28.130779266357422,28.13727569580078,28.141847610473633,28.14506721496582,28.1473331451416]}},\"y\":{\"field\":\"L in m\",\"scale\":{\"type\":\"log\"},\"type\":\"quantitative\"}}}).then(function (result) { console.log(result); }).catch(function (error) { ndiv.innerHTML = 'There was an error: ' + error; });});"
      ]
     },
     "metadata": {},
     "output_type": "display_data"
    }
   ],
   "source": [
    "toVegaLite [ idDat [] \n",
    "           , mark Line []\n",
    "           , enc1 []\n",
    "           , height 200\n",
    "           , width 300 ]\n",
    "\n",
    "toVegaLite [ gdsDat [] \n",
    "           , mark Line []\n",
    "           , enc2 []\n",
    "           , height 200\n",
    "           , width 300 ]\n",
    "\n",
    "toVegaLite [ lDat [] \n",
    "           , mark Line []\n",
    "           , enc3 []\n",
    "           , height 200\n",
    "           , width 300 ]"
   ]
  }
 ],
 "metadata": {
  "kernelspec": {
   "display_name": "Haskell",
   "language": "haskell",
   "name": "haskell"
  },
  "language_info": {
   "codemirror_mode": "ihaskell",
   "file_extension": ".hs",
   "mimetype": "text/x-haskell",
   "name": "haskell",
   "pygments_lexer": "Haskell",
   "version": "8.10.4"
  }
 },
 "nbformat": 4,
 "nbformat_minor": 5
}
