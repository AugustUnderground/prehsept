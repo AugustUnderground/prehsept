{
 "cells": [
  {
   "cell_type": "code",
   "execution_count": 1,
   "id": "7272e480",
   "metadata": {},
   "outputs": [],
   "source": [
    ":set -XPackageImports\n",
    ":set -XOverloadedStrings"
   ]
  },
  {
   "cell_type": "markdown",
   "id": "a803bd05",
   "metadata": {},
   "source": [
    "## Model Inference\n",
    "\n",
    "Here we will show how to load a trained model and use it for inference on raw data."
   ]
  },
  {
   "cell_type": "code",
   "execution_count": 2,
   "id": "6f3c68b7",
   "metadata": {},
   "outputs": [],
   "source": [
    "import Prelude hiding (round)\n",
    "import Graphics.Vega.VegaLite\n",
    "import qualified Torch as T\n",
    "import Data.Frame as DF\n",
    "import \"prehsept\" Lib"
   ]
  },
  {
   "cell_type": "markdown",
   "id": "80ac3c95",
   "metadata": {},
   "source": [
    "Models trained with `prehsept` can be loaded as torch script modules:"
   ]
  },
  {
   "cell_type": "code",
   "execution_count": 3,
   "id": "ecba1c82",
   "metadata": {},
   "outputs": [],
   "source": [
    "pdk       = GPDK180\n",
    "dev       = NMOS\n",
    "timeStamp = \"20220617-165140\"\n",
    "modelPath = \"../models/\" ++ show pdk ++ \"/\" ++ show dev ++ \"-\" ++ timeStamp ++ \"/trace.pt\""
   ]
  },
  {
   "cell_type": "code",
   "execution_count": 4,
   "id": "2de02f79",
   "metadata": {},
   "outputs": [
    {
     "data": {
      "text/plain": []
     },
     "metadata": {},
     "output_type": "display_data"
    }
   ],
   "source": [
    "model' <- T.loadScript T.WithoutRequiredGrad modelPath\n",
    "\n",
    "model x = y \n",
    "  where\n",
    "    T.IVTensor y = T.forward model' [T.IVTensor x]"
   ]
  },
  {
   "cell_type": "markdown",
   "id": "15529f0b",
   "metadata": {},
   "source": [
    "For comparison we will load the training data:"
   ]
  },
  {
   "cell_type": "code",
   "execution_count": 5,
   "id": "ac162461",
   "metadata": {},
   "outputs": [
    {
     "data": {
      "text/plain": []
     },
     "metadata": {},
     "output_type": "display_data"
    }
   ],
   "source": [
    "df <- DF.fromFile pdk \"../data/gpdk180-nmos.pt\""
   ]
  },
  {
   "cell_type": "markdown",
   "id": "d2e55ada",
   "metadata": {},
   "source": [
    "We'll choose a random width ($W$) and length ($L$) from the dataset:"
   ]
  },
  {
   "cell_type": "code",
   "execution_count": 6,
   "id": "2a83719d",
   "metadata": {},
   "outputs": [],
   "source": [
    "(ws, _, _) = T.uniqueDim 0 False False False $ df ?? \"W\"\n",
    "(ls, _, _) = T.uniqueDim 0 False False False $ df ?? \"L\""
   ]
  },
  {
   "cell_type": "code",
   "execution_count": 7,
   "id": "18df31ad",
   "metadata": {},
   "outputs": [
    {
     "data": {
      "text/plain": []
     },
     "metadata": {},
     "output_type": "display_data"
    }
   ],
   "source": [
    "choicesW <- T.multinomialIO (T.arange' 0 (head $ T.shape ws) 1) 1 False\n",
    "w = T.squeezeAll $ T.indexSelect 0 choicesW ws\n",
    "\n",
    "choicesL <- T.multinomialIO (T.arange' 0 (head $ T.shape ls) 1) 1 False\n",
    "l = T.squeezeAll $ T.indexSelect 0 choicesL ls\n",
    "\n",
    "vdd = T.squeezeAll . fst . T.maxDim (T.Dim 0) T.RemoveDim $ df ?? \"M0.m1:vds\""
   ]
  },
  {
   "cell_type": "code",
   "execution_count": 8,
   "id": "89224829",
   "metadata": {},
   "outputs": [],
   "source": [
    "vbs = round 2 $ df ?? \"M0.m1:vbs\"\n",
    "vgs = round 2 $ df ?? \"M0.m1:vgs\"\n",
    "vds = round 2 $ df ?? \"M0.m1:vds\""
   ]
  },
  {
   "cell_type": "code",
   "execution_count": 9,
   "id": "038346cf",
   "metadata": {},
   "outputs": [],
   "source": [
    "traces = DF.sort False \"M0.m1:gmoverid\" \n",
    "       . DF.lookup [ \"M0.m1:gmoverid\", \"M0.m1:fug\", \"M0.m1:vds\", \"M0.m1:vbs\"\n",
    "                   , \"M0.m1:id\", \"W\", \"L\", \"M0.m1:gm\", \"M0.m1:gds\", \"M0.m1:vgs\" ]\n",
    "       . DF.rowFilter ( T.logicalAnd ((df ?? \"W\") `T.eq` w)\n",
    "                      . T.logicalAnd ((df ?? \"L\") `T.eq` l)\n",
    "                      . T.logicalAnd (vbs `T.eq` 0.0)\n",
    "                      $ (vds `T.eq` (vdd / 2.0))) \n",
    "       $ df"
   ]
  },
  {
   "cell_type": "markdown",
   "id": "15de15e0",
   "metadata": {},
   "source": [
    "Next we will get the model inputs from the trace as torch tensor:"
   ]
  },
  {
   "cell_type": "code",
   "execution_count": 10,
   "id": "5f9eeb54",
   "metadata": {},
   "outputs": [],
   "source": [
    "x = DF.values . DF.lookup [\"M0.m1:gmoverid\", \"M0.m1:fug\", \"M0.m1:vds\", \"M0.m1:vbs\"]  $ traces"
   ]
  },
  {
   "cell_type": "markdown",
   "id": "cffc9f66",
   "metadata": {},
   "source": [
    "... and feed it through the model"
   ]
  },
  {
   "cell_type": "code",
   "execution_count": 11,
   "id": "2dc45e0f",
   "metadata": {},
   "outputs": [],
   "source": [
    "y = model x"
   ]
  },
  {
   "cell_type": "markdown",
   "id": "6ea84af4",
   "metadata": {},
   "source": [
    "Now we extract the results and compare them with the original data:"
   ]
  },
  {
   "cell_type": "code",
   "execution_count": 12,
   "id": "c9afca16",
   "metadata": {},
   "outputs": [
    {
     "data": {
      "text/plain": []
     },
     "metadata": {},
     "output_type": "display_data"
    }
   ],
   "source": [
    "trueGmOverId = T.squeezeAll $ traces ?? \"M0.m1:gmoverid\"\n",
    "trueIdOverW  = T.squeezeAll $ (traces ?? \"M0.m1:id\") / (traces ?? \"W\")\n",
    "trueGdsOverW = T.squeezeAll $ (traces ?? \"M0.m1:gds\") / (traces ?? \"W\")\n",
    "trueL        = T.squeezeAll $ traces ?? \"L\"\n",
    "trueVgs      = T.squeezeAll $ traces ?? \"M0.m1:vgs\"\n",
    "\n",
    "predGmOverId = T.squeezeAll $ T.indexSelect' 1 [0] x\n",
    "predIdOverW  = T.squeezeAll $ T.indexSelect' 1 [0] y\n",
    "predGdsOverW = T.squeezeAll $ T.indexSelect' 1 [2] y\n",
    "predL'       = T.squeezeAll $ T.indexSelect' 1 [1] y\n",
    "predVgs      = T.squeezeAll $ T.indexSelect' 1 [3] y\n",
    "\n",
    "meanL        = T.mean predL'\n",
    "stdL         = T.std  predL'\n",
    "hiL          = T.max $ df ?? \"L\"\n",
    "loL          = T.min $ df ?? \"L\"\n",
    "\n",
    "meanL'       = T.asValue meanL\n",
    "predL        <- T.fullLike trueL meanL' T.defaultOpts"
   ]
  },
  {
   "cell_type": "code",
   "execution_count": 13,
   "id": "a2f896d7",
   "metadata": {},
   "outputs": [],
   "source": [
    "plotData :: T.Tensor -> T.Tensor -> T.Tensor -> [(Double, (Double, Double))]\n",
    "plotData x y y' = zip (T.asValue $ T.toDType T.Double x) \n",
    "                $ zip (T.asValue $ T.toDType T.Double y) \n",
    "                      (T.asValue $ T.toDType T.Double y')\n",
    "\n",
    "plt xAx yAx = foldl (\\sum' (x, (y, y')) -> sum'\n",
    "                    . dataRow [ (xAx, Number x)\n",
    "                              , (yAx, Number y)\n",
    "                              , (\"Lines\",   Str \"Observation\") ] \n",
    "                    . dataRow [ (xAx, Number x)\n",
    "                              , (yAx, Number y')\n",
    "                              , (\"Lines\",   Str \"Prediction\") ]\n",
    "                    ) (dataFromRows [])"
   ]
  },
  {
   "cell_type": "code",
   "execution_count": 14,
   "id": "8ea24f0d",
   "metadata": {},
   "outputs": [],
   "source": [
    "idPlot  = plotData trueGmOverId trueIdOverW  predIdOverW\n",
    "gdsPlot = plotData trueGmOverId trueGdsOverW predGdsOverW\n",
    "lPlot   = plotData trueGmOverId trueL        predL"
   ]
  },
  {
   "cell_type": "code",
   "execution_count": 15,
   "id": "16801881",
   "metadata": {},
   "outputs": [],
   "source": [
    "ax1  = PAxis [AxValues (Numbers (map fst idPlot))]\n",
    "enc1 = encoding\n",
    "     . position X [ PName \"gm/Id in 1/V\", PmType Quantitative, ax1 ]\n",
    "     . position Y [ PName \"Id/W in A/m\", PmType Quantitative, PScale [SType ScLog]  ]\n",
    "     . color [ MName \"Lines\", MmType Nominal ]\n",
    "\n",
    "ax2  = PAxis [AxValues (Numbers (map fst gdsPlot))]\n",
    "enc2 = encoding\n",
    "     . position X [ PName \"gm/Id in 1/V\", PmType Quantitative, ax2 ]\n",
    "     . position Y [ PName \"gds/W in S/m\", PmType Quantitative, PScale [SType ScLog]  ]\n",
    "     . color [ MName \"Lines\", MmType Nominal ]\n",
    "\n",
    "ax3  = PAxis [AxValues (Numbers (map fst lPlot))]\n",
    "enc3 = encoding\n",
    "     . position X [ PName \"gm/Id in 1/V\", PmType Quantitative, ax3 ]\n",
    "     . position Y [ PName \"L in m\", PmType Quantitative, PScale [SType ScLog]  ]\n",
    "     . color [ MName \"Lines\", MmType Nominal ]"
   ]
  },
  {
   "cell_type": "code",
   "execution_count": 16,
   "id": "4ff383e1",
   "metadata": {},
   "outputs": [],
   "source": [
    "idDat  = plt \"gm/Id in 1/V\" \"Id/W in A/m\"  idPlot\n",
    "gdsDat = plt \"gm/Id in 1/V\" \"gds/W in S/m\" gdsPlot\n",
    "lDat   = plt \"gm/Id in 1/V\" \"L in m\"       lPlot"
   ]
  },
  {
   "cell_type": "code",
   "execution_count": 17,
   "id": "145b6604",
   "metadata": {},
   "outputs": [
    {
     "data": {
      "application/javascript": [
       "requirejs.config({baseUrl: 'https://cdn.jsdelivr.net/npm/',paths: {'vega-embed': 'vega-embed@6?noext','vega-lib': 'vega-lib?noext','vega-lite': 'vega-lite@4?noext','vega': 'vega@5?noext'}});var ndiv = document.createElement('div');ndiv.innerHTML = 'Awesome Vega-Lite visualization to appear here';element[0].appendChild(ndiv);require(['vega-embed'],function(vegaEmbed){vegaEmbed(ndiv,{\"height\":200,\"mark\":\"line\",\"data\":{\"values\":[{\"gm/Id in 1/V\":0.7147243618965149,\"Lines\":\"Observation\",\"Id/W in A/m\":13.402820587158203},{\"gm/Id in 1/V\":0.7147243618965149,\"Lines\":\"Prediction\",\"Id/W in A/m\":11.75381851196289},{\"gm/Id in 1/V\":0.7828617095947266,\"Lines\":\"Observation\",\"Id/W in A/m\":12.910713195800781},{\"gm/Id in 1/V\":0.7828617095947266,\"Lines\":\"Prediction\",\"Id/W in A/m\":11.583617210388184},{\"gm/Id in 1/V\":0.8589791655540466,\"Lines\":\"Observation\",\"Id/W in A/m\":12.391965866088867},{\"gm/Id in 1/V\":0.8589791655540466,\"Lines\":\"Prediction\",\"Id/W in A/m\":11.397282600402832},{\"gm/Id in 1/V\":0.9443493485450745,\"Lines\":\"Observation\",\"Id/W in A/m\":11.846207618713379},{\"gm/Id in 1/V\":0.9443493485450745,\"Lines\":\"Prediction\",\"Id/W in A/m\":11.109458923339844},{\"gm/Id in 1/V\":1.0404001474380493,\"Lines\":\"Observation\",\"Id/W in A/m\":11.273309707641602},{\"gm/Id in 1/V\":1.0404001474380493,\"Lines\":\"Prediction\",\"Id/W in A/m\":10.732671737670898},{\"gm/Id in 1/V\":1.1485852003097534,\"Lines\":\"Observation\",\"Id/W in A/m\":10.673541069030762},{\"gm/Id in 1/V\":1.1485852003097534,\"Lines\":\"Prediction\",\"Id/W in A/m\":10.253843307495117},{\"gm/Id in 1/V\":1.2700321674346924,\"Lines\":\"Observation\",\"Id/W in A/m\":10.047866821289063},{\"gm/Id in 1/V\":1.2700321674346924,\"Lines\":\"Prediction\",\"Id/W in A/m\":9.76638126373291},{\"gm/Id in 1/V\":1.4048302173614502,\"Lines\":\"Observation\",\"Id/W in A/m\":9.39844036102295},{\"gm/Id in 1/V\":1.4048302173614502,\"Lines\":\"Prediction\",\"Id/W in A/m\":9.234301567077637},{\"gm/Id in 1/V\":1.551151156425476,\"Lines\":\"Observation\",\"Id/W in A/m\":8.729313850402832},{\"gm/Id in 1/V\":1.551151156425476,\"Lines\":\"Prediction\",\"Id/W in A/m\":8.72258472442627},{\"gm/Id in 1/V\":1.7054119110107422,\"Lines\":\"Observation\",\"Id/W in A/m\":8.046998977661133},{\"gm/Id in 1/V\":1.7054119110107422,\"Lines\":\"Prediction\",\"Id/W in A/m\":8.151252746582031},{\"gm/Id in 1/V\":1.8648489713668823,\"Lines\":\"Observation\",\"Id/W in A/m\":7.360030174255371},{\"gm/Id in 1/V\":1.8648489713668823,\"Lines\":\"Prediction\",\"Id/W in A/m\":7.512795448303223},{\"gm/Id in 1/V\":2.0304999351501465,\"Lines\":\"Observation\",\"Id/W in A/m\":6.677307605743408},{\"gm/Id in 1/V\":2.0304999351501465,\"Lines\":\"Prediction\",\"Id/W in A/m\":6.745198726654053},{\"gm/Id in 1/V\":2.2070300579071045,\"Lines\":\"Observation\",\"Id/W in A/m\":6.0064592361450195},{\"gm/Id in 1/V\":2.2070300579071045,\"Lines\":\"Prediction\",\"Id/W in A/m\":5.917569637298584},{\"gm/Id in 1/V\":2.400665760040283,\"Lines\":\"Observation\",\"Id/W in A/m\":5.353384494781494},{\"gm/Id in 1/V\":2.400665760040283,\"Lines\":\"Prediction\",\"Id/W in A/m\":5.114780902862549},{\"gm/Id in 1/V\":2.6181492805480957,\"Lines\":\"Observation\",\"Id/W in A/m\":4.722667694091797},{\"gm/Id in 1/V\":2.6181492805480957,\"Lines\":\"Prediction\",\"Id/W in A/m\":4.588313102722168},{\"gm/Id in 1/V\":2.8670084476470947,\"Lines\":\"Observation\",\"Id/W in A/m\":4.118109703063965},{\"gm/Id in 1/V\":2.8670084476470947,\"Lines\":\"Prediction\",\"Id/W in A/m\":4.020706653594971},{\"gm/Id in 1/V\":3.1564273834228516,\"Lines\":\"Observation\",\"Id/W in A/m\":3.5430960655212402},{\"gm/Id in 1/V\":3.1564273834228516,\"Lines\":\"Prediction\",\"Id/W in A/m\":3.5174267292022705},{\"gm/Id in 1/V\":3.498457431793213,\"Lines\":\"Observation\",\"Id/W in A/m\":3.0008022785186768},{\"gm/Id in 1/V\":3.498457431793213,\"Lines\":\"Prediction\",\"Id/W in A/m\":3.00028395652771},{\"gm/Id in 1/V\":3.9097137451171875,\"Lines\":\"Observation\",\"Id/W in A/m\":2.4942996501922607},{\"gm/Id in 1/V\":3.9097137451171875,\"Lines\":\"Prediction\",\"Id/W in A/m\":2.3876187801361084},{\"gm/Id in 1/V\":4.413917541503906,\"Lines\":\"Observation\",\"Id/W in A/m\":2.0266172885894775},{\"gm/Id in 1/V\":4.413917541503906,\"Lines\":\"Prediction\",\"Id/W in A/m\":1.8237701654434204},{\"gm/Id in 1/V\":5.045819282531738,\"Lines\":\"Observation\",\"Id/W in A/m\":1.600795030593872},{\"gm/Id in 1/V\":5.045819282531738,\"Lines\":\"Prediction\",\"Id/W in A/m\":1.4885350465774536},{\"gm/Id in 1/V\":5.8571038246154785,\"Lines\":\"Observation\",\"Id/W in A/m\":1.219954490661621},{\"gm/Id in 1/V\":5.8571038246154785,\"Lines\":\"Prediction\",\"Id/W in A/m\":1.2046478986740112},{\"gm/Id in 1/V\":6.9242424964904785,\"Lines\":\"Observation\",\"Id/W in A/m\":0.8874061107635498},{\"gm/Id in 1/V\":6.9242424964904785,\"Lines\":\"Prediction\",\"Id/W in A/m\":0.8885645270347595},{\"gm/Id in 1/V\":8.354765892028809,\"Lines\":\"Observation\",\"Id/W in A/m\":0.6067439317703247},{\"gm/Id in 1/V\":8.354765892028809,\"Lines\":\"Prediction\",\"Id/W in A/m\":0.5600793361663818},{\"gm/Id in 1/V\":10.275994300842285,\"Lines\":\"Observation\",\"Id/W in A/m\":0.38169851899147034},{\"gm/Id in 1/V\":10.275994300842285,\"Lines\":\"Prediction\",\"Id/W in A/m\":0.3465191125869751},{\"gm/Id in 1/V\":12.761174201965332,\"Lines\":\"Observation\",\"Id/W in A/m\":0.2150738388299942},{\"gm/Id in 1/V\":12.761174201965332,\"Lines\":\"Prediction\",\"Id/W in A/m\":0.1999625265598297},{\"gm/Id in 1/V\":15.639144897460938,\"Lines\":\"Observation\",\"Id/W in A/m\":0.10581688582897186},{\"gm/Id in 1/V\":15.639144897460938,\"Lines\":\"Prediction\",\"Id/W in A/m\":0.10473412275314331},{\"gm/Id in 1/V\":18.349336624145508,\"Lines\":\"Observation\",\"Id/W in A/m\":4.514423385262489e-2},{\"gm/Id in 1/V\":18.349336624145508,\"Lines\":\"Prediction\",\"Id/W in A/m\":4.1343286633491516e-2},{\"gm/Id in 1/V\":20.416431427001953,\"Lines\":\"Observation\",\"Id/W in A/m\":1.7083875834941864e-2},{\"gm/Id in 1/V\":20.416431427001953,\"Lines\":\"Prediction\",\"Id/W in A/m\":1.881660893559456e-2},{\"gm/Id in 1/V\":22.254228591918945,\"Lines\":\"Observation\",\"Id/W in A/m\":5.884471815079451e-3},{\"gm/Id in 1/V\":22.254228591918945,\"Lines\":\"Prediction\",\"Id/W in A/m\":6.638859864324331e-3},{\"gm/Id in 1/V\":24.578216552734375,\"Lines\":\"Observation\",\"Id/W in A/m\":1.8294912297278643e-3},{\"gm/Id in 1/V\":24.578216552734375,\"Lines\":\"Prediction\",\"Id/W in A/m\":1.994017045944929e-3},{\"gm/Id in 1/V\":27.17092514038086,\"Lines\":\"Observation\",\"Id/W in A/m\":5.01624948810786e-4},{\"gm/Id in 1/V\":27.17092514038086,\"Lines\":\"Prediction\",\"Id/W in A/m\":5.928654572926462e-4},{\"gm/Id in 1/V\":29.272226333618164,\"Lines\":\"Observation\",\"Id/W in A/m\":1.221240236191079e-4},{\"gm/Id in 1/V\":29.272226333618164,\"Lines\":\"Prediction\",\"Id/W in A/m\":3.433318852330558e-5},{\"gm/Id in 1/V\":30.583337783813477,\"Lines\":\"Observation\",\"Id/W in A/m\":2.744432094914373e-5},{\"gm/Id in 1/V\":30.583337783813477,\"Lines\":\"Prediction\",\"Id/W in A/m\":2.0500760001596063e-5},{\"gm/Id in 1/V\":31.279285430908203,\"Lines\":\"Observation\",\"Id/W in A/m\":6.0173001656949054e-6},{\"gm/Id in 1/V\":31.279285430908203,\"Lines\":\"Prediction\",\"Id/W in A/m\":2.987565721923602e-6},{\"gm/Id in 1/V\":31.618244171142578,\"Lines\":\"Observation\",\"Id/W in A/m\":1.4325858046504436e-6},{\"gm/Id in 1/V\":31.618244171142578,\"Lines\":\"Prediction\",\"Id/W in A/m\":1.1368063042027643e-6},{\"gm/Id in 1/V\":31.776527404785156,\"Lines\":\"Observation\",\"Id/W in A/m\":4.791369292433956e-7},{\"gm/Id in 1/V\":31.776527404785156,\"Lines\":\"Prediction\",\"Id/W in A/m\":7.458059485543345e-7}]},\"width\":300,\"$schema\":\"https://vega.github.io/schema/vega-lite/v4.json\",\"encoding\":{\"color\":{\"field\":\"Lines\",\"type\":\"nominal\"},\"x\":{\"field\":\"gm/Id in 1/V\",\"type\":\"quantitative\",\"axis\":{\"values\":[0.7147243618965149,0.7828617095947266,0.8589791655540466,0.9443493485450745,1.0404001474380493,1.1485852003097534,1.2700321674346924,1.4048302173614502,1.551151156425476,1.7054119110107422,1.8648489713668823,2.0304999351501465,2.2070300579071045,2.400665760040283,2.6181492805480957,2.8670084476470947,3.1564273834228516,3.498457431793213,3.9097137451171875,4.413917541503906,5.045819282531738,5.8571038246154785,6.9242424964904785,8.354765892028809,10.275994300842285,12.761174201965332,15.639144897460938,18.349336624145508,20.416431427001953,22.254228591918945,24.578216552734375,27.17092514038086,29.272226333618164,30.583337783813477,31.279285430908203,31.618244171142578,31.776527404785156]}},\"y\":{\"field\":\"Id/W in A/m\",\"scale\":{\"type\":\"log\"},\"type\":\"quantitative\"}}}).then(function (result) { console.log(result); }).catch(function (error) { ndiv.innerHTML = 'There was an error: ' + error; });});"
      ]
     },
     "metadata": {},
     "output_type": "display_data"
    },
    {
     "data": {
      "application/javascript": [
       "requirejs.config({baseUrl: 'https://cdn.jsdelivr.net/npm/',paths: {'vega-embed': 'vega-embed@6?noext','vega-lib': 'vega-lib?noext','vega-lite': 'vega-lite@4?noext','vega': 'vega@5?noext'}});var ndiv = document.createElement('div');ndiv.innerHTML = 'Awesome Vega-Lite visualization to appear here';element[0].appendChild(ndiv);require(['vega-embed'],function(vegaEmbed){vegaEmbed(ndiv,{\"height\":200,\"mark\":\"line\",\"data\":{\"values\":[{\"gm/Id in 1/V\":0.7147243618965149,\"Lines\":\"Observation\",\"gds/W in S/m\":7.009732723236084},{\"gm/Id in 1/V\":0.7147243618965149,\"Lines\":\"Prediction\",\"gds/W in S/m\":6.073348522186279},{\"gm/Id in 1/V\":0.7828617095947266,\"Lines\":\"Observation\",\"gds/W in S/m\":6.326054096221924},{\"gm/Id in 1/V\":0.7828617095947266,\"Lines\":\"Prediction\",\"gds/W in S/m\":4.982943058013916},{\"gm/Id in 1/V\":0.8589791655540466,\"Lines\":\"Observation\",\"gds/W in S/m\":5.616969108581543},{\"gm/Id in 1/V\":0.8589791655540466,\"Lines\":\"Prediction\",\"gds/W in S/m\":4.209628105163574},{\"gm/Id in 1/V\":0.9443493485450745,\"Lines\":\"Observation\",\"gds/W in S/m\":4.8851470947265625},{\"gm/Id in 1/V\":0.9443493485450745,\"Lines\":\"Prediction\",\"gds/W in S/m\":3.5261929035186768},{\"gm/Id in 1/V\":1.0404001474380493,\"Lines\":\"Observation\",\"gds/W in S/m\":4.13572883605957},{\"gm/Id in 1/V\":1.0404001474380493,\"Lines\":\"Prediction\",\"gds/W in S/m\":2.9621119499206543},{\"gm/Id in 1/V\":1.1485852003097534,\"Lines\":\"Observation\",\"gds/W in S/m\":3.3784031867980957},{\"gm/Id in 1/V\":1.1485852003097534,\"Lines\":\"Prediction\",\"gds/W in S/m\":2.4226021766662598},{\"gm/Id in 1/V\":1.2700321674346924,\"Lines\":\"Observation\",\"gds/W in S/m\":2.6310174465179443},{\"gm/Id in 1/V\":1.2700321674346924,\"Lines\":\"Prediction\",\"gds/W in S/m\":1.8836266994476318},{\"gm/Id in 1/V\":1.4048302173614502,\"Lines\":\"Observation\",\"gds/W in S/m\":1.924386978149414},{\"gm/Id in 1/V\":1.4048302173614502,\"Lines\":\"Prediction\",\"gds/W in S/m\":1.4162291288375854},{\"gm/Id in 1/V\":1.551151156425476,\"Lines\":\"Observation\",\"gds/W in S/m\":1.3038091659545898},{\"gm/Id in 1/V\":1.551151156425476,\"Lines\":\"Prediction\",\"gds/W in S/m\":1.0083926916122437},{\"gm/Id in 1/V\":1.7054119110107422,\"Lines\":\"Observation\",\"gds/W in S/m\":0.8162392377853394},{\"gm/Id in 1/V\":1.7054119110107422,\"Lines\":\"Prediction\",\"gds/W in S/m\":0.7053472399711609},{\"gm/Id in 1/V\":1.8648489713668823,\"Lines\":\"Observation\",\"gds/W in S/m\":0.4814210534095764},{\"gm/Id in 1/V\":1.8648489713668823,\"Lines\":\"Prediction\",\"gds/W in S/m\":0.5170396566390991},{\"gm/Id in 1/V\":2.0304999351501465,\"Lines\":\"Observation\",\"gds/W in S/m\":0.27757638692855835},{\"gm/Id in 1/V\":2.0304999351501465,\"Lines\":\"Prediction\",\"gds/W in S/m\":0.35231199860572815},{\"gm/Id in 1/V\":2.2070300579071045,\"Lines\":\"Observation\",\"gds/W in S/m\":0.1622122824192047},{\"gm/Id in 1/V\":2.2070300579071045,\"Lines\":\"Prediction\",\"gds/W in S/m\":0.19693027436733246},{\"gm/Id in 1/V\":2.400665760040283,\"Lines\":\"Observation\",\"gds/W in S/m\":9.829211980104446e-2},{\"gm/Id in 1/V\":2.400665760040283,\"Lines\":\"Prediction\",\"gds/W in S/m\":0.1066499799489975},{\"gm/Id in 1/V\":2.6181492805480957,\"Lines\":\"Observation\",\"gds/W in S/m\":6.234654411673546e-2},{\"gm/Id in 1/V\":2.6181492805480957,\"Lines\":\"Prediction\",\"gds/W in S/m\":6.693893671035767e-2},{\"gm/Id in 1/V\":2.8670084476470947,\"Lines\":\"Observation\",\"gds/W in S/m\":4.144399240612984e-2},{\"gm/Id in 1/V\":2.8670084476470947,\"Lines\":\"Prediction\",\"gds/W in S/m\":4.0283866226673126e-2},{\"gm/Id in 1/V\":3.1564273834228516,\"Lines\":\"Observation\",\"gds/W in S/m\":2.8777599334716797e-2},{\"gm/Id in 1/V\":3.1564273834228516,\"Lines\":\"Prediction\",\"gds/W in S/m\":2.580784447491169e-2},{\"gm/Id in 1/V\":3.498457431793213,\"Lines\":\"Observation\",\"gds/W in S/m\":2.0757654681801796e-2},{\"gm/Id in 1/V\":3.498457431793213,\"Lines\":\"Prediction\",\"gds/W in S/m\":1.778888702392578e-2},{\"gm/Id in 1/V\":3.9097137451171875,\"Lines\":\"Observation\",\"gds/W in S/m\":1.544598862528801e-2},{\"gm/Id in 1/V\":3.9097137451171875,\"Lines\":\"Prediction\",\"gds/W in S/m\":1.2905986048281193e-2},{\"gm/Id in 1/V\":4.413917541503906,\"Lines\":\"Observation\",\"gds/W in S/m\":1.1762481182813644e-2},{\"gm/Id in 1/V\":4.413917541503906,\"Lines\":\"Prediction\",\"gds/W in S/m\":9.993260726332664e-3},{\"gm/Id in 1/V\":5.045819282531738,\"Lines\":\"Observation\",\"gds/W in S/m\":9.084994904696941e-3},{\"gm/Id in 1/V\":5.045819282531738,\"Lines\":\"Prediction\",\"gds/W in S/m\":8.146028034389019e-3},{\"gm/Id in 1/V\":5.8571038246154785,\"Lines\":\"Observation\",\"gds/W in S/m\":7.044043391942978e-3},{\"gm/Id in 1/V\":5.8571038246154785,\"Lines\":\"Prediction\",\"gds/W in S/m\":6.777923088520765e-3},{\"gm/Id in 1/V\":6.9242424964904785,\"Lines\":\"Observation\",\"gds/W in S/m\":5.414869170635939e-3},{\"gm/Id in 1/V\":6.9242424964904785,\"Lines\":\"Prediction\",\"gds/W in S/m\":5.252032075077295e-3},{\"gm/Id in 1/V\":8.354765892028809,\"Lines\":\"Observation\",\"gds/W in S/m\":4.060221835970879e-3},{\"gm/Id in 1/V\":8.354765892028809,\"Lines\":\"Prediction\",\"gds/W in S/m\":3.7528222892433405e-3},{\"gm/Id in 1/V\":10.275994300842285,\"Lines\":\"Observation\",\"gds/W in S/m\":2.90232477709651e-3},{\"gm/Id in 1/V\":10.275994300842285,\"Lines\":\"Prediction\",\"gds/W in S/m\":2.605640795081854e-3},{\"gm/Id in 1/V\":12.761174201965332,\"Lines\":\"Observation\",\"gds/W in S/m\":1.914197113364935e-3},{\"gm/Id in 1/V\":12.761174201965332,\"Lines\":\"Prediction\",\"gds/W in S/m\":1.6323002055287361e-3},{\"gm/Id in 1/V\":15.639144897460938,\"Lines\":\"Observation\",\"gds/W in S/m\":1.1181028094142675e-3},{\"gm/Id in 1/V\":15.639144897460938,\"Lines\":\"Prediction\",\"gds/W in S/m\":9.737964137457311e-4},{\"gm/Id in 1/V\":18.349336624145508,\"Lines\":\"Observation\",\"gds/W in S/m\":5.592800443992019e-4},{\"gm/Id in 1/V\":18.349336624145508,\"Lines\":\"Prediction\",\"gds/W in S/m\":4.2915120138786733e-4},{\"gm/Id in 1/V\":20.416431427001953,\"Lines\":\"Observation\",\"gds/W in S/m\":2.3925826826598495e-4},{\"gm/Id in 1/V\":20.416431427001953,\"Lines\":\"Prediction\",\"gds/W in S/m\":2.1903582091908902e-4},{\"gm/Id in 1/V\":22.254228591918945,\"Lines\":\"Observation\",\"gds/W in S/m\":8.96752899279818e-5},{\"gm/Id in 1/V\":22.254228591918945,\"Lines\":\"Prediction\",\"gds/W in S/m\":8.951655036071315e-5},{\"gm/Id in 1/V\":24.578216552734375,\"Lines\":\"Observation\",\"gds/W in S/m\":2.9626209652633406e-5},{\"gm/Id in 1/V\":24.578216552734375,\"Lines\":\"Prediction\",\"gds/W in S/m\":2.3452168534277007e-5},{\"gm/Id in 1/V\":27.17092514038086,\"Lines\":\"Observation\",\"gds/W in S/m\":8.498477654939052e-6},{\"gm/Id in 1/V\":27.17092514038086,\"Lines\":\"Prediction\",\"gds/W in S/m\":5.354709628591081e-6},{\"gm/Id in 1/V\":29.272226333618164,\"Lines\":\"Observation\",\"gds/W in S/m\":2.130021130142268e-6},{\"gm/Id in 1/V\":29.272226333618164,\"Lines\":\"Prediction\",\"gds/W in S/m\":7.865169209253509e-6},{\"gm/Id in 1/V\":30.583337783813477,\"Lines\":\"Observation\",\"gds/W in S/m\":4.838954623664904e-7},{\"gm/Id in 1/V\":30.583337783813477,\"Lines\":\"Prediction\",\"gds/W in S/m\":5.202353463573672e-7},{\"gm/Id in 1/V\":31.279285430908203,\"Lines\":\"Observation\",\"gds/W in S/m\":1.0377804215977449e-7},{\"gm/Id in 1/V\":31.279285430908203,\"Lines\":\"Prediction\",\"gds/W in S/m\":9.376415022188667e-8},{\"gm/Id in 1/V\":31.618244171142578,\"Lines\":\"Observation\",\"gds/W in S/m\":2.160765255609931e-8},{\"gm/Id in 1/V\":31.618244171142578,\"Lines\":\"Prediction\",\"gds/W in S/m\":2.788371489259589e-8},{\"gm/Id in 1/V\":31.776527404785156,\"Lines\":\"Observation\",\"gds/W in S/m\":4.435562139804006e-9},{\"gm/Id in 1/V\":31.776527404785156,\"Lines\":\"Prediction\",\"gds/W in S/m\":2.7997959506365078e-9}]},\"width\":300,\"$schema\":\"https://vega.github.io/schema/vega-lite/v4.json\",\"encoding\":{\"color\":{\"field\":\"Lines\",\"type\":\"nominal\"},\"x\":{\"field\":\"gm/Id in 1/V\",\"type\":\"quantitative\",\"axis\":{\"values\":[0.7147243618965149,0.7828617095947266,0.8589791655540466,0.9443493485450745,1.0404001474380493,1.1485852003097534,1.2700321674346924,1.4048302173614502,1.551151156425476,1.7054119110107422,1.8648489713668823,2.0304999351501465,2.2070300579071045,2.400665760040283,2.6181492805480957,2.8670084476470947,3.1564273834228516,3.498457431793213,3.9097137451171875,4.413917541503906,5.045819282531738,5.8571038246154785,6.9242424964904785,8.354765892028809,10.275994300842285,12.761174201965332,15.639144897460938,18.349336624145508,20.416431427001953,22.254228591918945,24.578216552734375,27.17092514038086,29.272226333618164,30.583337783813477,31.279285430908203,31.618244171142578,31.776527404785156]}},\"y\":{\"field\":\"gds/W in S/m\",\"scale\":{\"type\":\"log\"},\"type\":\"quantitative\"}}}).then(function (result) { console.log(result); }).catch(function (error) { ndiv.innerHTML = 'There was an error: ' + error; });});"
      ]
     },
     "metadata": {},
     "output_type": "display_data"
    },
    {
     "data": {
      "application/javascript": [
       "requirejs.config({baseUrl: 'https://cdn.jsdelivr.net/npm/',paths: {'vega-embed': 'vega-embed@6?noext','vega-lib': 'vega-lib?noext','vega-lite': 'vega-lite@4?noext','vega': 'vega@5?noext'}});var ndiv = document.createElement('div');ndiv.innerHTML = 'Awesome Vega-Lite visualization to appear here';element[0].appendChild(ndiv);require(['vega-embed'],function(vegaEmbed){vegaEmbed(ndiv,{\"height\":200,\"mark\":\"line\",\"data\":{\"values\":[{\"gm/Id in 1/V\":0.7147243618965149,\"Lines\":\"Observation\",\"L in m\":1.4999999621068127e-5},{\"gm/Id in 1/V\":0.7147243618965149,\"Lines\":\"Prediction\",\"L in m\":1.377514490741305e-5},{\"gm/Id in 1/V\":0.7828617095947266,\"Lines\":\"Observation\",\"L in m\":1.4999999621068127e-5},{\"gm/Id in 1/V\":0.7828617095947266,\"Lines\":\"Prediction\",\"L in m\":1.377514490741305e-5},{\"gm/Id in 1/V\":0.8589791655540466,\"Lines\":\"Observation\",\"L in m\":1.4999999621068127e-5},{\"gm/Id in 1/V\":0.8589791655540466,\"Lines\":\"Prediction\",\"L in m\":1.377514490741305e-5},{\"gm/Id in 1/V\":0.9443493485450745,\"Lines\":\"Observation\",\"L in m\":1.4999999621068127e-5},{\"gm/Id in 1/V\":0.9443493485450745,\"Lines\":\"Prediction\",\"L in m\":1.377514490741305e-5},{\"gm/Id in 1/V\":1.0404001474380493,\"Lines\":\"Observation\",\"L in m\":1.4999999621068127e-5},{\"gm/Id in 1/V\":1.0404001474380493,\"Lines\":\"Prediction\",\"L in m\":1.377514490741305e-5},{\"gm/Id in 1/V\":1.1485852003097534,\"Lines\":\"Observation\",\"L in m\":1.4999999621068127e-5},{\"gm/Id in 1/V\":1.1485852003097534,\"Lines\":\"Prediction\",\"L in m\":1.377514490741305e-5},{\"gm/Id in 1/V\":1.2700321674346924,\"Lines\":\"Observation\",\"L in m\":1.4999999621068127e-5},{\"gm/Id in 1/V\":1.2700321674346924,\"Lines\":\"Prediction\",\"L in m\":1.377514490741305e-5},{\"gm/Id in 1/V\":1.4048302173614502,\"Lines\":\"Observation\",\"L in m\":1.4999999621068127e-5},{\"gm/Id in 1/V\":1.4048302173614502,\"Lines\":\"Prediction\",\"L in m\":1.377514490741305e-5},{\"gm/Id in 1/V\":1.551151156425476,\"Lines\":\"Observation\",\"L in m\":1.4999999621068127e-5},{\"gm/Id in 1/V\":1.551151156425476,\"Lines\":\"Prediction\",\"L in m\":1.377514490741305e-5},{\"gm/Id in 1/V\":1.7054119110107422,\"Lines\":\"Observation\",\"L in m\":1.4999999621068127e-5},{\"gm/Id in 1/V\":1.7054119110107422,\"Lines\":\"Prediction\",\"L in m\":1.377514490741305e-5},{\"gm/Id in 1/V\":1.8648489713668823,\"Lines\":\"Observation\",\"L in m\":1.4999999621068127e-5},{\"gm/Id in 1/V\":1.8648489713668823,\"Lines\":\"Prediction\",\"L in m\":1.377514490741305e-5},{\"gm/Id in 1/V\":2.0304999351501465,\"Lines\":\"Observation\",\"L in m\":1.4999999621068127e-5},{\"gm/Id in 1/V\":2.0304999351501465,\"Lines\":\"Prediction\",\"L in m\":1.377514490741305e-5},{\"gm/Id in 1/V\":2.2070300579071045,\"Lines\":\"Observation\",\"L in m\":1.4999999621068127e-5},{\"gm/Id in 1/V\":2.2070300579071045,\"Lines\":\"Prediction\",\"L in m\":1.377514490741305e-5},{\"gm/Id in 1/V\":2.400665760040283,\"Lines\":\"Observation\",\"L in m\":1.4999999621068127e-5},{\"gm/Id in 1/V\":2.400665760040283,\"Lines\":\"Prediction\",\"L in m\":1.377514490741305e-5},{\"gm/Id in 1/V\":2.6181492805480957,\"Lines\":\"Observation\",\"L in m\":1.4999999621068127e-5},{\"gm/Id in 1/V\":2.6181492805480957,\"Lines\":\"Prediction\",\"L in m\":1.377514490741305e-5},{\"gm/Id in 1/V\":2.8670084476470947,\"Lines\":\"Observation\",\"L in m\":1.4999999621068127e-5},{\"gm/Id in 1/V\":2.8670084476470947,\"Lines\":\"Prediction\",\"L in m\":1.377514490741305e-5},{\"gm/Id in 1/V\":3.1564273834228516,\"Lines\":\"Observation\",\"L in m\":1.4999999621068127e-5},{\"gm/Id in 1/V\":3.1564273834228516,\"Lines\":\"Prediction\",\"L in m\":1.377514490741305e-5},{\"gm/Id in 1/V\":3.498457431793213,\"Lines\":\"Observation\",\"L in m\":1.4999999621068127e-5},{\"gm/Id in 1/V\":3.498457431793213,\"Lines\":\"Prediction\",\"L in m\":1.377514490741305e-5},{\"gm/Id in 1/V\":3.9097137451171875,\"Lines\":\"Observation\",\"L in m\":1.4999999621068127e-5},{\"gm/Id in 1/V\":3.9097137451171875,\"Lines\":\"Prediction\",\"L in m\":1.377514490741305e-5},{\"gm/Id in 1/V\":4.413917541503906,\"Lines\":\"Observation\",\"L in m\":1.4999999621068127e-5},{\"gm/Id in 1/V\":4.413917541503906,\"Lines\":\"Prediction\",\"L in m\":1.377514490741305e-5},{\"gm/Id in 1/V\":5.045819282531738,\"Lines\":\"Observation\",\"L in m\":1.4999999621068127e-5},{\"gm/Id in 1/V\":5.045819282531738,\"Lines\":\"Prediction\",\"L in m\":1.377514490741305e-5},{\"gm/Id in 1/V\":5.8571038246154785,\"Lines\":\"Observation\",\"L in m\":1.4999999621068127e-5},{\"gm/Id in 1/V\":5.8571038246154785,\"Lines\":\"Prediction\",\"L in m\":1.377514490741305e-5},{\"gm/Id in 1/V\":6.9242424964904785,\"Lines\":\"Observation\",\"L in m\":1.4999999621068127e-5},{\"gm/Id in 1/V\":6.9242424964904785,\"Lines\":\"Prediction\",\"L in m\":1.377514490741305e-5},{\"gm/Id in 1/V\":8.354765892028809,\"Lines\":\"Observation\",\"L in m\":1.4999999621068127e-5},{\"gm/Id in 1/V\":8.354765892028809,\"Lines\":\"Prediction\",\"L in m\":1.377514490741305e-5},{\"gm/Id in 1/V\":10.275994300842285,\"Lines\":\"Observation\",\"L in m\":1.4999999621068127e-5},{\"gm/Id in 1/V\":10.275994300842285,\"Lines\":\"Prediction\",\"L in m\":1.377514490741305e-5},{\"gm/Id in 1/V\":12.761174201965332,\"Lines\":\"Observation\",\"L in m\":1.4999999621068127e-5},{\"gm/Id in 1/V\":12.761174201965332,\"Lines\":\"Prediction\",\"L in m\":1.377514490741305e-5},{\"gm/Id in 1/V\":15.639144897460938,\"Lines\":\"Observation\",\"L in m\":1.4999999621068127e-5},{\"gm/Id in 1/V\":15.639144897460938,\"Lines\":\"Prediction\",\"L in m\":1.377514490741305e-5},{\"gm/Id in 1/V\":18.349336624145508,\"Lines\":\"Observation\",\"L in m\":1.4999999621068127e-5},{\"gm/Id in 1/V\":18.349336624145508,\"Lines\":\"Prediction\",\"L in m\":1.377514490741305e-5},{\"gm/Id in 1/V\":20.416431427001953,\"Lines\":\"Observation\",\"L in m\":1.4999999621068127e-5},{\"gm/Id in 1/V\":20.416431427001953,\"Lines\":\"Prediction\",\"L in m\":1.377514490741305e-5},{\"gm/Id in 1/V\":22.254228591918945,\"Lines\":\"Observation\",\"L in m\":1.4999999621068127e-5},{\"gm/Id in 1/V\":22.254228591918945,\"Lines\":\"Prediction\",\"L in m\":1.377514490741305e-5},{\"gm/Id in 1/V\":24.578216552734375,\"Lines\":\"Observation\",\"L in m\":1.4999999621068127e-5},{\"gm/Id in 1/V\":24.578216552734375,\"Lines\":\"Prediction\",\"L in m\":1.377514490741305e-5},{\"gm/Id in 1/V\":27.17092514038086,\"Lines\":\"Observation\",\"L in m\":1.4999999621068127e-5},{\"gm/Id in 1/V\":27.17092514038086,\"Lines\":\"Prediction\",\"L in m\":1.377514490741305e-5},{\"gm/Id in 1/V\":29.272226333618164,\"Lines\":\"Observation\",\"L in m\":1.4999999621068127e-5},{\"gm/Id in 1/V\":29.272226333618164,\"Lines\":\"Prediction\",\"L in m\":1.377514490741305e-5},{\"gm/Id in 1/V\":30.583337783813477,\"Lines\":\"Observation\",\"L in m\":1.4999999621068127e-5},{\"gm/Id in 1/V\":30.583337783813477,\"Lines\":\"Prediction\",\"L in m\":1.377514490741305e-5},{\"gm/Id in 1/V\":31.279285430908203,\"Lines\":\"Observation\",\"L in m\":1.4999999621068127e-5},{\"gm/Id in 1/V\":31.279285430908203,\"Lines\":\"Prediction\",\"L in m\":1.377514490741305e-5},{\"gm/Id in 1/V\":31.618244171142578,\"Lines\":\"Observation\",\"L in m\":1.4999999621068127e-5},{\"gm/Id in 1/V\":31.618244171142578,\"Lines\":\"Prediction\",\"L in m\":1.377514490741305e-5},{\"gm/Id in 1/V\":31.776527404785156,\"Lines\":\"Observation\",\"L in m\":1.4999999621068127e-5},{\"gm/Id in 1/V\":31.776527404785156,\"Lines\":\"Prediction\",\"L in m\":1.377514490741305e-5}]},\"width\":300,\"$schema\":\"https://vega.github.io/schema/vega-lite/v4.json\",\"encoding\":{\"color\":{\"field\":\"Lines\",\"type\":\"nominal\"},\"x\":{\"field\":\"gm/Id in 1/V\",\"type\":\"quantitative\",\"axis\":{\"values\":[0.7147243618965149,0.7828617095947266,0.8589791655540466,0.9443493485450745,1.0404001474380493,1.1485852003097534,1.2700321674346924,1.4048302173614502,1.551151156425476,1.7054119110107422,1.8648489713668823,2.0304999351501465,2.2070300579071045,2.400665760040283,2.6181492805480957,2.8670084476470947,3.1564273834228516,3.498457431793213,3.9097137451171875,4.413917541503906,5.045819282531738,5.8571038246154785,6.9242424964904785,8.354765892028809,10.275994300842285,12.761174201965332,15.639144897460938,18.349336624145508,20.416431427001953,22.254228591918945,24.578216552734375,27.17092514038086,29.272226333618164,30.583337783813477,31.279285430908203,31.618244171142578,31.776527404785156]}},\"y\":{\"field\":\"L in m\",\"scale\":{\"type\":\"log\"},\"type\":\"quantitative\"}}}).then(function (result) { console.log(result); }).catch(function (error) { ndiv.innerHTML = 'There was an error: ' + error; });});"
      ]
     },
     "metadata": {},
     "output_type": "display_data"
    }
   ],
   "source": [
    "toVegaLite [ idDat [] \n",
    "           , mark Line []\n",
    "           , enc1 []\n",
    "           , height 200\n",
    "           , width 300 ]\n",
    "\n",
    "toVegaLite [ gdsDat [] \n",
    "           , mark Line []\n",
    "           , enc2 []\n",
    "           , height 200\n",
    "           , width 300 ]\n",
    "\n",
    "toVegaLite [ lDat [] \n",
    "           , mark Line []\n",
    "           , enc3 []\n",
    "           , height 200\n",
    "           , width 300 ]"
   ]
  }
 ],
 "metadata": {
  "kernelspec": {
   "display_name": "Haskell",
   "language": "haskell",
   "name": "haskell"
  },
  "language_info": {
   "codemirror_mode": "ihaskell",
   "file_extension": ".hs",
   "mimetype": "text/x-haskell",
   "name": "haskell",
   "pygments_lexer": "Haskell",
   "version": "8.10.4"
  }
 },
 "nbformat": 4,
 "nbformat_minor": 5
}
