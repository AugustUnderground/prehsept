{
 "cells": [
  {
   "cell_type": "code",
   "execution_count": 1,
   "id": "55cc9626",
   "metadata": {},
   "outputs": [],
   "source": [
    "library(torch)"
   ]
  },
  {
   "cell_type": "markdown",
   "id": "047e57e6",
   "metadata": {},
   "source": [
    "## Data Sharing\n",
    "\n",
    "**NOT SUPPORTED**\n",
    "\n",
    "https://github.com/mlverse/torch/issues/583\n",
    "\n",
    "This is to demonstrate data sharing between rtorch and hasktorch through tensors. We start by Storing a tensor from R."
   ]
  },
  {
   "cell_type": "code",
   "execution_count": 2,
   "id": "629ff110",
   "metadata": {},
   "outputs": [],
   "source": [
    "t = torch_rand(c(5,5))"
   ]
  },
  {
   "cell_type": "markdown",
   "id": "b9759928",
   "metadata": {},
   "source": [
    "This is what `t` looks like:"
   ]
  },
  {
   "cell_type": "code",
   "execution_count": 3,
   "id": "47e56458",
   "metadata": {},
   "outputs": [
    {
     "data": {
      "text/plain": [
       "torch_tensor\n",
       " 0.1045  0.1131  0.4084  0.9047  0.4266\n",
       " 0.1279  0.8464  0.1909  0.9972  0.7031\n",
       " 0.4884  0.8889  0.9050  0.3958  0.2098\n",
       " 0.7634  0.4385  0.5629  0.0908  0.4324\n",
       " 0.2915  0.3396  0.0212  0.9273  0.0767\n",
       "[ CPUFloatType{5,5} ]"
      ]
     },
     "metadata": {},
     "output_type": "display_data"
    }
   ],
   "source": [
    "t"
   ]
  },
  {
   "cell_type": "markdown",
   "id": "0e62c08a",
   "metadata": {},
   "source": [
    "Now we're saving this tensor. Checkout ./notebooks/haskell_demo.ipynb to see how to load it in haskell."
   ]
  },
  {
   "cell_type": "code",
   "execution_count": 9,
   "id": "72a85109",
   "metadata": {},
   "outputs": [],
   "source": [
    "torch_save(t, '../data/r.pt' )"
   ]
  },
  {
   "cell_type": "markdown",
   "id": "7944e1b9",
   "metadata": {},
   "source": [
    "In the haskell demo we've also saved a tensor and we're going to load it here:"
   ]
  },
  {
   "cell_type": "code",
   "execution_count": 8,
   "id": "3f439071",
   "metadata": {},
   "outputs": [
    {
     "ename": "ERROR",
     "evalue": "Error in readRDS(path): unknown input format\n",
     "output_type": "error",
     "traceback": [
      "Error in readRDS(path): unknown input format\nTraceback:\n",
      "1. torch_load(\"../data/python.pt\")",
      "2. readRDS(path)"
     ]
    }
   ],
   "source": [
    "$t_ = torch_load(\"../data/python.pt\")"
   ]
  },
  {
   "cell_type": "markdown",
   "id": "ec2287ae",
   "metadata": {},
   "source": [
    "And this is what `t_` looks like, feel free to compare it with `t` in `./notebooks/haskell_demo.ipynb`."
   ]
  },
  {
   "cell_type": "code",
   "execution_count": null,
   "id": "42483429",
   "metadata": {},
   "outputs": [],
   "source": [
    "t_"
   ]
  },
  {
   "cell_type": "code",
   "execution_count": 6,
   "id": "a6254b72",
   "metadata": {},
   "outputs": [
    {
     "data": {
      "text/html": [
       "'/home/uhlmanny/R/x86_64-redhat-linux-gnu-library/4.1/torch'"
      ],
      "text/latex": [
       "'/home/uhlmanny/R/x86\\_64-redhat-linux-gnu-library/4.1/torch'"
      ],
      "text/markdown": [
       "'/home/uhlmanny/R/x86_64-redhat-linux-gnu-library/4.1/torch'"
      ],
      "text/plain": [
       "[1] \"/home/uhlmanny/R/x86_64-redhat-linux-gnu-library/4.1/torch\""
      ]
     },
     "metadata": {},
     "output_type": "display_data"
    }
   ],
   "source": [
    "torch_install_path()"
   ]
  },
  {
   "cell_type": "code",
   "execution_count": null,
   "id": "d3c32840",
   "metadata": {},
   "outputs": [],
   "source": []
  }
 ],
 "metadata": {
  "kernelspec": {
   "display_name": "R",
   "language": "R",
   "name": "ir"
  },
  "language_info": {
   "codemirror_mode": "r",
   "file_extension": ".r",
   "mimetype": "text/x-r-source",
   "name": "R",
   "pygments_lexer": "r",
   "version": "4.1.3"
  }
 },
 "nbformat": 4,
 "nbformat_minor": 5
}
